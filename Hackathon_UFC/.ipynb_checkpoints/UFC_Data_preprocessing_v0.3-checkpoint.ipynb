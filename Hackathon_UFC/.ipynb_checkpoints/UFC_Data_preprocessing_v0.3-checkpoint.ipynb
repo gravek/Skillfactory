{
 "cells": [
  {
   "cell_type": "code",
   "execution_count": 1,
   "metadata": {
    "pycharm": {
     "name": "#%%\n"
    }
   },
   "outputs": [],
   "source": [
    "import pandas as pd\n",
    "import json\n",
    "from pandas import json_normalize\n",
    "from tqdm import tqdm\n",
    "#from tqdm import tqdm_notebook as tqdm\n",
    "import numpy as np\n",
    "import ast\n",
    "\n",
    "\n",
    "pd.set_option('display.precision',6)\n",
    "pd.set_option('display.max_columns', None)\n",
    "pd.options.mode.chained_assignment = None"
   ]
  },
  {
   "cell_type": "code",
   "execution_count": 2,
   "metadata": {
    "pycharm": {
     "name": "#%%\n"
    }
   },
   "outputs": [],
   "source": [
    "PATH='C:/Projects_0/hack/UFC/'          #Local\n",
    "#PATH = ''                              #Kaggle"
   ]
  },
  {
   "cell_type": "code",
   "execution_count": 3,
   "metadata": {
    "pycharm": {
     "name": "#%%\n"
    }
   },
   "outputs": [],
   "source": [
    "#fighters_df = pd.read_csv(PATH+'data/0.fighters_raw.csv', index_col=0)\n",
    "fighters_df = pd.read_csv('data/0.fighters_raw.csv', index_col=0)\n",
    "fighters_df['dateOfBirth'] = pd.to_datetime(fighters_df['dateOfBirth'])\n",
    "fighters_df['birthYear'] = fighters_df['dateOfBirth'].dt.year\n",
    "use_cols = ['name', 'armSpan', 'city', 'country', 'dateOfBirth',\n",
    "            'height', 'legSwing', 'weight', 'timezone', 'weightCategory.name']"
   ]
  },
  {
   "cell_type": "code",
   "execution_count": 4,
   "metadata": {
    "pycharm": {
     "name": "#%%\n"
    }
   },
   "outputs": [
    {
     "data": {
      "text/html": [
       "<div>\n",
       "<style scoped>\n",
       "    .dataframe tbody tr th:only-of-type {\n",
       "        vertical-align: middle;\n",
       "    }\n",
       "\n",
       "    .dataframe tbody tr th {\n",
       "        vertical-align: top;\n",
       "    }\n",
       "\n",
       "    .dataframe thead th {\n",
       "        text-align: right;\n",
       "    }\n",
       "</style>\n",
       "<table border=\"1\" class=\"dataframe\">\n",
       "  <thead>\n",
       "    <tr style=\"text-align: right;\">\n",
       "      <th></th>\n",
       "      <th>241</th>\n",
       "      <th>281</th>\n",
       "      <th>405</th>\n",
       "      <th>441</th>\n",
       "      <th>475</th>\n",
       "      <th>484</th>\n",
       "      <th>618</th>\n",
       "      <th>628</th>\n",
       "      <th>686</th>\n",
       "      <th>1924</th>\n",
       "      <th>3414</th>\n",
       "      <th>3431</th>\n",
       "      <th>3457</th>\n",
       "    </tr>\n",
       "  </thead>\n",
       "  <tbody>\n",
       "    <tr>\n",
       "      <th>armSpan</th>\n",
       "      <td>177.8</td>\n",
       "      <td>165.1</td>\n",
       "      <td>172.72</td>\n",
       "      <td>177.8</td>\n",
       "      <td>170.18</td>\n",
       "      <td>165.1</td>\n",
       "      <td>167.64</td>\n",
       "      <td>175.26</td>\n",
       "      <td>175.26</td>\n",
       "      <td>170.18</td>\n",
       "      <td>NaN</td>\n",
       "      <td>177.8</td>\n",
       "      <td>NaN</td>\n",
       "    </tr>\n",
       "    <tr>\n",
       "      <th>avgFightTime</th>\n",
       "      <td>13:18</td>\n",
       "      <td>09:00</td>\n",
       "      <td>12:07</td>\n",
       "      <td>07:09</td>\n",
       "      <td>11:58</td>\n",
       "      <td>12:08</td>\n",
       "      <td>12:40</td>\n",
       "      <td>00:00</td>\n",
       "      <td>15:00</td>\n",
       "      <td>NaN</td>\n",
       "      <td>NaN</td>\n",
       "      <td>NaN</td>\n",
       "      <td>NaN</td>\n",
       "    </tr>\n",
       "    <tr>\n",
       "      <th>city</th>\n",
       "      <td>Tijuana</td>\n",
       "      <td>Hanford</td>\n",
       "      <td>NaN</td>\n",
       "      <td>NaN</td>\n",
       "      <td>Rio de Janeiro</td>\n",
       "      <td>San Antonio</td>\n",
       "      <td>Kansas City</td>\n",
       "      <td>NaN</td>\n",
       "      <td>NaN</td>\n",
       "      <td>NaN</td>\n",
       "      <td>NaN</td>\n",
       "      <td>NaN</td>\n",
       "      <td>NaN</td>\n",
       "    </tr>\n",
       "    <tr>\n",
       "      <th>country</th>\n",
       "      <td>Mexico</td>\n",
       "      <td>United States</td>\n",
       "      <td>Brazil</td>\n",
       "      <td>United States</td>\n",
       "      <td>Brazil</td>\n",
       "      <td>United States</td>\n",
       "      <td>United States</td>\n",
       "      <td>Brazil</td>\n",
       "      <td>New Zealand</td>\n",
       "      <td>Russia</td>\n",
       "      <td>NaN</td>\n",
       "      <td>NaN</td>\n",
       "      <td>NaN</td>\n",
       "    </tr>\n",
       "    <tr>\n",
       "      <th>dateOfBirth</th>\n",
       "      <td>1993-12-07 00:00:00</td>\n",
       "      <td>1992-03-21 00:00:00</td>\n",
       "      <td>1987-12-18 00:00:00</td>\n",
       "      <td>1990-01-15 00:00:00</td>\n",
       "      <td>1990-04-16 00:00:00</td>\n",
       "      <td>1984-07-31 00:00:00</td>\n",
       "      <td>1986-12-24 00:00:00</td>\n",
       "      <td>1995-10-17 00:00:00</td>\n",
       "      <td>1993-03-26 00:00:00</td>\n",
       "      <td>1992-10-09 00:00:00</td>\n",
       "      <td>1970-01-01 00:00:00</td>\n",
       "      <td>1992-08-16 00:00:00</td>\n",
       "      <td>1993-10-27 00:00:00</td>\n",
       "    </tr>\n",
       "    <tr>\n",
       "      <th>disciplines</th>\n",
       "      <td>[]</td>\n",
       "      <td>[]</td>\n",
       "      <td>[]</td>\n",
       "      <td>[]</td>\n",
       "      <td>[]</td>\n",
       "      <td>[]</td>\n",
       "      <td>[]</td>\n",
       "      <td>[]</td>\n",
       "      <td>[]</td>\n",
       "      <td>[]</td>\n",
       "      <td>[]</td>\n",
       "      <td>[]</td>\n",
       "      <td>[]</td>\n",
       "    </tr>\n",
       "    <tr>\n",
       "      <th>draws</th>\n",
       "      <td>1</td>\n",
       "      <td>0</td>\n",
       "      <td>0</td>\n",
       "      <td>0</td>\n",
       "      <td>0</td>\n",
       "      <td>0</td>\n",
       "      <td>1</td>\n",
       "      <td>0</td>\n",
       "      <td>0</td>\n",
       "      <td>1</td>\n",
       "      <td>0</td>\n",
       "      <td>0</td>\n",
       "      <td>0</td>\n",
       "    </tr>\n",
       "    <tr>\n",
       "      <th>height</th>\n",
       "      <td>170.18</td>\n",
       "      <td>167.64</td>\n",
       "      <td>165.1</td>\n",
       "      <td>172.72</td>\n",
       "      <td>165.1</td>\n",
       "      <td>162.56</td>\n",
       "      <td>170.18</td>\n",
       "      <td>172.72</td>\n",
       "      <td>162.56</td>\n",
       "      <td>167.64</td>\n",
       "      <td>165.1</td>\n",
       "      <td>175.26</td>\n",
       "      <td>165.1</td>\n",
       "    </tr>\n",
       "    <tr>\n",
       "      <th>id</th>\n",
       "      <td>242</td>\n",
       "      <td>282</td>\n",
       "      <td>406</td>\n",
       "      <td>442</td>\n",
       "      <td>476</td>\n",
       "      <td>485</td>\n",
       "      <td>619</td>\n",
       "      <td>629</td>\n",
       "      <td>687</td>\n",
       "      <td>1932</td>\n",
       "      <td>3423</td>\n",
       "      <td>3440</td>\n",
       "      <td>3466</td>\n",
       "    </tr>\n",
       "    <tr>\n",
       "      <th>knockdownsPerFight</th>\n",
       "      <td>0.23</td>\n",
       "      <td>0.33</td>\n",
       "      <td>1.03</td>\n",
       "      <td>0.0</td>\n",
       "      <td>0.25</td>\n",
       "      <td>0.36</td>\n",
       "      <td>0.12</td>\n",
       "      <td>0.0</td>\n",
       "      <td>0.5</td>\n",
       "      <td>0.0</td>\n",
       "      <td>NaN</td>\n",
       "      <td>NaN</td>\n",
       "      <td>NaN</td>\n",
       "    </tr>\n",
       "    <tr>\n",
       "      <th>legSwing</th>\n",
       "      <td>96.52</td>\n",
       "      <td>96.52</td>\n",
       "      <td>96.52</td>\n",
       "      <td>96.52</td>\n",
       "      <td>91.44</td>\n",
       "      <td>91.44</td>\n",
       "      <td>96.52</td>\n",
       "      <td>NaN</td>\n",
       "      <td>NaN</td>\n",
       "      <td>NaN</td>\n",
       "      <td>NaN</td>\n",
       "      <td>NaN</td>\n",
       "      <td>NaN</td>\n",
       "    </tr>\n",
       "    <tr>\n",
       "      <th>looses</th>\n",
       "      <td>5</td>\n",
       "      <td>5</td>\n",
       "      <td>1</td>\n",
       "      <td>4</td>\n",
       "      <td>4</td>\n",
       "      <td>5</td>\n",
       "      <td>9</td>\n",
       "      <td>3</td>\n",
       "      <td>7</td>\n",
       "      <td>0</td>\n",
       "      <td>3</td>\n",
       "      <td>4</td>\n",
       "      <td>1</td>\n",
       "    </tr>\n",
       "    <tr>\n",
       "      <th>methods.looseMethods</th>\n",
       "      <td>NaN</td>\n",
       "      <td>NaN</td>\n",
       "      <td>NaN</td>\n",
       "      <td>NaN</td>\n",
       "      <td>NaN</td>\n",
       "      <td>NaN</td>\n",
       "      <td>NaN</td>\n",
       "      <td>NaN</td>\n",
       "      <td>NaN</td>\n",
       "      <td>[]</td>\n",
       "      <td>[]</td>\n",
       "      <td>NaN</td>\n",
       "      <td>[]</td>\n",
       "    </tr>\n",
       "    <tr>\n",
       "      <th>methods.looseMethods.DEC</th>\n",
       "      <td>5.0</td>\n",
       "      <td>NaN</td>\n",
       "      <td>1.0</td>\n",
       "      <td>1.0</td>\n",
       "      <td>4.0</td>\n",
       "      <td>5.0</td>\n",
       "      <td>5.0</td>\n",
       "      <td>2.0</td>\n",
       "      <td>5.0</td>\n",
       "      <td>NaN</td>\n",
       "      <td>NaN</td>\n",
       "      <td>NaN</td>\n",
       "      <td>NaN</td>\n",
       "    </tr>\n",
       "    <tr>\n",
       "      <th>methods.looseMethods.DQ</th>\n",
       "      <td>NaN</td>\n",
       "      <td>NaN</td>\n",
       "      <td>NaN</td>\n",
       "      <td>NaN</td>\n",
       "      <td>NaN</td>\n",
       "      <td>NaN</td>\n",
       "      <td>NaN</td>\n",
       "      <td>NaN</td>\n",
       "      <td>NaN</td>\n",
       "      <td>NaN</td>\n",
       "      <td>NaN</td>\n",
       "      <td>NaN</td>\n",
       "      <td>NaN</td>\n",
       "    </tr>\n",
       "    <tr>\n",
       "      <th>methods.looseMethods.KO</th>\n",
       "      <td>NaN</td>\n",
       "      <td>1.0</td>\n",
       "      <td>NaN</td>\n",
       "      <td>4.0</td>\n",
       "      <td>NaN</td>\n",
       "      <td>2.0</td>\n",
       "      <td>1.0</td>\n",
       "      <td>1.0</td>\n",
       "      <td>2.0</td>\n",
       "      <td>NaN</td>\n",
       "      <td>NaN</td>\n",
       "      <td>1.0</td>\n",
       "      <td>NaN</td>\n",
       "    </tr>\n",
       "    <tr>\n",
       "      <th>methods.looseMethods.SUB</th>\n",
       "      <td>2.0</td>\n",
       "      <td>2.0</td>\n",
       "      <td>NaN</td>\n",
       "      <td>2.0</td>\n",
       "      <td>NaN</td>\n",
       "      <td>1.0</td>\n",
       "      <td>5.0</td>\n",
       "      <td>1.0</td>\n",
       "      <td>3.0</td>\n",
       "      <td>NaN</td>\n",
       "      <td>NaN</td>\n",
       "      <td>NaN</td>\n",
       "      <td>NaN</td>\n",
       "    </tr>\n",
       "    <tr>\n",
       "      <th>methods.winMethods</th>\n",
       "      <td>NaN</td>\n",
       "      <td>NaN</td>\n",
       "      <td>NaN</td>\n",
       "      <td>NaN</td>\n",
       "      <td>NaN</td>\n",
       "      <td>NaN</td>\n",
       "      <td>NaN</td>\n",
       "      <td>NaN</td>\n",
       "      <td>NaN</td>\n",
       "      <td>NaN</td>\n",
       "      <td>NaN</td>\n",
       "      <td>NaN</td>\n",
       "      <td>NaN</td>\n",
       "    </tr>\n",
       "    <tr>\n",
       "      <th>methods.winMethods.DEC</th>\n",
       "      <td>5.0</td>\n",
       "      <td>3.0</td>\n",
       "      <td>3.0</td>\n",
       "      <td>4.0</td>\n",
       "      <td>4.0</td>\n",
       "      <td>12.0</td>\n",
       "      <td>10.0</td>\n",
       "      <td>13.0</td>\n",
       "      <td>10.0</td>\n",
       "      <td>3.0</td>\n",
       "      <td>1.0</td>\n",
       "      <td>NaN</td>\n",
       "      <td>1.0</td>\n",
       "    </tr>\n",
       "    <tr>\n",
       "      <th>methods.winMethods.DQ</th>\n",
       "      <td>NaN</td>\n",
       "      <td>NaN</td>\n",
       "      <td>NaN</td>\n",
       "      <td>NaN</td>\n",
       "      <td>NaN</td>\n",
       "      <td>NaN</td>\n",
       "      <td>NaN</td>\n",
       "      <td>NaN</td>\n",
       "      <td>NaN</td>\n",
       "      <td>NaN</td>\n",
       "      <td>NaN</td>\n",
       "      <td>NaN</td>\n",
       "      <td>NaN</td>\n",
       "    </tr>\n",
       "    <tr>\n",
       "      <th>methods.winMethods.KO</th>\n",
       "      <td>3.0</td>\n",
       "      <td>2.0</td>\n",
       "      <td>9.0</td>\n",
       "      <td>3.0</td>\n",
       "      <td>2.0</td>\n",
       "      <td>7.0</td>\n",
       "      <td>3.0</td>\n",
       "      <td>3.0</td>\n",
       "      <td>9.0</td>\n",
       "      <td>3.0</td>\n",
       "      <td>NaN</td>\n",
       "      <td>NaN</td>\n",
       "      <td>NaN</td>\n",
       "    </tr>\n",
       "    <tr>\n",
       "      <th>methods.winMethods.SUB</th>\n",
       "      <td>10.0</td>\n",
       "      <td>3.0</td>\n",
       "      <td>8.0</td>\n",
       "      <td>16.0</td>\n",
       "      <td>4.0</td>\n",
       "      <td>7.0</td>\n",
       "      <td>8.0</td>\n",
       "      <td>4.0</td>\n",
       "      <td>2.0</td>\n",
       "      <td>7.0</td>\n",
       "      <td>NaN</td>\n",
       "      <td>2.0</td>\n",
       "      <td>1.0</td>\n",
       "    </tr>\n",
       "    <tr>\n",
       "      <th>name</th>\n",
       "      <td>Brandon Moreno</td>\n",
       "      <td>Alex Perez</td>\n",
       "      <td>Deiveson Figueiredo</td>\n",
       "      <td>Matt Schnell</td>\n",
       "      <td>Alexandre Pantoja</td>\n",
       "      <td>Joseph Benavidez</td>\n",
       "      <td>Tim Elliott</td>\n",
       "      <td>Raulian Paiva</td>\n",
       "      <td>Kai Kara-France</td>\n",
       "      <td>Askar Askarov</td>\n",
       "      <td>David Dvorak</td>\n",
       "      <td>Brandon Royval</td>\n",
       "      <td>Amir Albazi</td>\n",
       "    </tr>\n",
       "    <tr>\n",
       "      <th>photos</th>\n",
       "      <td>[{'url': 'http://bet2face.com/uploads/images/f...</td>\n",
       "      <td>[{'url': 'http://bet2face.com/uploads/images/f...</td>\n",
       "      <td>[{'url': 'http://bet2face.com/uploads/images/f...</td>\n",
       "      <td>[{'url': 'http://bet2face.com/uploads/images/f...</td>\n",
       "      <td>[{'url': 'http://bet2face.com/uploads/images/f...</td>\n",
       "      <td>[{'url': 'http://bet2face.com/uploads/images/f...</td>\n",
       "      <td>[{'url': 'http://bet2face.com/uploads/images/f...</td>\n",
       "      <td>[{'url': 'http://bet2face.com/uploads/images/f...</td>\n",
       "      <td>[{'url': 'http://bet2face.com/uploads/images/f...</td>\n",
       "      <td>[]</td>\n",
       "      <td>[]</td>\n",
       "      <td>[]</td>\n",
       "      <td>[]</td>\n",
       "    </tr>\n",
       "    <tr>\n",
       "      <th>rank</th>\n",
       "      <td>1</td>\n",
       "      <td>4</td>\n",
       "      <td>0</td>\n",
       "      <td>7</td>\n",
       "      <td>5</td>\n",
       "      <td>2</td>\n",
       "      <td>12</td>\n",
       "      <td>11</td>\n",
       "      <td>8</td>\n",
       "      <td>3</td>\n",
       "      <td>10</td>\n",
       "      <td>6</td>\n",
       "      <td>13</td>\n",
       "    </tr>\n",
       "    <tr>\n",
       "      <th>sigStrikesAccuracy</th>\n",
       "      <td>34.0</td>\n",
       "      <td>48.0</td>\n",
       "      <td>52.0</td>\n",
       "      <td>34.0</td>\n",
       "      <td>46.0</td>\n",
       "      <td>33.0</td>\n",
       "      <td>46.0</td>\n",
       "      <td>43.0</td>\n",
       "      <td>43.0</td>\n",
       "      <td>47.0</td>\n",
       "      <td>NaN</td>\n",
       "      <td>NaN</td>\n",
       "      <td>NaN</td>\n",
       "    </tr>\n",
       "    <tr>\n",
       "      <th>significantStrikesDefendPercent</th>\n",
       "      <td>63.0</td>\n",
       "      <td>61.0</td>\n",
       "      <td>53.0</td>\n",
       "      <td>62.0</td>\n",
       "      <td>56.0</td>\n",
       "      <td>63.0</td>\n",
       "      <td>62.0</td>\n",
       "      <td>49.0</td>\n",
       "      <td>68.0</td>\n",
       "      <td>58.0</td>\n",
       "      <td>NaN</td>\n",
       "      <td>NaN</td>\n",
       "      <td>NaN</td>\n",
       "    </tr>\n",
       "    <tr>\n",
       "      <th>significantStrikesLandPerMinute</th>\n",
       "      <td>2.58</td>\n",
       "      <td>4.68</td>\n",
       "      <td>2.44</td>\n",
       "      <td>3.64</td>\n",
       "      <td>4.4</td>\n",
       "      <td>3.46</td>\n",
       "      <td>3.53</td>\n",
       "      <td>4.59</td>\n",
       "      <td>5.22</td>\n",
       "      <td>2.0</td>\n",
       "      <td>NaN</td>\n",
       "      <td>NaN</td>\n",
       "      <td>NaN</td>\n",
       "    </tr>\n",
       "    <tr>\n",
       "      <th>significantStrikesMissedPerMinute</th>\n",
       "      <td>2.83</td>\n",
       "      <td>3.11</td>\n",
       "      <td>2.4</td>\n",
       "      <td>3.69</td>\n",
       "      <td>3.47</td>\n",
       "      <td>2.52</td>\n",
       "      <td>2.3</td>\n",
       "      <td>5.19</td>\n",
       "      <td>3.18</td>\n",
       "      <td>2.27</td>\n",
       "      <td>NaN</td>\n",
       "      <td>NaN</td>\n",
       "      <td>NaN</td>\n",
       "    </tr>\n",
       "    <tr>\n",
       "      <th>submissionAttemptsPer15minutes</th>\n",
       "      <td>0.7</td>\n",
       "      <td>1.2</td>\n",
       "      <td>2.4</td>\n",
       "      <td>1.8</td>\n",
       "      <td>1.4</td>\n",
       "      <td>0.6</td>\n",
       "      <td>1.4</td>\n",
       "      <td>0.5</td>\n",
       "      <td>NaN</td>\n",
       "      <td>NaN</td>\n",
       "      <td>NaN</td>\n",
       "      <td>NaN</td>\n",
       "      <td>NaN</td>\n",
       "    </tr>\n",
       "    <tr>\n",
       "      <th>takedownsAccuracy</th>\n",
       "      <td>43.0</td>\n",
       "      <td>47.0</td>\n",
       "      <td>47.0</td>\n",
       "      <td>40.0</td>\n",
       "      <td>31.0</td>\n",
       "      <td>31.0</td>\n",
       "      <td>63.0</td>\n",
       "      <td>20.0</td>\n",
       "      <td>37.0</td>\n",
       "      <td>36.0</td>\n",
       "      <td>NaN</td>\n",
       "      <td>NaN</td>\n",
       "      <td>NaN</td>\n",
       "    </tr>\n",
       "    <tr>\n",
       "      <th>takedownsDefendPercent</th>\n",
       "      <td>62.0</td>\n",
       "      <td>87.0</td>\n",
       "      <td>59.0</td>\n",
       "      <td>58.0</td>\n",
       "      <td>60.0</td>\n",
       "      <td>65.0</td>\n",
       "      <td>51.0</td>\n",
       "      <td>77.0</td>\n",
       "      <td>88.0</td>\n",
       "      <td>NaN</td>\n",
       "      <td>NaN</td>\n",
       "      <td>NaN</td>\n",
       "      <td>NaN</td>\n",
       "    </tr>\n",
       "    <tr>\n",
       "      <th>takedownsPer15min</th>\n",
       "      <td>2.39</td>\n",
       "      <td>3.13</td>\n",
       "      <td>1.78</td>\n",
       "      <td>0.7</td>\n",
       "      <td>0.96</td>\n",
       "      <td>1.53</td>\n",
       "      <td>4.28</td>\n",
       "      <td>0.46</td>\n",
       "      <td>1.0</td>\n",
       "      <td>4.0</td>\n",
       "      <td>NaN</td>\n",
       "      <td>NaN</td>\n",
       "      <td>NaN</td>\n",
       "    </tr>\n",
       "    <tr>\n",
       "      <th>timezone</th>\n",
       "      <td>America/Tijuana</td>\n",
       "      <td>America/New_York</td>\n",
       "      <td>America/Sao_Paulo</td>\n",
       "      <td>America/New_York</td>\n",
       "      <td>America/Sao_Paulo</td>\n",
       "      <td>America/Chicago</td>\n",
       "      <td>America/Chicago</td>\n",
       "      <td>America/Sao_Paulo</td>\n",
       "      <td>Pacific/Auckland</td>\n",
       "      <td>Europe/Moscow</td>\n",
       "      <td>NaN</td>\n",
       "      <td>NaN</td>\n",
       "      <td>NaN</td>\n",
       "    </tr>\n",
       "    <tr>\n",
       "      <th>weight</th>\n",
       "      <td>56.7</td>\n",
       "      <td>61.24</td>\n",
       "      <td>56.7</td>\n",
       "      <td>56.7</td>\n",
       "      <td>56.7</td>\n",
       "      <td>56.7</td>\n",
       "      <td>61.24</td>\n",
       "      <td>56.7</td>\n",
       "      <td>56.7</td>\n",
       "      <td>56.7</td>\n",
       "      <td>56.7</td>\n",
       "      <td>56.7</td>\n",
       "      <td>56.7</td>\n",
       "    </tr>\n",
       "    <tr>\n",
       "      <th>weightCategory.id</th>\n",
       "      <td>2</td>\n",
       "      <td>2</td>\n",
       "      <td>2</td>\n",
       "      <td>2</td>\n",
       "      <td>2</td>\n",
       "      <td>2</td>\n",
       "      <td>2</td>\n",
       "      <td>2</td>\n",
       "      <td>2</td>\n",
       "      <td>2</td>\n",
       "      <td>14</td>\n",
       "      <td>14</td>\n",
       "      <td>14</td>\n",
       "    </tr>\n",
       "    <tr>\n",
       "      <th>weightCategory.name</th>\n",
       "      <td>Наилегчайший вес</td>\n",
       "      <td>Наилегчайший вес</td>\n",
       "      <td>Наилегчайший вес</td>\n",
       "      <td>Наилегчайший вес</td>\n",
       "      <td>Наилегчайший вес</td>\n",
       "      <td>Наилегчайший вес</td>\n",
       "      <td>Наилегчайший вес</td>\n",
       "      <td>Наилегчайший вес</td>\n",
       "      <td>Наилегчайший вес</td>\n",
       "      <td>Наилегчайший вес</td>\n",
       "      <td>Не определена</td>\n",
       "      <td>Не определена</td>\n",
       "      <td>Не определена</td>\n",
       "    </tr>\n",
       "    <tr>\n",
       "      <th>wins</th>\n",
       "      <td>15</td>\n",
       "      <td>22</td>\n",
       "      <td>17</td>\n",
       "      <td>14</td>\n",
       "      <td>21</td>\n",
       "      <td>28</td>\n",
       "      <td>16</td>\n",
       "      <td>18</td>\n",
       "      <td>20</td>\n",
       "      <td>10</td>\n",
       "      <td>17</td>\n",
       "      <td>10</td>\n",
       "      <td>12</td>\n",
       "    </tr>\n",
       "    <tr>\n",
       "      <th>birthYear</th>\n",
       "      <td>1993.0</td>\n",
       "      <td>1992.0</td>\n",
       "      <td>1987.0</td>\n",
       "      <td>1990.0</td>\n",
       "      <td>1990.0</td>\n",
       "      <td>1984.0</td>\n",
       "      <td>1986.0</td>\n",
       "      <td>1995.0</td>\n",
       "      <td>1993.0</td>\n",
       "      <td>1992.0</td>\n",
       "      <td>1970.0</td>\n",
       "      <td>1992.0</td>\n",
       "      <td>1993.0</td>\n",
       "    </tr>\n",
       "  </tbody>\n",
       "</table>\n",
       "</div>"
      ],
      "text/plain": [
       "                                                                                241   \\\n",
       "armSpan                                                                        177.8   \n",
       "avgFightTime                                                                   13:18   \n",
       "city                                                                         Tijuana   \n",
       "country                                                                       Mexico   \n",
       "dateOfBirth                                                      1993-12-07 00:00:00   \n",
       "disciplines                                                                       []   \n",
       "draws                                                                              1   \n",
       "height                                                                        170.18   \n",
       "id                                                                               242   \n",
       "knockdownsPerFight                                                              0.23   \n",
       "legSwing                                                                       96.52   \n",
       "looses                                                                             5   \n",
       "methods.looseMethods                                                             NaN   \n",
       "methods.looseMethods.DEC                                                         5.0   \n",
       "methods.looseMethods.DQ                                                          NaN   \n",
       "methods.looseMethods.KO                                                          NaN   \n",
       "methods.looseMethods.SUB                                                         2.0   \n",
       "methods.winMethods                                                               NaN   \n",
       "methods.winMethods.DEC                                                           5.0   \n",
       "methods.winMethods.DQ                                                            NaN   \n",
       "methods.winMethods.KO                                                            3.0   \n",
       "methods.winMethods.SUB                                                          10.0   \n",
       "name                                                                  Brandon Moreno   \n",
       "photos                             [{'url': 'http://bet2face.com/uploads/images/f...   \n",
       "rank                                                                               1   \n",
       "sigStrikesAccuracy                                                              34.0   \n",
       "significantStrikesDefendPercent                                                 63.0   \n",
       "significantStrikesLandPerMinute                                                 2.58   \n",
       "significantStrikesMissedPerMinute                                               2.83   \n",
       "submissionAttemptsPer15minutes                                                   0.7   \n",
       "takedownsAccuracy                                                               43.0   \n",
       "takedownsDefendPercent                                                          62.0   \n",
       "takedownsPer15min                                                               2.39   \n",
       "timezone                                                             America/Tijuana   \n",
       "weight                                                                          56.7   \n",
       "weightCategory.id                                                                  2   \n",
       "weightCategory.name                                                 Наилегчайший вес   \n",
       "wins                                                                              15   \n",
       "birthYear                                                                     1993.0   \n",
       "\n",
       "                                                                                281   \\\n",
       "armSpan                                                                        165.1   \n",
       "avgFightTime                                                                   09:00   \n",
       "city                                                                         Hanford   \n",
       "country                                                                United States   \n",
       "dateOfBirth                                                      1992-03-21 00:00:00   \n",
       "disciplines                                                                       []   \n",
       "draws                                                                              0   \n",
       "height                                                                        167.64   \n",
       "id                                                                               282   \n",
       "knockdownsPerFight                                                              0.33   \n",
       "legSwing                                                                       96.52   \n",
       "looses                                                                             5   \n",
       "methods.looseMethods                                                             NaN   \n",
       "methods.looseMethods.DEC                                                         NaN   \n",
       "methods.looseMethods.DQ                                                          NaN   \n",
       "methods.looseMethods.KO                                                          1.0   \n",
       "methods.looseMethods.SUB                                                         2.0   \n",
       "methods.winMethods                                                               NaN   \n",
       "methods.winMethods.DEC                                                           3.0   \n",
       "methods.winMethods.DQ                                                            NaN   \n",
       "methods.winMethods.KO                                                            2.0   \n",
       "methods.winMethods.SUB                                                           3.0   \n",
       "name                                                                      Alex Perez   \n",
       "photos                             [{'url': 'http://bet2face.com/uploads/images/f...   \n",
       "rank                                                                               4   \n",
       "sigStrikesAccuracy                                                              48.0   \n",
       "significantStrikesDefendPercent                                                 61.0   \n",
       "significantStrikesLandPerMinute                                                 4.68   \n",
       "significantStrikesMissedPerMinute                                               3.11   \n",
       "submissionAttemptsPer15minutes                                                   1.2   \n",
       "takedownsAccuracy                                                               47.0   \n",
       "takedownsDefendPercent                                                          87.0   \n",
       "takedownsPer15min                                                               3.13   \n",
       "timezone                                                            America/New_York   \n",
       "weight                                                                         61.24   \n",
       "weightCategory.id                                                                  2   \n",
       "weightCategory.name                                                 Наилегчайший вес   \n",
       "wins                                                                              22   \n",
       "birthYear                                                                     1992.0   \n",
       "\n",
       "                                                                                405   \\\n",
       "armSpan                                                                       172.72   \n",
       "avgFightTime                                                                   12:07   \n",
       "city                                                                             NaN   \n",
       "country                                                                       Brazil   \n",
       "dateOfBirth                                                      1987-12-18 00:00:00   \n",
       "disciplines                                                                       []   \n",
       "draws                                                                              0   \n",
       "height                                                                         165.1   \n",
       "id                                                                               406   \n",
       "knockdownsPerFight                                                              1.03   \n",
       "legSwing                                                                       96.52   \n",
       "looses                                                                             1   \n",
       "methods.looseMethods                                                             NaN   \n",
       "methods.looseMethods.DEC                                                         1.0   \n",
       "methods.looseMethods.DQ                                                          NaN   \n",
       "methods.looseMethods.KO                                                          NaN   \n",
       "methods.looseMethods.SUB                                                         NaN   \n",
       "methods.winMethods                                                               NaN   \n",
       "methods.winMethods.DEC                                                           3.0   \n",
       "methods.winMethods.DQ                                                            NaN   \n",
       "methods.winMethods.KO                                                            9.0   \n",
       "methods.winMethods.SUB                                                           8.0   \n",
       "name                                                             Deiveson Figueiredo   \n",
       "photos                             [{'url': 'http://bet2face.com/uploads/images/f...   \n",
       "rank                                                                               0   \n",
       "sigStrikesAccuracy                                                              52.0   \n",
       "significantStrikesDefendPercent                                                 53.0   \n",
       "significantStrikesLandPerMinute                                                 2.44   \n",
       "significantStrikesMissedPerMinute                                                2.4   \n",
       "submissionAttemptsPer15minutes                                                   2.4   \n",
       "takedownsAccuracy                                                               47.0   \n",
       "takedownsDefendPercent                                                          59.0   \n",
       "takedownsPer15min                                                               1.78   \n",
       "timezone                                                           America/Sao_Paulo   \n",
       "weight                                                                          56.7   \n",
       "weightCategory.id                                                                  2   \n",
       "weightCategory.name                                                 Наилегчайший вес   \n",
       "wins                                                                              17   \n",
       "birthYear                                                                     1987.0   \n",
       "\n",
       "                                                                                441   \\\n",
       "armSpan                                                                        177.8   \n",
       "avgFightTime                                                                   07:09   \n",
       "city                                                                             NaN   \n",
       "country                                                                United States   \n",
       "dateOfBirth                                                      1990-01-15 00:00:00   \n",
       "disciplines                                                                       []   \n",
       "draws                                                                              0   \n",
       "height                                                                        172.72   \n",
       "id                                                                               442   \n",
       "knockdownsPerFight                                                               0.0   \n",
       "legSwing                                                                       96.52   \n",
       "looses                                                                             4   \n",
       "methods.looseMethods                                                             NaN   \n",
       "methods.looseMethods.DEC                                                         1.0   \n",
       "methods.looseMethods.DQ                                                          NaN   \n",
       "methods.looseMethods.KO                                                          4.0   \n",
       "methods.looseMethods.SUB                                                         2.0   \n",
       "methods.winMethods                                                               NaN   \n",
       "methods.winMethods.DEC                                                           4.0   \n",
       "methods.winMethods.DQ                                                            NaN   \n",
       "methods.winMethods.KO                                                            3.0   \n",
       "methods.winMethods.SUB                                                          16.0   \n",
       "name                                                                    Matt Schnell   \n",
       "photos                             [{'url': 'http://bet2face.com/uploads/images/f...   \n",
       "rank                                                                               7   \n",
       "sigStrikesAccuracy                                                              34.0   \n",
       "significantStrikesDefendPercent                                                 62.0   \n",
       "significantStrikesLandPerMinute                                                 3.64   \n",
       "significantStrikesMissedPerMinute                                               3.69   \n",
       "submissionAttemptsPer15minutes                                                   1.8   \n",
       "takedownsAccuracy                                                               40.0   \n",
       "takedownsDefendPercent                                                          58.0   \n",
       "takedownsPer15min                                                                0.7   \n",
       "timezone                                                            America/New_York   \n",
       "weight                                                                          56.7   \n",
       "weightCategory.id                                                                  2   \n",
       "weightCategory.name                                                 Наилегчайший вес   \n",
       "wins                                                                              14   \n",
       "birthYear                                                                     1990.0   \n",
       "\n",
       "                                                                                475   \\\n",
       "armSpan                                                                       170.18   \n",
       "avgFightTime                                                                   11:58   \n",
       "city                                                                  Rio de Janeiro   \n",
       "country                                                                       Brazil   \n",
       "dateOfBirth                                                      1990-04-16 00:00:00   \n",
       "disciplines                                                                       []   \n",
       "draws                                                                              0   \n",
       "height                                                                         165.1   \n",
       "id                                                                               476   \n",
       "knockdownsPerFight                                                              0.25   \n",
       "legSwing                                                                       91.44   \n",
       "looses                                                                             4   \n",
       "methods.looseMethods                                                             NaN   \n",
       "methods.looseMethods.DEC                                                         4.0   \n",
       "methods.looseMethods.DQ                                                          NaN   \n",
       "methods.looseMethods.KO                                                          NaN   \n",
       "methods.looseMethods.SUB                                                         NaN   \n",
       "methods.winMethods                                                               NaN   \n",
       "methods.winMethods.DEC                                                           4.0   \n",
       "methods.winMethods.DQ                                                            NaN   \n",
       "methods.winMethods.KO                                                            2.0   \n",
       "methods.winMethods.SUB                                                           4.0   \n",
       "name                                                               Alexandre Pantoja   \n",
       "photos                             [{'url': 'http://bet2face.com/uploads/images/f...   \n",
       "rank                                                                               5   \n",
       "sigStrikesAccuracy                                                              46.0   \n",
       "significantStrikesDefendPercent                                                 56.0   \n",
       "significantStrikesLandPerMinute                                                  4.4   \n",
       "significantStrikesMissedPerMinute                                               3.47   \n",
       "submissionAttemptsPer15minutes                                                   1.4   \n",
       "takedownsAccuracy                                                               31.0   \n",
       "takedownsDefendPercent                                                          60.0   \n",
       "takedownsPer15min                                                               0.96   \n",
       "timezone                                                           America/Sao_Paulo   \n",
       "weight                                                                          56.7   \n",
       "weightCategory.id                                                                  2   \n",
       "weightCategory.name                                                 Наилегчайший вес   \n",
       "wins                                                                              21   \n",
       "birthYear                                                                     1990.0   \n",
       "\n",
       "                                                                                484   \\\n",
       "armSpan                                                                        165.1   \n",
       "avgFightTime                                                                   12:08   \n",
       "city                                                                     San Antonio   \n",
       "country                                                                United States   \n",
       "dateOfBirth                                                      1984-07-31 00:00:00   \n",
       "disciplines                                                                       []   \n",
       "draws                                                                              0   \n",
       "height                                                                        162.56   \n",
       "id                                                                               485   \n",
       "knockdownsPerFight                                                              0.36   \n",
       "legSwing                                                                       91.44   \n",
       "looses                                                                             5   \n",
       "methods.looseMethods                                                             NaN   \n",
       "methods.looseMethods.DEC                                                         5.0   \n",
       "methods.looseMethods.DQ                                                          NaN   \n",
       "methods.looseMethods.KO                                                          2.0   \n",
       "methods.looseMethods.SUB                                                         1.0   \n",
       "methods.winMethods                                                               NaN   \n",
       "methods.winMethods.DEC                                                          12.0   \n",
       "methods.winMethods.DQ                                                            NaN   \n",
       "methods.winMethods.KO                                                            7.0   \n",
       "methods.winMethods.SUB                                                           7.0   \n",
       "name                                                                Joseph Benavidez   \n",
       "photos                             [{'url': 'http://bet2face.com/uploads/images/f...   \n",
       "rank                                                                               2   \n",
       "sigStrikesAccuracy                                                              33.0   \n",
       "significantStrikesDefendPercent                                                 63.0   \n",
       "significantStrikesLandPerMinute                                                 3.46   \n",
       "significantStrikesMissedPerMinute                                               2.52   \n",
       "submissionAttemptsPer15minutes                                                   0.6   \n",
       "takedownsAccuracy                                                               31.0   \n",
       "takedownsDefendPercent                                                          65.0   \n",
       "takedownsPer15min                                                               1.53   \n",
       "timezone                                                             America/Chicago   \n",
       "weight                                                                          56.7   \n",
       "weightCategory.id                                                                  2   \n",
       "weightCategory.name                                                 Наилегчайший вес   \n",
       "wins                                                                              28   \n",
       "birthYear                                                                     1984.0   \n",
       "\n",
       "                                                                                618   \\\n",
       "armSpan                                                                       167.64   \n",
       "avgFightTime                                                                   12:40   \n",
       "city                                                                     Kansas City   \n",
       "country                                                                United States   \n",
       "dateOfBirth                                                      1986-12-24 00:00:00   \n",
       "disciplines                                                                       []   \n",
       "draws                                                                              1   \n",
       "height                                                                        170.18   \n",
       "id                                                                               619   \n",
       "knockdownsPerFight                                                              0.12   \n",
       "legSwing                                                                       96.52   \n",
       "looses                                                                             9   \n",
       "methods.looseMethods                                                             NaN   \n",
       "methods.looseMethods.DEC                                                         5.0   \n",
       "methods.looseMethods.DQ                                                          NaN   \n",
       "methods.looseMethods.KO                                                          1.0   \n",
       "methods.looseMethods.SUB                                                         5.0   \n",
       "methods.winMethods                                                               NaN   \n",
       "methods.winMethods.DEC                                                          10.0   \n",
       "methods.winMethods.DQ                                                            NaN   \n",
       "methods.winMethods.KO                                                            3.0   \n",
       "methods.winMethods.SUB                                                           8.0   \n",
       "name                                                                     Tim Elliott   \n",
       "photos                             [{'url': 'http://bet2face.com/uploads/images/f...   \n",
       "rank                                                                              12   \n",
       "sigStrikesAccuracy                                                              46.0   \n",
       "significantStrikesDefendPercent                                                 62.0   \n",
       "significantStrikesLandPerMinute                                                 3.53   \n",
       "significantStrikesMissedPerMinute                                                2.3   \n",
       "submissionAttemptsPer15minutes                                                   1.4   \n",
       "takedownsAccuracy                                                               63.0   \n",
       "takedownsDefendPercent                                                          51.0   \n",
       "takedownsPer15min                                                               4.28   \n",
       "timezone                                                             America/Chicago   \n",
       "weight                                                                         61.24   \n",
       "weightCategory.id                                                                  2   \n",
       "weightCategory.name                                                 Наилегчайший вес   \n",
       "wins                                                                              16   \n",
       "birthYear                                                                     1986.0   \n",
       "\n",
       "                                                                                628   \\\n",
       "armSpan                                                                       175.26   \n",
       "avgFightTime                                                                   00:00   \n",
       "city                                                                             NaN   \n",
       "country                                                                       Brazil   \n",
       "dateOfBirth                                                      1995-10-17 00:00:00   \n",
       "disciplines                                                                       []   \n",
       "draws                                                                              0   \n",
       "height                                                                        172.72   \n",
       "id                                                                               629   \n",
       "knockdownsPerFight                                                               0.0   \n",
       "legSwing                                                                         NaN   \n",
       "looses                                                                             3   \n",
       "methods.looseMethods                                                             NaN   \n",
       "methods.looseMethods.DEC                                                         2.0   \n",
       "methods.looseMethods.DQ                                                          NaN   \n",
       "methods.looseMethods.KO                                                          1.0   \n",
       "methods.looseMethods.SUB                                                         1.0   \n",
       "methods.winMethods                                                               NaN   \n",
       "methods.winMethods.DEC                                                          13.0   \n",
       "methods.winMethods.DQ                                                            NaN   \n",
       "methods.winMethods.KO                                                            3.0   \n",
       "methods.winMethods.SUB                                                           4.0   \n",
       "name                                                                   Raulian Paiva   \n",
       "photos                             [{'url': 'http://bet2face.com/uploads/images/f...   \n",
       "rank                                                                              11   \n",
       "sigStrikesAccuracy                                                              43.0   \n",
       "significantStrikesDefendPercent                                                 49.0   \n",
       "significantStrikesLandPerMinute                                                 4.59   \n",
       "significantStrikesMissedPerMinute                                               5.19   \n",
       "submissionAttemptsPer15minutes                                                   0.5   \n",
       "takedownsAccuracy                                                               20.0   \n",
       "takedownsDefendPercent                                                          77.0   \n",
       "takedownsPer15min                                                               0.46   \n",
       "timezone                                                           America/Sao_Paulo   \n",
       "weight                                                                          56.7   \n",
       "weightCategory.id                                                                  2   \n",
       "weightCategory.name                                                 Наилегчайший вес   \n",
       "wins                                                                              18   \n",
       "birthYear                                                                     1995.0   \n",
       "\n",
       "                                                                                686   \\\n",
       "armSpan                                                                       175.26   \n",
       "avgFightTime                                                                   15:00   \n",
       "city                                                                             NaN   \n",
       "country                                                                  New Zealand   \n",
       "dateOfBirth                                                      1993-03-26 00:00:00   \n",
       "disciplines                                                                       []   \n",
       "draws                                                                              0   \n",
       "height                                                                        162.56   \n",
       "id                                                                               687   \n",
       "knockdownsPerFight                                                               0.5   \n",
       "legSwing                                                                         NaN   \n",
       "looses                                                                             7   \n",
       "methods.looseMethods                                                             NaN   \n",
       "methods.looseMethods.DEC                                                         5.0   \n",
       "methods.looseMethods.DQ                                                          NaN   \n",
       "methods.looseMethods.KO                                                          2.0   \n",
       "methods.looseMethods.SUB                                                         3.0   \n",
       "methods.winMethods                                                               NaN   \n",
       "methods.winMethods.DEC                                                          10.0   \n",
       "methods.winMethods.DQ                                                            NaN   \n",
       "methods.winMethods.KO                                                            9.0   \n",
       "methods.winMethods.SUB                                                           2.0   \n",
       "name                                                                 Kai Kara-France   \n",
       "photos                             [{'url': 'http://bet2face.com/uploads/images/f...   \n",
       "rank                                                                               8   \n",
       "sigStrikesAccuracy                                                              43.0   \n",
       "significantStrikesDefendPercent                                                 68.0   \n",
       "significantStrikesLandPerMinute                                                 5.22   \n",
       "significantStrikesMissedPerMinute                                               3.18   \n",
       "submissionAttemptsPer15minutes                                                   NaN   \n",
       "takedownsAccuracy                                                               37.0   \n",
       "takedownsDefendPercent                                                          88.0   \n",
       "takedownsPer15min                                                                1.0   \n",
       "timezone                                                            Pacific/Auckland   \n",
       "weight                                                                          56.7   \n",
       "weightCategory.id                                                                  2   \n",
       "weightCategory.name                                                 Наилегчайший вес   \n",
       "wins                                                                              20   \n",
       "birthYear                                                                     1993.0   \n",
       "\n",
       "                                                  1924                 3414  \\\n",
       "armSpan                                         170.18                  NaN   \n",
       "avgFightTime                                       NaN                  NaN   \n",
       "city                                               NaN                  NaN   \n",
       "country                                         Russia                  NaN   \n",
       "dateOfBirth                        1992-10-09 00:00:00  1970-01-01 00:00:00   \n",
       "disciplines                                         []                   []   \n",
       "draws                                                1                    0   \n",
       "height                                          167.64                165.1   \n",
       "id                                                1932                 3423   \n",
       "knockdownsPerFight                                 0.0                  NaN   \n",
       "legSwing                                           NaN                  NaN   \n",
       "looses                                               0                    3   \n",
       "methods.looseMethods                                []                   []   \n",
       "methods.looseMethods.DEC                           NaN                  NaN   \n",
       "methods.looseMethods.DQ                            NaN                  NaN   \n",
       "methods.looseMethods.KO                            NaN                  NaN   \n",
       "methods.looseMethods.SUB                           NaN                  NaN   \n",
       "methods.winMethods                                 NaN                  NaN   \n",
       "methods.winMethods.DEC                             3.0                  1.0   \n",
       "methods.winMethods.DQ                              NaN                  NaN   \n",
       "methods.winMethods.KO                              3.0                  NaN   \n",
       "methods.winMethods.SUB                             7.0                  NaN   \n",
       "name                                     Askar Askarov         David Dvorak   \n",
       "photos                                              []                   []   \n",
       "rank                                                 3                   10   \n",
       "sigStrikesAccuracy                                47.0                  NaN   \n",
       "significantStrikesDefendPercent                   58.0                  NaN   \n",
       "significantStrikesLandPerMinute                    2.0                  NaN   \n",
       "significantStrikesMissedPerMinute                 2.27                  NaN   \n",
       "submissionAttemptsPer15minutes                     NaN                  NaN   \n",
       "takedownsAccuracy                                 36.0                  NaN   \n",
       "takedownsDefendPercent                             NaN                  NaN   \n",
       "takedownsPer15min                                  4.0                  NaN   \n",
       "timezone                                 Europe/Moscow                  NaN   \n",
       "weight                                            56.7                 56.7   \n",
       "weightCategory.id                                    2                   14   \n",
       "weightCategory.name                   Наилегчайший вес        Не определена   \n",
       "wins                                                10                   17   \n",
       "birthYear                                       1992.0               1970.0   \n",
       "\n",
       "                                                  3431                 3457  \n",
       "armSpan                                          177.8                  NaN  \n",
       "avgFightTime                                       NaN                  NaN  \n",
       "city                                               NaN                  NaN  \n",
       "country                                            NaN                  NaN  \n",
       "dateOfBirth                        1992-08-16 00:00:00  1993-10-27 00:00:00  \n",
       "disciplines                                         []                   []  \n",
       "draws                                                0                    0  \n",
       "height                                          175.26                165.1  \n",
       "id                                                3440                 3466  \n",
       "knockdownsPerFight                                 NaN                  NaN  \n",
       "legSwing                                           NaN                  NaN  \n",
       "looses                                               4                    1  \n",
       "methods.looseMethods                               NaN                   []  \n",
       "methods.looseMethods.DEC                           NaN                  NaN  \n",
       "methods.looseMethods.DQ                            NaN                  NaN  \n",
       "methods.looseMethods.KO                            1.0                  NaN  \n",
       "methods.looseMethods.SUB                           NaN                  NaN  \n",
       "methods.winMethods                                 NaN                  NaN  \n",
       "methods.winMethods.DEC                             NaN                  1.0  \n",
       "methods.winMethods.DQ                              NaN                  NaN  \n",
       "methods.winMethods.KO                              NaN                  NaN  \n",
       "methods.winMethods.SUB                             2.0                  1.0  \n",
       "name                                    Brandon Royval          Amir Albazi  \n",
       "photos                                              []                   []  \n",
       "rank                                                 6                   13  \n",
       "sigStrikesAccuracy                                 NaN                  NaN  \n",
       "significantStrikesDefendPercent                    NaN                  NaN  \n",
       "significantStrikesLandPerMinute                    NaN                  NaN  \n",
       "significantStrikesMissedPerMinute                  NaN                  NaN  \n",
       "submissionAttemptsPer15minutes                     NaN                  NaN  \n",
       "takedownsAccuracy                                  NaN                  NaN  \n",
       "takedownsDefendPercent                             NaN                  NaN  \n",
       "takedownsPer15min                                  NaN                  NaN  \n",
       "timezone                                           NaN                  NaN  \n",
       "weight                                            56.7                 56.7  \n",
       "weightCategory.id                                   14                   14  \n",
       "weightCategory.name                      Не определена        Не определена  \n",
       "wins                                                10                   12  \n",
       "birthYear                                       1992.0               1993.0  "
      ]
     },
     "execution_count": 4,
     "metadata": {},
     "output_type": "execute_result"
    }
   ],
   "source": [
    "# В основном бойцы 16 ранга, но есть и другие...\n",
    "fighters_df[fighters_df['rank']!=16].T"
   ]
  },
  {
   "cell_type": "code",
   "execution_count": 5,
   "metadata": {
    "pycharm": {
     "name": "#%%\n"
    }
   },
   "outputs": [],
   "source": [
    "df = pd.read_csv('data/0.events_raw.csv', index_col=0)\n",
    "df = df.set_index('id').sort_index()\n",
    "\n",
    "df['eventDate.date'] = pd.to_datetime(df['eventDate.date'])\n",
    "df = df.sort_values('eventDate.date').reset_index()\n",
    "df['fighters'] = df['fighters'].apply(lambda x: ast.literal_eval(x))"
   ]
  },
  {
   "cell_type": "code",
   "execution_count": 6,
   "metadata": {
    "pycharm": {
     "name": "#%%\n"
    }
   },
   "outputs": [
    {
     "data": {
      "text/plain": [
       "(7100, 20)"
      ]
     },
     "execution_count": 6,
     "metadata": {},
     "output_type": "execute_result"
    }
   ],
   "source": [
    "df.shape"
   ]
  },
  {
   "cell_type": "code",
   "execution_count": 7,
   "metadata": {
    "pycharm": {
     "name": "#%%\n"
    }
   },
   "outputs": [],
   "source": [
    "df.columns = [i.replace('.','_') for i in df.columns]"
   ]
  },
  {
   "cell_type": "code",
   "execution_count": 8,
   "metadata": {
    "pycharm": {
     "name": "#%%\n"
    }
   },
   "outputs": [
    {
     "name": "stdout",
     "output_type": "stream",
     "text": [
      "<class 'pandas.core.frame.DataFrame'>\n",
      "RangeIndex: 7100 entries, 0 to 7099\n",
      "Data columns (total 20 columns):\n",
      " #   Column                   Non-Null Count  Dtype         \n",
      "---  ------                   --------------  -----         \n",
      " 0   id                       7100 non-null   int64         \n",
      " 1   avgOdds                  7100 non-null   object        \n",
      " 2   city                     7061 non-null   object        \n",
      " 3   completed                7100 non-null   bool          \n",
      " 4   country                  7064 non-null   object        \n",
      " 5   duration                 6942 non-null   float64       \n",
      " 6   eventDate_date           7100 non-null   datetime64[ns]\n",
      " 7   eventDate_timezone       7100 non-null   object        \n",
      " 8   eventDate_timezone_type  7100 non-null   int64         \n",
      " 9   fighterId_1              7100 non-null   int64         \n",
      " 10  fighterId_2              7100 non-null   int64         \n",
      " 11  fighters                 7100 non-null   object        \n",
      " 12  link                     7100 non-null   object        \n",
      " 13  name                     7100 non-null   object        \n",
      " 14  rounds                   6942 non-null   float64       \n",
      " 15  timezone                 7020 non-null   object        \n",
      " 16  weightCategory_id        7100 non-null   int64         \n",
      " 17  weightCategory_name      7100 non-null   object        \n",
      " 18  winMethods               7100 non-null   object        \n",
      " 19  winnerId                 6955 non-null   float64       \n",
      "dtypes: bool(1), datetime64[ns](1), float64(3), int64(5), object(10)\n",
      "memory usage: 1.0+ MB\n"
     ]
    }
   ],
   "source": [
    "df.info()"
   ]
  },
  {
   "cell_type": "code",
   "execution_count": 9,
   "metadata": {
    "pycharm": {
     "name": "#%%\n"
    }
   },
   "outputs": [
    {
     "data": {
      "text/plain": [
       "(7100, 22)"
      ]
     },
     "execution_count": 9,
     "metadata": {},
     "output_type": "execute_result"
    }
   ],
   "source": [
    "def parse_odds(df):  # Parse odds from avgOdds dict\n",
    "    # Добавить кэффы в df\n",
    "    for i in df.index[:]:\n",
    "        avgodds = df.loc[i, 'avgOdds']\n",
    "\n",
    "        if avgodds == '[]':\n",
    "            continue\n",
    "\n",
    "        # Преобразую данные о коэффах из строки\n",
    "        ids1, odd1 = int(avgodds.split()[1].split(',')[0]), float(avgodds.split()[3].split('}')[0])\n",
    "        ids2, odd2 = int(avgodds.split()[5].split(',')[0]), float(avgodds.split()[7].split('}')[0])\n",
    "\n",
    "        # Проверить совпадает ли fighterId_1 с ids1 (который в avgOdds)\n",
    "        if df.loc[i, 'fighterId_1'] == ids1:\n",
    "            df.at[i, 'odd1'] = odd1\n",
    "            df.at[i, 'odd2'] = odd2\n",
    "\n",
    "        if df.loc[i, 'fighterId_1'] == ids2:\n",
    "            df.at[i, 'odd1'] = odd2\n",
    "            df.at[i, 'odd2'] = odd1\n",
    "\n",
    "    return df.drop('avgOdds', axis=1)\n",
    "\n",
    "\n",
    "df = parse_odds(df)\n",
    "\"\"\"Удаление боёв без данных о шансах (\"odds\") считаю не нужным.\"\"\"\n",
    "#df = df[~df['odd1'].isna()].reset_index()\n",
    "\n",
    "# When fighterID_1 wins, then Winner == 1\n",
    "df['winner'] = df['winnerId'] == df['fighterId_1']\n",
    "\n",
    "df.shape"
   ]
  },
  {
   "cell_type": "markdown",
   "metadata": {
    "pycharm": {
     "name": "#%% md\n"
    }
   },
   "source": [
    "**Significant Strike Accuracy** - результативность силовых ударов (не включают простые удары в клинче)\n",
    "sigStrikesAccuracy = accentedHitsSuccessful / accentedHitsTotal\n",
    "\n",
    "**StrikesDefendPercent**- результативность защиты: количество силовых ударов, не достигших цели\n",
    "significantStrikesDefendPercent = 1 - accentedHitsSuccessful_opp / accentedHitsTotal_opp\n",
    "\n",
    "**Strikes Landed per Minute** - количество ударов в минуту за карьеру.\n",
    "significantStrikesLandPerMinute = sigStrikesAccuracy / duration * 60\n",
    "Чтобы учесть предыдущее не известное количество боев можно обновлять этот параметр по с коэффициентом взвешенности 0,1\n",
    "0,9 * предыдущее значение коэффициента + 0,1 * коэффициент за этот бой.\n",
    "\n",
    "**Strikes Missed Per Minute**\n",
    "significantStrikesMissedPerMinute = accentedHitsOppSuccessful / duration * 60\n",
    "тот же самый подход\n",
    "\n",
    "submissionAttemptsPer15minutes = ?\n",
    "\n",
    "**takedowns Accuracy**\n",
    "takedownsAccuracy = takedownSuccessful / takedownTotal\n",
    "\n",
    "**takedowns Defend Percent**\n",
    "takedownsDefendPercent = 1 - takedownSuccessfu_opp / takedownTotal_opp\n",
    "\n",
    "**takedownsPer15min**\n",
    "takedownsPer15min = takedownSuccessful / duration * 15 * 60"
   ]
  },
  {
   "cell_type": "code",
   "execution_count": null,
   "metadata": {
    "pycharm": {
     "name": "#%%\n"
    }
   },
   "outputs": [],
   "source": [
    "df['eventDate_date'].min(), df['eventDate_date'].max()"
   ]
  },
  {
   "cell_type": "markdown",
   "metadata": {
    "pycharm": {
     "name": "#%% md\n"
    }
   },
   "source": [
    "## Задача 1: Парсинг данных\n",
    "* по примеру из baseline.\n",
    "* проверка данных на пропуски, заполнение\n",
    "* добавление данных из таблицы fighters : рост, вес, ранг, год рождения, количество побед"
   ]
  },
  {
   "cell_type": "code",
   "execution_count": 10,
   "metadata": {
    "pycharm": {
     "name": "#%%\n"
    }
   },
   "outputs": [],
   "source": [
    "def parse_data_from_fight(fightStats, duration):\n",
    "    if len(fightStats) == 0:\n",
    "        return [np.nan]*26\n",
    "\n",
    "    hitsTotal = fightStats.get('hitsTotal')\n",
    "    hitsSuccessful = fightStats.get('hitsSuccessful')\n",
    "    accentedHitsTotal = fightStats.get('accentedHitsTotal')\n",
    "    accentedHitsSuccessful = fightStats.get('accentedHitsSuccessful')\n",
    "    takedownTotal = fightStats.get('takedownTotal')\n",
    "    takedownSuccessful = fightStats.get('takedownSuccessful')\n",
    "    accentedHitsPositionDistanceTotal = fightStats.get('accentedHitsPositionDistanceTotal')\n",
    "    accentedHitsPositionDistanceSuccessful = fightStats.get('accentedHitsPositionDistanceSuccessful')\n",
    "    accentedHitsPositionClinchTotal = fightStats.get('accentedHitsPositionClinchTotal')\n",
    "    accentedHitsPositionClinchSuccessful = fightStats.get('accentedHitsPositionClinchSuccessful')\n",
    "    accentedHitsPositionParterTotal = fightStats.get('accentedHitsPositionParterTotal')\n",
    "    accentedHitsPositionParterSuccessful = fightStats.get('accentedHitsPositionParterSuccessful')\n",
    "\n",
    "    try: hitsSuccessful_percent = hitsSuccessful/hitsTotal\n",
    "    except ZeroDivisionError: hitsSuccessful_percent = np.nan\n",
    "\n",
    "    try: accentedHitsSuccessful_percent = accentedHitsSuccessful/hitsTotal\n",
    "    except ZeroDivisionError: accentedHitsSuccessful_percent = np.nan\n",
    "\n",
    "    try: accentedHits_percent = accentedHitsTotal/hitsTotal\n",
    "    except ZeroDivisionError: accentedHits_percent = np.nan\n",
    "\n",
    "    try: takedownSuccessful_percent = takedownSuccessful/takedownTotal\n",
    "    except ZeroDivisionError: takedownSuccessful_percent = np.nan\n",
    "\n",
    "    try: accentedHitsPositionDistanceSuccessful_percent = accentedHitsPositionDistanceTotal/accentedHitsPositionDistanceSuccessful\n",
    "    except ZeroDivisionError: accentedHitsPositionDistanceSuccessful_percent = np.nan\n",
    "\n",
    "    try: accentedHitsPositionClinchSuccessful_percent = accentedHitsPositionClinchTotal/accentedHitsPositionClinchSuccessful\n",
    "    except ZeroDivisionError: accentedHitsPositionClinchSuccessful_percent = np.nan\n",
    "\n",
    "    try: accentedHitsPositionParterSuccessful_percent = accentedHitsPositionParterTotal/accentedHitsPositionParterSuccessful\n",
    "    except ZeroDivisionError: accentedHitsPositionParterSuccessful_percent = np.nan\n",
    "\n",
    "    try: takedowns_to_hits = takedownSuccessful / hitsSuccessful\n",
    "    except ZeroDivisionError: takedowns_to_hits = np.nan\n",
    "\n",
    "    try: HitsPositionDistance_to_hits = accentedHitsPositionDistanceSuccessful / hitsSuccessful\n",
    "    except ZeroDivisionError: HitsPositionDistance_to_hits = np.nan\n",
    "\n",
    "    try: HitsPositionClinch_to_hits = accentedHitsPositionClinchSuccessful / hitsSuccessful\n",
    "    except ZeroDivisionError: HitsPositionClinch_to_hits = np.nan\n",
    "\n",
    "    try: HitsPositionParter_to_hits = accentedHitsPositionParterSuccessful / hitsSuccessful\n",
    "    except ZeroDivisionError: HitsPositionParter_to_hits = np.nan\n",
    "\n",
    "    hitsPM = (60 * hitsTotal) / duration\n",
    "    accentedHitsPM = (60 * accentedHitsTotal) / duration\n",
    "    takedownsPM = (60 * takedownTotal) / duration\n",
    "    accentedHitsDistancePM = (60 * accentedHitsPositionDistanceTotal) / duration\n",
    "    accentedHitsClinchPM = (60 * accentedHitsPositionClinchTotal) / duration\n",
    "    accentedHitsParterPM = (60 * accentedHitsPositionParterTotal) / duration\n",
    "\n",
    "    hitsSuccessfulPM = (60 * hitsSuccessful) / duration\n",
    "\n",
    "    #accentedHitsSuccessfulPM = (60 * accentedHitsSuccessful) / duration  # exchange to 'significantStrikesLandPerMinute'\n",
    "    takedownsSuccessfulPM = (60 * takedownSuccessful) / duration\n",
    "    accentedHitsDistanceSuccessfulPM = (60 * accentedHitsPositionDistanceSuccessful) / duration\n",
    "    accentedHitsClinchSuccessfulPM = (60 * accentedHitsPositionClinchSuccessful) / duration\n",
    "    accentedHitsParterSuccessfulPM = (60 * accentedHitsPositionParterSuccessful) / duration\n",
    "\n",
    "    \"\"\"\n",
    "    sigStrikesAccuracy = accentedHitsSuccessful / accentedHitsTotal\n",
    "    significantStrikesDefendPercent = 1 - accentedHitsSuccessful_opp / accentedHitsTotal_opp\n",
    "        ### this is opposite 'sigStrikesAccuracy' feature of opponent\n",
    "    significantStrikesLandPerMinute = accentedHitsSuccessful / duration * 60\n",
    "    significantStrikesMissedPerMinute = accentedHitsOppSuccessful / duration * 60\n",
    "    takedownsAccuracy = takedownSuccessful / takedownTotal\n",
    "    takedownsDefendPercent = 1 - takedownSuccessful_opp / takedownTotal_opp\n",
    "        ### this is opposite 'takedownsAccuracy' feature of opponent\n",
    "    takedownsPer15min = takedownSuccessful / duration * 15 * 60\n",
    "    \"\"\"\n",
    "    try: sigStrikesAccuracy = accentedHitsSuccessful / accentedHitsTotal\n",
    "    except ZeroDivisionError: sigStrikesAccuracy = np.nan\n",
    "\n",
    "    significantStrikesLandPerMinute = (60 * accentedHitsSuccessful) / duration\n",
    "\n",
    "    try: takedownsAccuracy = takedownSuccessful / takedownTotal\n",
    "    except ZeroDivisionError: takedownsAccuracy = np.nan\n",
    "\n",
    "    takedownsPer15min = takedownSuccessful / duration * 15 * 60\n",
    "\n",
    "    return  hitsPM, accentedHitsPM, takedownsPM, accentedHitsDistancePM, accentedHitsClinchPM, accentedHitsParterPM, hitsSuccessfulPM, takedownsSuccessfulPM, accentedHitsDistanceSuccessfulPM, accentedHitsClinchSuccessfulPM, accentedHitsParterSuccessfulPM, hitsSuccessful_percent, accentedHitsSuccessful_percent, accentedHits_percent, takedownSuccessful_percent, accentedHitsPositionDistanceSuccessful_percent,accentedHitsPositionClinchSuccessful_percent, accentedHitsPositionParterSuccessful_percent,takedowns_to_hits, HitsPositionDistance_to_hits, HitsPositionClinch_to_hits, HitsPositionParter_to_hits, sigStrikesAccuracy, significantStrikesLandPerMinute, takedownsAccuracy, takedownsPer15min\n"
   ]
  },
  {
   "cell_type": "code",
   "execution_count": 11,
   "metadata": {
    "pycharm": {
     "name": "#%%\n"
    }
   },
   "outputs": [],
   "source": [
    "fightStats_cols = ['hitsPM', 'accentedHitsPM', 'takedownsPM',\n",
    "                   'accentedHitsDistancePM', 'accentedHitsClinchPM', 'accentedHitsParterPM',\n",
    "\n",
    "                   'hitsSuccessfulPM',  'takedownsSuccessfulPM', #'accentedHitsSuccessfulPM',\n",
    "                   'accentedHitsDistanceSuccessfulPM', 'accentedHitsClinchSuccessfulPM', 'accentedHitsParterSuccessfulPM',\n",
    "\n",
    "                   'hitsSuccessful_percent', 'accentedHitsSuccessful_percent', 'accentedHits_percent',\n",
    "                   'takedownSuccessful_percent', 'accentedHitsPositionDistanceSuccessful_prcent',\n",
    "                   'accentedHitsPositionClinchSuccessful_percent',  'accentedHitsPositionParterSuccessful_percent',\n",
    "                   'takedowns_to_hits', 'HitsPositionDistance_to_hits', 'HitsPositionClinch_to_hits',\n",
    "                   'HitsPositionParter_to_hits',\n",
    "                   'sigStrikesAccuracy', 'significantStrikesLandPerMinute', 'takedownsAccuracy', 'takedownsPer15min'\n",
    "                   ]\n",
    "\n",
    "fighter1_cols = [i+'_fighter1' for i in fightStats_cols]\n",
    "fighter2_cols = [i+'_fighter2' for i in fightStats_cols]\n"
   ]
  },
  {
   "cell_type": "code",
   "execution_count": 12,
   "metadata": {
    "pycharm": {
     "name": "#%%\n"
    }
   },
   "outputs": [],
   "source": [
    "df_stats = pd.DataFrame(index = df.index, columns=fighter1_cols + fighter2_cols) # + ['roundsCount'])\n",
    "\n",
    "suppl_cols =  ['id', 'city', 'completed', 'country', 'duration','eventDate_date','fighterId_1', 'fighterId_2', 'name', 'rounds', 'timezone', 'weightCategory_name', 'winMethods', 'winnerId', 'odd1', 'odd2', 'winner',]\n",
    "\n",
    "df_stats[suppl_cols] = df[suppl_cols]"
   ]
  },
  {
   "cell_type": "code",
   "execution_count": null,
   "metadata": {
    "pycharm": {
     "name": "#%%\n"
    },
    "scrolled": true
   },
   "outputs": [
    {
     "name": "stderr",
     "output_type": "stream",
     "text": [
      "  7%|▋         | 485/7100 [00:09<02:09, 51.15it/s]"
     ]
    }
   ],
   "source": [
    "for i in tqdm(df.index[:]):\n",
    "    fighters = df.loc[i, 'fighters']\n",
    "    fighterId_1, fighterId_2, duration = df.loc[i, ['fighterId_1', 'fighterId_2', 'duration']]\n",
    "\n",
    "    # Check index of fighters in dict\n",
    "    if fighters[0]['fighterId'] == fighterId_1:\n",
    "        fighterId_1_ind = 0\n",
    "        fighterId_2_ind = 1\n",
    "    else:\n",
    "        fighterId_1_ind = 1\n",
    "        fighterId_2_ind = 0\n",
    "\n",
    "    fighter1_stats = parse_data_from_fight(fighters[fighterId_1_ind]['fightStats'], duration)\n",
    "    fighter2_stats = parse_data_from_fight(fighters[fighterId_2_ind]['fightStats'], duration)\n",
    "\n",
    "    df_stats.loc[i, fighter1_cols] = fighter1_stats\n",
    "    df_stats.loc[i, fighter2_cols] = fighter2_stats\n",
    "\n",
    "df_stats.sample(5)"
   ]
  },
  {
   "cell_type": "markdown",
   "metadata": {
    "pycharm": {
     "name": "#%% md\n"
    }
   },
   "source": [
    "Пропуски в статистических данных думаю, заполнять не стоит. Нужно их правильно обрабатывать при аггрегировании в сумму далее\n",
    "Пропуски в общей статистике - нужно попытаться исправить."
   ]
  },
  {
   "cell_type": "code",
   "execution_count": null,
   "metadata": {
    "pycharm": {
     "name": "#%%\n"
    }
   },
   "outputs": [],
   "source": [
    "# drop fights, where win method is not recognised ('[]')\n",
    "df_stats = df_stats[~(df_stats.winMethods == '[]')]"
   ]
  },
  {
   "cell_type": "code",
   "execution_count": null,
   "metadata": {
    "pycharm": {
     "name": "#%%\n"
    }
   },
   "outputs": [],
   "source": [
    "# просто удалим строки с пропущенной длительностью и количеством раундов: что с ними делать - совсем не понятно\n",
    "df_stats = df_stats[~pd.isna(df_stats.duration)]"
   ]
  },
  {
   "cell_type": "code",
   "execution_count": null,
   "metadata": {
    "pycharm": {
     "name": "#%%\n"
    }
   },
   "outputs": [],
   "source": [
    "df_stats.isna().sum()"
   ]
  },
  {
   "cell_type": "code",
   "execution_count": null,
   "metadata": {
    "pycharm": {
     "name": "#%%\n"
    }
   },
   "outputs": [],
   "source": [
    "# fill NaN in vector 'country'  as 'USA\" - the most frequency value\n",
    "df_stats.country.fillna('USA', inplace=True)"
   ]
  },
  {
   "cell_type": "code",
   "execution_count": null,
   "metadata": {
    "pycharm": {
     "name": "#%%\n"
    }
   },
   "outputs": [],
   "source": [
    "# fill NaN in vector 'city' as 'Las Vegas' and 'Rio de Janeiro' - the most frequency values per country\n",
    "df_stats.loc[(df_stats.city.isnull()) & (df_stats.country=='USA'), 'city'] = 'Las Vegas'\n",
    "df_stats.loc[(df_stats.city.isnull()) & (df_stats.country=='Brazil'), 'city'] = 'Rio de Janeiro'"
   ]
  },
  {
   "cell_type": "code",
   "execution_count": null,
   "metadata": {
    "pycharm": {
     "name": "#%%\n"
    }
   },
   "outputs": [],
   "source": [
    "df_stats.isna().sum()"
   ]
  },
  {
   "cell_type": "markdown",
   "metadata": {
    "pycharm": {
     "name": "#%% md\n"
    }
   },
   "source": [
    "### Данные о бойцах"
   ]
  },
  {
   "cell_type": "code",
   "execution_count": null,
   "metadata": {
    "pycharm": {
     "name": "#%%\n"
    }
   },
   "outputs": [],
   "source": [
    "list_stat = ['id', 'rank', 'height', 'weight', 'birthYear', 'wins']\n",
    "df_fighters_copy = fighters_df[list_stat].copy()"
   ]
  },
  {
   "cell_type": "code",
   "execution_count": null,
   "metadata": {
    "pycharm": {
     "name": "#%%\n"
    }
   },
   "outputs": [],
   "source": [
    "df_fighters_copy.isna().sum(), df_fighters_copy.shape\n",
    "\n",
    "#tem = pd.merge(df_stats, df_fighters_copy, left_on='fighterId_1', right_on='id', how='left')\n",
    "#tem.isna().sum()"
   ]
  },
  {
   "cell_type": "code",
   "execution_count": null,
   "metadata": {
    "pycharm": {
     "name": "#%%\n"
    }
   },
   "outputs": [],
   "source": [
    "# fill NaN with average values\n",
    "df_fighters_copy.height.fillna(df_fighters_copy.height.mean(), inplace=True)\n",
    "df_fighters_copy.weight.fillna(df_fighters_copy.weight.mean(), inplace=True)\n",
    "df_fighters_copy.birthYear.fillna(int(df_fighters_copy.birthYear.mean()), inplace=True)"
   ]
  },
  {
   "cell_type": "code",
   "execution_count": null,
   "metadata": {
    "pycharm": {
     "name": "#%%\n"
    }
   },
   "outputs": [],
   "source": [
    "df_fighters_copy.isna().sum()"
   ]
  },
  {
   "cell_type": "markdown",
   "metadata": {
    "pycharm": {
     "name": "#%% md\n"
    }
   },
   "source": [
    "# Resume\n",
    "В итоге ролучилось две таблицы df_stats и df_fighters_copy.\n",
    "я полумал, что слияние таблиц будет лучше сделать после разделения датасета по бойцам, чтобы не плодить векторы признаков, которые там не нужны..."
   ]
  },
  {
   "cell_type": "code",
   "execution_count": null,
   "metadata": {
    "pycharm": {
     "name": "#%%\n"
    }
   },
   "outputs": [],
   "source": [
    "df_fighters_copy"
   ]
  },
  {
   "cell_type": "code",
   "execution_count": null,
   "metadata": {
    "pycharm": {
     "name": "#%%\n"
    }
   },
   "outputs": [],
   "source": [
    "df_stats.winner.value_counts()\n",
    "# боец в красном углу побеждал в два раза чаще бойца в синем.\n",
    "# по статистике, боец в красном углу - это фаворит боя - побеждает в 90% случае. Судьи ставят на 13% больше очков красному углу."
   ]
  },
  {
   "cell_type": "markdown",
   "metadata": {
    "pycharm": {
     "name": "#%% md\n"
    }
   },
   "source": [
    "## Задача 2: Функция расчета статистики\n",
    "* кумулятивные формулы\n",
    "* простая статистика\n",
    "* Подключение данных в те бои, где у бойцов нет предыдущих боев, из таблицы fighters"
   ]
  },
  {
   "cell_type": "markdown",
   "metadata": {
    "pycharm": {
     "name": "#%% md\n"
    }
   },
   "source": [
    "Первый подпункт. Обработка типов побед"
   ]
  },
  {
   "cell_type": "code",
   "execution_count": null,
   "metadata": {
    "pycharm": {
     "name": "#%%\n"
    }
   },
   "outputs": [],
   "source": [
    "df_stats['winMethods'] = df_stats['winMethods'].apply(lambda x: x[2:-2])\n",
    "y = pd.get_dummies(df_stats.winMethods, prefix='winMethods')\n",
    "df_stats[y.columns] = y"
   ]
  },
  {
   "cell_type": "code",
   "execution_count": null,
   "metadata": {
    "pycharm": {
     "name": "#%%\n"
    }
   },
   "outputs": [],
   "source": [
    "df_stats.sample(10).T"
   ]
  },
  {
   "cell_type": "code",
   "execution_count": null,
   "metadata": {
    "pycharm": {
     "name": "#%%\n"
    }
   },
   "outputs": [],
   "source": [
    "def get_figher_statistics_from_past(df_stats, fighterId): #, eventDate):\n",
    "    '''\n",
    "    Aggregate statistics from fighter from the past.\n",
    "    Check both positions 1 and 2.\n",
    "    '''\n",
    "    first_pos_df  = df_stats[df_stats['fighterId_1'] == fighterId]\n",
    "    first_pos_df  = pd.DataFrame(first_pos_df[fighter1_cols].values)\n",
    "\n",
    "    second_pos_df = df_stats[df_stats['fighterId_2'] == fighterId]\n",
    "    second_pos_df = pd.DataFrame(second_pos_df[fighter2_cols].values)\n",
    "\n",
    "    joined_df = first_pos_df.append(second_pos_df).reset_index(drop=True)\n",
    "\n",
    "\n",
    "    return joined_df.mean(skipna=True)"
   ]
  },
  {
   "cell_type": "code",
   "execution_count": null,
   "metadata": {
    "pycharm": {
     "name": "#%%\n"
    }
   },
   "outputs": [],
   "source": [
    "train_date = '2019-01-01 00:00:00'\n",
    "valid_date = '2020-01-01 00:00:00'\n",
    "test_date = '2021-01-01 00:00:00'\n",
    "\n",
    "\n",
    "dates = [valid_date, test_date]\n",
    "train_df_stats = df_stats[df_stats['eventDate_date'] < valid_date]\n",
    "valid_df_stats = df_stats[(df_stats['eventDate_date'] >= valid_date) & (df_stats['eventDate_date'] < test_date)]\n",
    "test_df_stats = df_stats[df_stats['eventDate_date'] >= test_date]\n",
    "\n",
    "train_df_stats.shape, valid_df_stats.shape, test_df_stats.shape"
   ]
  },
  {
   "cell_type": "code",
   "execution_count": null,
   "metadata": {
    "pycharm": {
     "name": "#%%\n"
    }
   },
   "outputs": [],
   "source": [
    "train_df = train_df_stats.copy()\n",
    "list_to_calc = [\n",
    "    'fighter1_fightsAmount', 'fighter2_fightsAmount', 'fighter1_winDEC', 'fighter2_winDEC',\n",
    "    'fighter1_winDQ', 'fighter2_winDQ', 'fighter1_winKO', 'fighter1_winKO',\n",
    "    'fighter1_winNC', 'fighter2_winNC', 'fighter1_winSUB', 'fighter1_winSUB'\n",
    "]\n",
    "train_df[list_to_calc] = 0"
   ]
  },
  {
   "cell_type": "code",
   "execution_count": null,
   "metadata": {
    "pycharm": {
     "name": "#%%\n"
    }
   },
   "outputs": [],
   "source": [
    "def cumulative_sum(df, fighterId, vector=False):\n",
    "    \"\"\"\n",
    "    функция расчета суммы боев и выигрышей конкретным методом\n",
    "    :param df: датасет\n",
    "    :param fighterId: код бойца\n",
    "    :param vector: вектор признака, если не указан - считаем количество боев\n",
    "    :return: сумма по выбранному вектору или сумма боев\n",
    "    \"\"\"\n",
    "\n",
    "    if not vector:\n",
    "        result = (df['fighterId_1'] == fighterId | (df['fighterId_2'] == fighterId)).sum(skipna=True)\n",
    "\n",
    "    else:\n",
    "        result = (((df['fighterId_1'] == fighterId) & (df[vector] == 1) & (df['winner'] == True)) |\n",
    "                  ((df['fighterId_2'] == fighterId) & (df[vector] == 1) & (df['winner'] == False))).sum(skipna=True)\n",
    "\n",
    "    if not result:\n",
    "        result = 0\n",
    "\n",
    "    return result"
   ]
  },
  {
   "cell_type": "code",
   "execution_count": null,
   "metadata": {
    "pycharm": {
     "name": "#%%\n"
    }
   },
   "outputs": [],
   "source": [
    "#train_df.iloc[0]\n",
    "#fighterId_1, fighterId_2, max_date = train_df.loc[0, ['fighterId_1', 'fighterId_2', 'eventDate_date']]\n",
    "#print(fighterId_1, fighterId_2, max_date)\n",
    "\n",
    "#temp_df = df_stats[df_stats.eventDate_date < max_date].copy()\n",
    "\n",
    "#fighter1_history_stats = get_figher_statistics_from_past(temp_df, fighterId_1)\n",
    "#train_df.loc[0, fighter1_cols] = fighter1_history_stats.values\n",
    "\n",
    "#temp_df"
   ]
  },
  {
   "cell_type": "code",
   "execution_count": null,
   "metadata": {
    "pycharm": {
     "name": "#%%\n"
    }
   },
   "outputs": [],
   "source": [
    "for i in tqdm(train_df_stats.index):\n",
    "    fighterId_1, fighterId_2, max_date = train_df.loc[i, ['fighterId_1', 'fighterId_2', 'eventDate_date']]\n",
    "\n",
    "    if max_date == df_stats.eventDate_date.min():\n",
    "        continue\n",
    "\n",
    "    temp_df = df_stats[df_stats.eventDate_date < max_date].copy()\n",
    "\n",
    "    # строчка для обновления даты перед каждым файтом\n",
    "    fighter1_history_stats = get_figher_statistics_from_past(temp_df, fighterId_1)\n",
    "    train_df.loc[i, fighter1_cols] = fighter1_history_stats.values\n",
    "\n",
    "    fighter2_history_stats = get_figher_statistics_from_past(temp_df, fighterId_2)\n",
    "    train_df.loc[i, fighter2_cols] = fighter2_history_stats.values\n",
    "\n",
    "    fighter1_fightsAmount = cumulative_sum(temp_df, fighterId_1)\n",
    "    fighter2_fightsAmount = cumulative_sum(temp_df, fighterId_2)\n",
    "\n",
    "    # подсчет типов побед Dec по каждому бойцу\n",
    "    fighter1_winDEC = cumulative_sum(temp_df, fighterId_1, 'winMethods_DEC')\n",
    "    fighter2_winDEC = cumulative_sum(temp_df, fighterId_2, 'winMethods_DEC')\n",
    "\n",
    "    fighter1_winDQ = cumulative_sum(temp_df, fighterId_1, 'winMethods_DQ')\n",
    "    fighter2_winDQ = cumulative_sum(temp_df, fighterId_2, 'winMethods_DQ')\n",
    "\n",
    "    fighter1_winKO = cumulative_sum(temp_df, fighterId_1, 'winMethods_KO')\n",
    "    fighter2_winKO = cumulative_sum(temp_df, fighterId_2, 'winMethods_KO')\n",
    "\n",
    "    fighter1_winNC = cumulative_sum(temp_df, fighterId_1, 'winMethods_NC')\n",
    "    fighter2_winNC = cumulative_sum(temp_df, fighterId_2, 'winMethods_NC')\n",
    "\n",
    "    fighter1_winSUB = cumulative_sum(temp_df, fighterId_1, 'winMethods_SUB')\n",
    "    fighter2_winSUB = cumulative_sum(temp_df, fighterId_2, 'winMethods_SUB')\n",
    "\n",
    "    # внесение данных в дата сет\n",
    "    train_df.loc[i, ['fighter1_fightsAmount', 'fighter2_fightsAmount']] = fighter1_fightsAmount, fighter2_fightsAmount\n",
    "    train_df.loc[i, ['fighter1_winDEC', 'fighter2_winDEC']] = fighter1_winDEC, fighter2_winDEC\n",
    "    train_df.loc[i, ['fighter1_winDQ', 'fighter2_winDQ']] = fighter1_winDQ, fighter2_winDQ\n",
    "#    train_df.loc[i, ['fighter1_winKO', 'fighter2_winKO']] = fighter1_winKO, fighter2_winKO\n",
    "    train_df.loc[i, ['fighter1_winNC', 'fighter2_winNC']] = fighter1_winNC, fighter2_winNC\n",
    "#    train_df.loc[i, ['fighter1_winSUB', 'fighter2_winSUB']] = fighter1_winSUB, fighter2_winSUB"
   ]
  },
  {
   "cell_type": "code",
   "execution_count": null,
   "metadata": {
    "pycharm": {
     "name": "#%%\n"
    }
   },
   "outputs": [],
   "source": [
    "train_df"
   ]
  },
  {
   "cell_type": "code",
   "execution_count": null,
   "metadata": {
    "pycharm": {
     "name": "#%%\n"
    }
   },
   "outputs": [],
   "source": [
    "valid_df = valid_df_stats.copy()\n",
    "list_to_calc = [\n",
    "    'fighter1_fightsAmount', 'fighter2_fightsAmount', 'fighter1_winDEC', 'fighter2_winDEC',\n",
    "    'fighter1_winDQ', 'fighter2_winDQ', 'fighter1_winKO', 'fighter1_winKO',\n",
    "    'fighter1_winNC', 'fighter2_winNC', 'fighter1_winSUB', 'fighter1_winSUB'\n",
    "]\n",
    "valid_df[list_to_calc] = 0\n",
    "\n",
    "for i in tqdm(valid_df_stats.index):\n",
    "    fighterId_1, fighterId_2, max_date = valid_df.loc[i, ['fighterId_1', 'fighterId_2', 'eventDate_date']]\n",
    "\n",
    "    if max_date == df_stats.eventDate_date.min():\n",
    "        continue\n",
    "\n",
    "    temp_df = df_stats[df_stats.eventDate_date < max_date].copy()\n",
    "\n",
    "    # строчка для обновления даты перед каждым файтом\n",
    "    fighter1_history_stats = get_figher_statistics_from_past(temp_df, fighterId_1)\n",
    "    train_df.loc[i, fighter1_cols] = fighter1_history_stats.values\n",
    "\n",
    "    fighter2_history_stats = get_figher_statistics_from_past(temp_df, fighterId_2)\n",
    "    train_df.loc[i, fighter2_cols] = fighter2_history_stats.values\n",
    "\n",
    "    fighter1_fightsAmount = cumulative_sum(temp_df, fighterId_1)\n",
    "    fighter2_fightsAmount = cumulative_sum(temp_df, fighterId_2)\n",
    "\n",
    "    # подсчет типов побед Dec по каждому бойцу\n",
    "    fighter1_winDEC = cumulative_sum(temp_df, fighterId_1, 'winMethods_DEC')\n",
    "    fighter2_winDEC = cumulative_sum(temp_df, fighterId_2, 'winMethods_DEC')\n",
    "\n",
    "    fighter1_winDQ = cumulative_sum(temp_df, fighterId_1, 'winMethods_DQ')\n",
    "    fighter2_winDQ = cumulative_sum(temp_df, fighterId_2, 'winMethods_DQ')\n",
    "\n",
    "    fighter1_winKO = cumulative_sum(temp_df, fighterId_1, 'winMethods_KO')\n",
    "    fighter2_winKO = cumulative_sum(temp_df, fighterId_2, 'winMethods_KO')\n",
    "\n",
    "    fighter1_winNC = cumulative_sum(temp_df, fighterId_1, 'winMethods_NC')\n",
    "    fighter2_winNC = cumulative_sum(temp_df, fighterId_2, 'winMethods_NC')\n",
    "\n",
    "    fighter1_winSUB = cumulative_sum(temp_df, fighterId_1, 'winMethods_SUB')\n",
    "    fighter2_winSUB = cumulative_sum(temp_df, fighterId_2, 'winMethods_SUB')\n",
    "\n",
    "    # внесение данных в дата сет\n",
    "    valid_df.loc[i, ['fighter1_fightsAmount', 'fighter2_fightsAmount']] = fighter1_fightsAmount, fighter2_fightsAmount\n",
    "    valid_df.loc[i, ['fighter1_winDEC', 'fighter2_winDEC']] = fighter1_winDEC, fighter2_winDEC\n",
    "    valid_df.loc[i, ['fighter1_winDQ', 'fighter2_winDQ']] = fighter1_winDQ, fighter2_winDQ\n",
    "#    valid_df.loc[i, ['fighter1_winKO', 'fighter2_winKO']] = fighter1_winKO, fighter2_winKO\n",
    "    valid_df.loc[i, ['fighter1_winNC', 'fighter2_winNC']] = fighter1_winNC, fighter2_winNC\n",
    "#    valid_df.loc[i, ['fighter1_winSUB', 'fighter2_winSUB']] = fighter1_winSUB, fighter2_winSUB"
   ]
  },
  {
   "cell_type": "code",
   "execution_count": null,
   "metadata": {
    "pycharm": {
     "name": "#%%\n"
    }
   },
   "outputs": [],
   "source": [
    "train_df.isna().sum()"
   ]
  },
  {
   "cell_type": "code",
   "execution_count": null,
   "metadata": {
    "pycharm": {
     "name": "#%%\n"
    }
   },
   "outputs": [],
   "source": []
  },
  {
   "cell_type": "markdown",
   "metadata": {
    "pycharm": {
     "name": "#%% md\n"
    }
   },
   "source": [
    "### Combine"
   ]
  },
  {
   "cell_type": "code",
   "execution_count": null,
   "metadata": {
    "pycharm": {
     "name": "#%%\n"
    }
   },
   "outputs": [],
   "source": [
    "def combine_df(to_combine_df):\n",
    "    df_combined = pd.DataFrame(to_combine_df[fighter1_cols].values - to_combine_df[fighter2_cols].values,\n",
    "                               index=to_combine_df.index)\n",
    "\n",
    "    df_combined.columns = fightStats_cols\n",
    "    df_combined['eventDate_date'] = to_combine_df['eventDate_date']\n",
    "    df_combined['winner'] = to_combine_df['winner']\n",
    "    df_combined['odd_diff'] = to_combine_df['odd1'] - to_combine_df['odd2']\n",
    "    df_combined['fighter1_fightsAmount'] = to_combine_df['fighter1_fightsAmount']\n",
    "    df_combined['fighter2_fightsAmount'] = to_combine_df['fighter2_fightsAmount']\n",
    "\n",
    "    df_combined['odd1'] = to_combine_df['odd1']\n",
    "    df_combined['odd2'] = to_combine_df['odd2']\n",
    "    return df_combined"
   ]
  },
  {
   "cell_type": "code",
   "execution_count": null,
   "metadata": {
    "pycharm": {
     "name": "#%%\n"
    }
   },
   "outputs": [],
   "source": [
    "train_df_combined = combine_df(train_df)\n",
    "valid_df_combined = combine_df(valid_df)"
   ]
  },
  {
   "cell_type": "code",
   "execution_count": null,
   "metadata": {
    "pycharm": {
     "name": "#%%\n"
    }
   },
   "outputs": [],
   "source": [
    "train_df_combined.to_csv('data/train_combined.csv')\n",
    "valid_df_combined.to_csv('data/valid_combined.csv')"
   ]
  },
  {
   "cell_type": "code",
   "execution_count": null,
   "metadata": {
    "pycharm": {
     "name": "#%%\n"
    }
   },
   "outputs": [],
   "source": []
  },
  {
   "cell_type": "code",
   "execution_count": null,
   "metadata": {
    "pycharm": {
     "name": "#%%\n"
    }
   },
   "outputs": [],
   "source": []
  },
  {
   "cell_type": "code",
   "execution_count": null,
   "metadata": {
    "pycharm": {
     "name": "#%%\n"
    }
   },
   "outputs": [],
   "source": []
  },
  {
   "cell_type": "markdown",
   "metadata": {
    "pycharm": {
     "name": "#%% md\n"
    }
   },
   "source": [
    "## Задача 3: Разделение датасета\n",
    "условия:\n",
    "* есть список с общими фичами (данные про бой: дата, место и т.п.)\n",
    "* есть список с фичами для бойца (без учета индекса \"f1_\" \"f2_\"\n",
    "* есть датасет и запись с боем для расчета.\n",
    "нужно\n",
    "* получить две записи с бойцами по этому бою\n",
    "\n",
    "Далее - разделить датасет по дате до 2020 года (train) и после 2020 (valid)\n",
    "(еще вариант - оставить на тест 2021 год отдельно)\n"
   ]
  },
  {
   "cell_type": "code",
   "execution_count": null,
   "metadata": {
    "pycharm": {
     "name": "#%%\n"
    }
   },
   "outputs": [],
   "source": []
  },
  {
   "cell_type": "code",
   "execution_count": null,
   "metadata": {
    "pycharm": {
     "name": "#%%\n"
    }
   },
   "outputs": [],
   "source": []
  },
  {
   "cell_type": "markdown",
   "metadata": {
    "pycharm": {
     "name": "#%% md\n"
    }
   },
   "source": [
    "## Этап II. Проверка - подбор моделей\n",
    "* feature_importance\n",
    "* cross correlation\n"
   ]
  },
  {
   "cell_type": "code",
   "execution_count": null,
   "metadata": {
    "pycharm": {
     "name": "#%%\n"
    }
   },
   "outputs": [],
   "source": []
  },
  {
   "cell_type": "markdown",
   "metadata": {
    "pycharm": {
     "name": "#%% md\n"
    }
   },
   "source": [
    "## Этап III. Prediction\n",
    "* расчет результата предсказания для каждого бойца\n",
    "* интрепретация с учетом боя (найдем вероятности из предсказания и возьмем победителя с большим значением)\n",
    "* расчет метрики по 2020 году."
   ]
  },
  {
   "cell_type": "code",
   "execution_count": null,
   "metadata": {
    "pycharm": {
     "name": "#%%\n"
    }
   },
   "outputs": [],
   "source": []
  },
  {
   "cell_type": "markdown",
   "metadata": {
    "pycharm": {
     "name": "#%% md\n"
    }
   },
   "source": []
  }
 ],
 "metadata": {
  "kernelspec": {
   "display_name": "Python 3 (ipykernel)",
   "language": "python",
   "name": "python3"
  },
  "language_info": {
   "codemirror_mode": {
    "name": "ipython",
    "version": 3
   },
   "file_extension": ".py",
   "mimetype": "text/x-python",
   "name": "python",
   "nbconvert_exporter": "python",
   "pygments_lexer": "ipython3",
   "version": "3.9.7"
  }
 },
 "nbformat": 4,
 "nbformat_minor": 1
}
