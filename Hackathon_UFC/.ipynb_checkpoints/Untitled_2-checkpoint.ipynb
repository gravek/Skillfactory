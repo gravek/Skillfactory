{
 "cells": [
  {
   "cell_type": "code",
   "execution_count": 1,
   "id": "ada21f94",
   "metadata": {},
   "outputs": [],
   "source": [
    "import pandas as pd\n",
    "import numpy as np\n",
    "\n",
    "import matplotlib.pyplot as plt\n",
    "import seaborn as sns\n",
    "\n",
    "from ast import literal_eval\n",
    "from IPython.display import Markdown, display\n",
    "from itertools import combinations\n",
    "from scipy.stats import ttest_ind"
   ]
  },
  {
   "cell_type": "code",
   "execution_count": 2,
   "id": "d56932f7",
   "metadata": {},
   "outputs": [],
   "source": [
    "train = pd.read_csv(\"train_df_combined.csv\")\n",
    "test = pd.read_csv(\"test_df_combined.csv\")"
   ]
  },
  {
   "cell_type": "code",
   "execution_count": 3,
   "id": "c9d269ad",
   "metadata": {},
   "outputs": [
    {
     "data": {
      "text/html": [
       "<div>\n",
       "<style scoped>\n",
       "    .dataframe tbody tr th:only-of-type {\n",
       "        vertical-align: middle;\n",
       "    }\n",
       "\n",
       "    .dataframe tbody tr th {\n",
       "        vertical-align: top;\n",
       "    }\n",
       "\n",
       "    .dataframe thead th {\n",
       "        text-align: right;\n",
       "    }\n",
       "</style>\n",
       "<table border=\"1\" class=\"dataframe\">\n",
       "  <thead>\n",
       "    <tr style=\"text-align: right;\">\n",
       "      <th></th>\n",
       "      <th>Unnamed: 0</th>\n",
       "      <th>hitsPM</th>\n",
       "      <th>accentedHitsPM</th>\n",
       "      <th>takedownsPM</th>\n",
       "      <th>accentedHitsDistancePM</th>\n",
       "      <th>accentedHitsClinchPM</th>\n",
       "      <th>accentedHitsParterPM</th>\n",
       "      <th>hitsSuccessfulPM</th>\n",
       "      <th>accentedHitsSuccessfulPM</th>\n",
       "      <th>takedownsSuccessfulPM</th>\n",
       "      <th>...</th>\n",
       "      <th>HitsPositionDistance_to_hits</th>\n",
       "      <th>HitsPositionClinch_to_hits</th>\n",
       "      <th>HitsPositionParter_to_hits</th>\n",
       "      <th>eventDate.date</th>\n",
       "      <th>winner</th>\n",
       "      <th>odd_diff</th>\n",
       "      <th>fighter1_fightsAmount</th>\n",
       "      <th>fighter2_fightsAmount</th>\n",
       "      <th>odd1</th>\n",
       "      <th>odd2</th>\n",
       "    </tr>\n",
       "  </thead>\n",
       "  <tbody>\n",
       "    <tr>\n",
       "      <th>0</th>\n",
       "      <td>0</td>\n",
       "      <td>18.537278</td>\n",
       "      <td>12.764268</td>\n",
       "      <td>0.000000</td>\n",
       "      <td>9.631740</td>\n",
       "      <td>1.257895</td>\n",
       "      <td>1.874633</td>\n",
       "      <td>14.205776</td>\n",
       "      <td>9.478651</td>\n",
       "      <td>0.0</td>\n",
       "      <td>...</td>\n",
       "      <td>NaN</td>\n",
       "      <td>NaN</td>\n",
       "      <td>NaN</td>\n",
       "      <td>2008-07-19 00:00:00</td>\n",
       "      <td>True</td>\n",
       "      <td>2.19</td>\n",
       "      <td>6</td>\n",
       "      <td>1</td>\n",
       "      <td>3.53</td>\n",
       "      <td>1.34</td>\n",
       "    </tr>\n",
       "    <tr>\n",
       "      <th>1</th>\n",
       "      <td>1</td>\n",
       "      <td>19.651827</td>\n",
       "      <td>17.498256</td>\n",
       "      <td>1.212708</td>\n",
       "      <td>12.891113</td>\n",
       "      <td>2.732143</td>\n",
       "      <td>1.875000</td>\n",
       "      <td>12.888787</td>\n",
       "      <td>10.785216</td>\n",
       "      <td>0.0</td>\n",
       "      <td>...</td>\n",
       "      <td>0.212583</td>\n",
       "      <td>-0.060199</td>\n",
       "      <td>0.040974</td>\n",
       "      <td>2011-03-03 00:00:00</td>\n",
       "      <td>True</td>\n",
       "      <td>0.89</td>\n",
       "      <td>8</td>\n",
       "      <td>1</td>\n",
       "      <td>2.38</td>\n",
       "      <td>1.49</td>\n",
       "    </tr>\n",
       "  </tbody>\n",
       "</table>\n",
       "<p>2 rows × 31 columns</p>\n",
       "</div>"
      ],
      "text/plain": [
       "   Unnamed: 0     hitsPM  accentedHitsPM  takedownsPM  accentedHitsDistancePM  \\\n",
       "0           0  18.537278       12.764268     0.000000                9.631740   \n",
       "1           1  19.651827       17.498256     1.212708               12.891113   \n",
       "\n",
       "   accentedHitsClinchPM  accentedHitsParterPM  hitsSuccessfulPM  \\\n",
       "0              1.257895              1.874633         14.205776   \n",
       "1              2.732143              1.875000         12.888787   \n",
       "\n",
       "   accentedHitsSuccessfulPM  takedownsSuccessfulPM  ...  \\\n",
       "0                  9.478651                    0.0  ...   \n",
       "1                 10.785216                    0.0  ...   \n",
       "\n",
       "   HitsPositionDistance_to_hits  HitsPositionClinch_to_hits  \\\n",
       "0                           NaN                         NaN   \n",
       "1                      0.212583                   -0.060199   \n",
       "\n",
       "   HitsPositionParter_to_hits       eventDate.date  winner  odd_diff  \\\n",
       "0                         NaN  2008-07-19 00:00:00    True      2.19   \n",
       "1                    0.040974  2011-03-03 00:00:00    True      0.89   \n",
       "\n",
       "   fighter1_fightsAmount  fighter2_fightsAmount  odd1  odd2  \n",
       "0                      6                      1  3.53  1.34  \n",
       "1                      8                      1  2.38  1.49  \n",
       "\n",
       "[2 rows x 31 columns]"
      ]
     },
     "execution_count": 3,
     "metadata": {},
     "output_type": "execute_result"
    }
   ],
   "source": [
    "train.head(2)"
   ]
  },
  {
   "cell_type": "code",
   "execution_count": 4,
   "id": "c8eda54c",
   "metadata": {},
   "outputs": [
    {
     "data": {
      "text/html": [
       "<div>\n",
       "<style scoped>\n",
       "    .dataframe tbody tr th:only-of-type {\n",
       "        vertical-align: middle;\n",
       "    }\n",
       "\n",
       "    .dataframe tbody tr th {\n",
       "        vertical-align: top;\n",
       "    }\n",
       "\n",
       "    .dataframe thead th {\n",
       "        text-align: right;\n",
       "    }\n",
       "</style>\n",
       "<table border=\"1\" class=\"dataframe\">\n",
       "  <thead>\n",
       "    <tr style=\"text-align: right;\">\n",
       "      <th></th>\n",
       "      <th>Unnamed: 0</th>\n",
       "      <th>hitsPM</th>\n",
       "      <th>accentedHitsPM</th>\n",
       "      <th>takedownsPM</th>\n",
       "      <th>accentedHitsDistancePM</th>\n",
       "      <th>accentedHitsClinchPM</th>\n",
       "      <th>accentedHitsParterPM</th>\n",
       "      <th>hitsSuccessfulPM</th>\n",
       "      <th>accentedHitsSuccessfulPM</th>\n",
       "      <th>takedownsSuccessfulPM</th>\n",
       "      <th>...</th>\n",
       "      <th>HitsPositionDistance_to_hits</th>\n",
       "      <th>HitsPositionClinch_to_hits</th>\n",
       "      <th>HitsPositionParter_to_hits</th>\n",
       "      <th>eventDate.date</th>\n",
       "      <th>winner</th>\n",
       "      <th>odd_diff</th>\n",
       "      <th>fighter1_fightsAmount</th>\n",
       "      <th>fighter2_fightsAmount</th>\n",
       "      <th>odd1</th>\n",
       "      <th>odd2</th>\n",
       "    </tr>\n",
       "  </thead>\n",
       "  <tbody>\n",
       "    <tr>\n",
       "      <th>0</th>\n",
       "      <td>2622</td>\n",
       "      <td>-25.897940</td>\n",
       "      <td>-19.612038</td>\n",
       "      <td>-0.024196</td>\n",
       "      <td>1.899624</td>\n",
       "      <td>0.768617</td>\n",
       "      <td>-22.280279</td>\n",
       "      <td>-16.028251</td>\n",
       "      <td>-11.261337</td>\n",
       "      <td>-0.047324</td>\n",
       "      <td>...</td>\n",
       "      <td>0.165727</td>\n",
       "      <td>0.023541</td>\n",
       "      <td>-0.200478</td>\n",
       "      <td>2019-01-20 02:00:00</td>\n",
       "      <td>False</td>\n",
       "      <td>4.28</td>\n",
       "      <td>2</td>\n",
       "      <td>3</td>\n",
       "      <td>5.48</td>\n",
       "      <td>1.20</td>\n",
       "    </tr>\n",
       "    <tr>\n",
       "      <th>1</th>\n",
       "      <td>2623</td>\n",
       "      <td>8.413548</td>\n",
       "      <td>8.093302</td>\n",
       "      <td>-1.621034</td>\n",
       "      <td>5.983601</td>\n",
       "      <td>-0.272975</td>\n",
       "      <td>2.382676</td>\n",
       "      <td>4.024911</td>\n",
       "      <td>3.855419</td>\n",
       "      <td>0.000000</td>\n",
       "      <td>...</td>\n",
       "      <td>-0.358532</td>\n",
       "      <td>-0.020833</td>\n",
       "      <td>0.378571</td>\n",
       "      <td>2019-01-20 02:00:00</td>\n",
       "      <td>True</td>\n",
       "      <td>-2.35</td>\n",
       "      <td>2</td>\n",
       "      <td>3</td>\n",
       "      <td>1.40</td>\n",
       "      <td>3.75</td>\n",
       "    </tr>\n",
       "  </tbody>\n",
       "</table>\n",
       "<p>2 rows × 31 columns</p>\n",
       "</div>"
      ],
      "text/plain": [
       "   Unnamed: 0     hitsPM  accentedHitsPM  takedownsPM  accentedHitsDistancePM  \\\n",
       "0        2622 -25.897940      -19.612038    -0.024196                1.899624   \n",
       "1        2623   8.413548        8.093302    -1.621034                5.983601   \n",
       "\n",
       "   accentedHitsClinchPM  accentedHitsParterPM  hitsSuccessfulPM  \\\n",
       "0              0.768617            -22.280279        -16.028251   \n",
       "1             -0.272975              2.382676          4.024911   \n",
       "\n",
       "   accentedHitsSuccessfulPM  takedownsSuccessfulPM  ...  \\\n",
       "0                -11.261337              -0.047324  ...   \n",
       "1                  3.855419               0.000000  ...   \n",
       "\n",
       "   HitsPositionDistance_to_hits  HitsPositionClinch_to_hits  \\\n",
       "0                      0.165727                    0.023541   \n",
       "1                     -0.358532                   -0.020833   \n",
       "\n",
       "   HitsPositionParter_to_hits       eventDate.date  winner  odd_diff  \\\n",
       "0                   -0.200478  2019-01-20 02:00:00   False      4.28   \n",
       "1                    0.378571  2019-01-20 02:00:00    True     -2.35   \n",
       "\n",
       "   fighter1_fightsAmount  fighter2_fightsAmount  odd1  odd2  \n",
       "0                      2                      3  5.48  1.20  \n",
       "1                      2                      3  1.40  3.75  \n",
       "\n",
       "[2 rows x 31 columns]"
      ]
     },
     "execution_count": 4,
     "metadata": {},
     "output_type": "execute_result"
    }
   ],
   "source": [
    "test.head(2)"
   ]
  },
  {
   "cell_type": "markdown",
   "id": "d7eb8645",
   "metadata": {},
   "source": [
    "Перед анализом данных промаркирум трейн и тест, чтобы перед ML выкинуть ненужное. Таким образом EDA проведем для всего  набора данных, а для ML оставим нужное и избежим переобучения."
   ]
  },
  {
   "cell_type": "code",
   "execution_count": 4,
   "id": "6aa79573",
   "metadata": {},
   "outputs": [],
   "source": [
    "train['ML'] = 1\n",
    "test['ML'] = 0"
   ]
  },
  {
   "cell_type": "markdown",
   "id": "60edbd26",
   "metadata": {},
   "source": [
    "Обединим данные"
   ]
  },
  {
   "cell_type": "code",
   "execution_count": 5,
   "id": "2c33d384",
   "metadata": {},
   "outputs": [],
   "source": [
    "df = pd.concat([test, train])"
   ]
  },
  {
   "cell_type": "code",
   "execution_count": 6,
   "id": "3dc9cd4e",
   "metadata": {},
   "outputs": [
    {
     "data": {
      "text/html": [
       "<div>\n",
       "<style scoped>\n",
       "    .dataframe tbody tr th:only-of-type {\n",
       "        vertical-align: middle;\n",
       "    }\n",
       "\n",
       "    .dataframe tbody tr th {\n",
       "        vertical-align: top;\n",
       "    }\n",
       "\n",
       "    .dataframe thead th {\n",
       "        text-align: right;\n",
       "    }\n",
       "</style>\n",
       "<table border=\"1\" class=\"dataframe\">\n",
       "  <thead>\n",
       "    <tr style=\"text-align: right;\">\n",
       "      <th></th>\n",
       "      <th>Unnamed: 0</th>\n",
       "      <th>hitsPM</th>\n",
       "      <th>accentedHitsPM</th>\n",
       "      <th>takedownsPM</th>\n",
       "      <th>accentedHitsDistancePM</th>\n",
       "      <th>accentedHitsClinchPM</th>\n",
       "      <th>accentedHitsParterPM</th>\n",
       "      <th>hitsSuccessfulPM</th>\n",
       "      <th>accentedHitsSuccessfulPM</th>\n",
       "      <th>takedownsSuccessfulPM</th>\n",
       "      <th>...</th>\n",
       "      <th>HitsPositionClinch_to_hits</th>\n",
       "      <th>HitsPositionParter_to_hits</th>\n",
       "      <th>eventDate.date</th>\n",
       "      <th>winner</th>\n",
       "      <th>odd_diff</th>\n",
       "      <th>fighter1_fightsAmount</th>\n",
       "      <th>fighter2_fightsAmount</th>\n",
       "      <th>odd1</th>\n",
       "      <th>odd2</th>\n",
       "      <th>ML</th>\n",
       "    </tr>\n",
       "  </thead>\n",
       "  <tbody>\n",
       "    <tr>\n",
       "      <th>0</th>\n",
       "      <td>2622</td>\n",
       "      <td>-25.897940</td>\n",
       "      <td>-19.612038</td>\n",
       "      <td>-0.024196</td>\n",
       "      <td>1.899624</td>\n",
       "      <td>0.768617</td>\n",
       "      <td>-22.280279</td>\n",
       "      <td>-16.028251</td>\n",
       "      <td>-11.261337</td>\n",
       "      <td>-0.047324</td>\n",
       "      <td>...</td>\n",
       "      <td>0.023541</td>\n",
       "      <td>-0.200478</td>\n",
       "      <td>2019-01-20 02:00:00</td>\n",
       "      <td>False</td>\n",
       "      <td>4.28</td>\n",
       "      <td>2</td>\n",
       "      <td>3</td>\n",
       "      <td>5.48</td>\n",
       "      <td>1.20</td>\n",
       "      <td>0</td>\n",
       "    </tr>\n",
       "    <tr>\n",
       "      <th>1</th>\n",
       "      <td>2623</td>\n",
       "      <td>8.413548</td>\n",
       "      <td>8.093302</td>\n",
       "      <td>-1.621034</td>\n",
       "      <td>5.983601</td>\n",
       "      <td>-0.272975</td>\n",
       "      <td>2.382676</td>\n",
       "      <td>4.024911</td>\n",
       "      <td>3.855419</td>\n",
       "      <td>0.000000</td>\n",
       "      <td>...</td>\n",
       "      <td>-0.020833</td>\n",
       "      <td>0.378571</td>\n",
       "      <td>2019-01-20 02:00:00</td>\n",
       "      <td>True</td>\n",
       "      <td>-2.35</td>\n",
       "      <td>2</td>\n",
       "      <td>3</td>\n",
       "      <td>1.40</td>\n",
       "      <td>3.75</td>\n",
       "      <td>0</td>\n",
       "    </tr>\n",
       "    <tr>\n",
       "      <th>2</th>\n",
       "      <td>2624</td>\n",
       "      <td>-7.590965</td>\n",
       "      <td>1.043771</td>\n",
       "      <td>-0.550890</td>\n",
       "      <td>4.832289</td>\n",
       "      <td>-4.653893</td>\n",
       "      <td>0.865375</td>\n",
       "      <td>-10.658257</td>\n",
       "      <td>-3.237961</td>\n",
       "      <td>1.297714</td>\n",
       "      <td>...</td>\n",
       "      <td>-0.042848</td>\n",
       "      <td>-0.062206</td>\n",
       "      <td>2019-01-20 02:00:00</td>\n",
       "      <td>False</td>\n",
       "      <td>-0.26</td>\n",
       "      <td>1</td>\n",
       "      <td>1</td>\n",
       "      <td>1.89</td>\n",
       "      <td>2.15</td>\n",
       "      <td>0</td>\n",
       "    </tr>\n",
       "    <tr>\n",
       "      <th>3</th>\n",
       "      <td>2625</td>\n",
       "      <td>-57.506089</td>\n",
       "      <td>-49.296309</td>\n",
       "      <td>-0.098447</td>\n",
       "      <td>-50.491969</td>\n",
       "      <td>-2.983843</td>\n",
       "      <td>4.179503</td>\n",
       "      <td>-25.856508</td>\n",
       "      <td>-18.955591</td>\n",
       "      <td>0.500370</td>\n",
       "      <td>...</td>\n",
       "      <td>0.098823</td>\n",
       "      <td>0.066837</td>\n",
       "      <td>2019-01-20 02:00:00</td>\n",
       "      <td>True</td>\n",
       "      <td>2.41</td>\n",
       "      <td>2</td>\n",
       "      <td>1</td>\n",
       "      <td>3.69</td>\n",
       "      <td>1.28</td>\n",
       "      <td>0</td>\n",
       "    </tr>\n",
       "    <tr>\n",
       "      <th>4</th>\n",
       "      <td>2626</td>\n",
       "      <td>-13.334967</td>\n",
       "      <td>-13.409557</td>\n",
       "      <td>0.355405</td>\n",
       "      <td>-3.249364</td>\n",
       "      <td>0.375843</td>\n",
       "      <td>-10.536036</td>\n",
       "      <td>-13.812913</td>\n",
       "      <td>-13.756783</td>\n",
       "      <td>0.135135</td>\n",
       "      <td>...</td>\n",
       "      <td>0.033703</td>\n",
       "      <td>-0.164385</td>\n",
       "      <td>2019-01-20 02:00:00</td>\n",
       "      <td>True</td>\n",
       "      <td>3.81</td>\n",
       "      <td>2</td>\n",
       "      <td>4</td>\n",
       "      <td>5.01</td>\n",
       "      <td>1.20</td>\n",
       "      <td>0</td>\n",
       "    </tr>\n",
       "  </tbody>\n",
       "</table>\n",
       "<p>5 rows × 32 columns</p>\n",
       "</div>"
      ],
      "text/plain": [
       "   Unnamed: 0     hitsPM  accentedHitsPM  takedownsPM  accentedHitsDistancePM  \\\n",
       "0        2622 -25.897940      -19.612038    -0.024196                1.899624   \n",
       "1        2623   8.413548        8.093302    -1.621034                5.983601   \n",
       "2        2624  -7.590965        1.043771    -0.550890                4.832289   \n",
       "3        2625 -57.506089      -49.296309    -0.098447              -50.491969   \n",
       "4        2626 -13.334967      -13.409557     0.355405               -3.249364   \n",
       "\n",
       "   accentedHitsClinchPM  accentedHitsParterPM  hitsSuccessfulPM  \\\n",
       "0              0.768617            -22.280279        -16.028251   \n",
       "1             -0.272975              2.382676          4.024911   \n",
       "2             -4.653893              0.865375        -10.658257   \n",
       "3             -2.983843              4.179503        -25.856508   \n",
       "4              0.375843            -10.536036        -13.812913   \n",
       "\n",
       "   accentedHitsSuccessfulPM  takedownsSuccessfulPM  ...  \\\n",
       "0                -11.261337              -0.047324  ...   \n",
       "1                  3.855419               0.000000  ...   \n",
       "2                 -3.237961               1.297714  ...   \n",
       "3                -18.955591               0.500370  ...   \n",
       "4                -13.756783               0.135135  ...   \n",
       "\n",
       "   HitsPositionClinch_to_hits  HitsPositionParter_to_hits  \\\n",
       "0                    0.023541                   -0.200478   \n",
       "1                   -0.020833                    0.378571   \n",
       "2                   -0.042848                   -0.062206   \n",
       "3                    0.098823                    0.066837   \n",
       "4                    0.033703                   -0.164385   \n",
       "\n",
       "        eventDate.date  winner  odd_diff  fighter1_fightsAmount  \\\n",
       "0  2019-01-20 02:00:00   False      4.28                      2   \n",
       "1  2019-01-20 02:00:00    True     -2.35                      2   \n",
       "2  2019-01-20 02:00:00   False     -0.26                      1   \n",
       "3  2019-01-20 02:00:00    True      2.41                      2   \n",
       "4  2019-01-20 02:00:00    True      3.81                      2   \n",
       "\n",
       "   fighter2_fightsAmount  odd1  odd2  ML  \n",
       "0                      3  5.48  1.20   0  \n",
       "1                      3  1.40  3.75   0  \n",
       "2                      1  1.89  2.15   0  \n",
       "3                      1  3.69  1.28   0  \n",
       "4                      4  5.01  1.20   0  \n",
       "\n",
       "[5 rows x 32 columns]"
      ]
     },
     "execution_count": 6,
     "metadata": {},
     "output_type": "execute_result"
    }
   ],
   "source": [
    "df.head()"
   ]
  },
  {
   "cell_type": "markdown",
   "id": "47e66f19",
   "metadata": {},
   "source": [
    "Переименуем столбцы"
   ]
  },
  {
   "cell_type": "code",
   "execution_count": 7,
   "id": "e18e6c44",
   "metadata": {},
   "outputs": [],
   "source": [
    "# columns_name_rus = {\n",
    "#               'Unnamed: 0' : 'id',\n",
    "#               'hitsPM' : 'удары PM',\n",
    "#               'accentedHitsPM': 'точечные удары',\n",
    "#               'takedownsPM' : 'такейкдауны (толкание соперника)',\n",
    "#               'accentedHitsDistancePM': 'прямых удары с растояния',\n",
    "#               'accentedHitsClinchPM':'удержание рук противника',\n",
    "#               'accentedHitsParterPM':'?',\n",
    "#               'hitsSuccessfulPM': 'успешные удары',\n",
    "#               'accentedHitsSuccessfulPM': 'точечные успешные удары',\n",
    "#               'takedownsSuccessfulPM': 'успешные тейкдауны',\n",
    "#               'accentedHitsDistanceSuccessfulPM': 'успешное попадание с растояние',\n",
    "#               'accentedHitsClinchSuccessfulPM' : 'успешное удержание рук соперника', \n",
    "#               'accentedHitsParterSuccessfulPM': '?',\n",
    "#               'hitsSuccessful_percent': '% результативных ударов',\n",
    "#               'accentedHitsSuccessful_percent' : '% точеных результативных ударов',\n",
    "#               'accentedHits_percent' : '% точечных ударов',\n",
    "#               'takedownSuccessful_percent' : '% результативных тейкдаунов',\n",
    "#               'accentedHitsPositionDistanceSuccessful_prcent' : '% результативных позиционных ударов с растояния',\n",
    "#               'accentedHitsPositionClinchSuccessful_percent' : '% результативных позиционных ударов во время удержания рук',\n",
    "#               'accentedHitsPositionParterSuccessful_percent' : '% результативных позиционных ударов ?', \n",
    "#               'takedowns_to_hits' : 'удары из тайкдауна',\n",
    "#               'HitsPositionDistance_to_hits' : 'удары из удаленной позиции',\n",
    "#               'HitsPositionClinch_to_hits' : 'удары из положения удержания рук',\n",
    "#               'HitsPositionParter_to_hits' : '?', \n",
    "#               'eventDate.date' : 'дата', \n",
    "#               'winner' : 'победитель', \n",
    "#               'odd_diff' : 'разница в шансах на победу',\n",
    "#               'fighter1_fightsAmount' : 'количество боев первого бойца',\n",
    "#               'fighter2_fightsAmount' : 'количество боев второго бойца', \n",
    "#               'odd1' : 'шансы на победу первого бойца',\n",
    "#               'odd2' : 'шансы на победу второго бойца'}"
   ]
  },
  {
   "cell_type": "markdown",
   "id": "07bdcf21",
   "metadata": {},
   "source": [
    "Переименуем столбцы на русский"
   ]
  },
  {
   "cell_type": "code",
   "execution_count": 8,
   "id": "d6192399",
   "metadata": {},
   "outputs": [],
   "source": [
    "# df = df.rename(columns = columns_name_rus)"
   ]
  },
  {
   "cell_type": "code",
   "execution_count": 9,
   "id": "b808013d",
   "metadata": {},
   "outputs": [
    {
     "data": {
      "text/html": [
       "<div>\n",
       "<style scoped>\n",
       "    .dataframe tbody tr th:only-of-type {\n",
       "        vertical-align: middle;\n",
       "    }\n",
       "\n",
       "    .dataframe tbody tr th {\n",
       "        vertical-align: top;\n",
       "    }\n",
       "\n",
       "    .dataframe thead th {\n",
       "        text-align: right;\n",
       "    }\n",
       "</style>\n",
       "<table border=\"1\" class=\"dataframe\">\n",
       "  <thead>\n",
       "    <tr style=\"text-align: right;\">\n",
       "      <th></th>\n",
       "      <th>Unnamed: 0</th>\n",
       "      <th>hitsPM</th>\n",
       "      <th>accentedHitsPM</th>\n",
       "      <th>takedownsPM</th>\n",
       "      <th>accentedHitsDistancePM</th>\n",
       "      <th>accentedHitsClinchPM</th>\n",
       "      <th>accentedHitsParterPM</th>\n",
       "      <th>hitsSuccessfulPM</th>\n",
       "      <th>accentedHitsSuccessfulPM</th>\n",
       "      <th>takedownsSuccessfulPM</th>\n",
       "      <th>...</th>\n",
       "      <th>HitsPositionClinch_to_hits</th>\n",
       "      <th>HitsPositionParter_to_hits</th>\n",
       "      <th>eventDate.date</th>\n",
       "      <th>winner</th>\n",
       "      <th>odd_diff</th>\n",
       "      <th>fighter1_fightsAmount</th>\n",
       "      <th>fighter2_fightsAmount</th>\n",
       "      <th>odd1</th>\n",
       "      <th>odd2</th>\n",
       "      <th>ML</th>\n",
       "    </tr>\n",
       "  </thead>\n",
       "  <tbody>\n",
       "    <tr>\n",
       "      <th>0</th>\n",
       "      <td>2622</td>\n",
       "      <td>-25.897940</td>\n",
       "      <td>-19.612038</td>\n",
       "      <td>-0.024196</td>\n",
       "      <td>1.899624</td>\n",
       "      <td>0.768617</td>\n",
       "      <td>-22.280279</td>\n",
       "      <td>-16.028251</td>\n",
       "      <td>-11.261337</td>\n",
       "      <td>-0.047324</td>\n",
       "      <td>...</td>\n",
       "      <td>0.023541</td>\n",
       "      <td>-0.200478</td>\n",
       "      <td>2019-01-20 02:00:00</td>\n",
       "      <td>False</td>\n",
       "      <td>4.28</td>\n",
       "      <td>2</td>\n",
       "      <td>3</td>\n",
       "      <td>5.48</td>\n",
       "      <td>1.20</td>\n",
       "      <td>0</td>\n",
       "    </tr>\n",
       "    <tr>\n",
       "      <th>1</th>\n",
       "      <td>2623</td>\n",
       "      <td>8.413548</td>\n",
       "      <td>8.093302</td>\n",
       "      <td>-1.621034</td>\n",
       "      <td>5.983601</td>\n",
       "      <td>-0.272975</td>\n",
       "      <td>2.382676</td>\n",
       "      <td>4.024911</td>\n",
       "      <td>3.855419</td>\n",
       "      <td>0.000000</td>\n",
       "      <td>...</td>\n",
       "      <td>-0.020833</td>\n",
       "      <td>0.378571</td>\n",
       "      <td>2019-01-20 02:00:00</td>\n",
       "      <td>True</td>\n",
       "      <td>-2.35</td>\n",
       "      <td>2</td>\n",
       "      <td>3</td>\n",
       "      <td>1.40</td>\n",
       "      <td>3.75</td>\n",
       "      <td>0</td>\n",
       "    </tr>\n",
       "    <tr>\n",
       "      <th>2</th>\n",
       "      <td>2624</td>\n",
       "      <td>-7.590965</td>\n",
       "      <td>1.043771</td>\n",
       "      <td>-0.550890</td>\n",
       "      <td>4.832289</td>\n",
       "      <td>-4.653893</td>\n",
       "      <td>0.865375</td>\n",
       "      <td>-10.658257</td>\n",
       "      <td>-3.237961</td>\n",
       "      <td>1.297714</td>\n",
       "      <td>...</td>\n",
       "      <td>-0.042848</td>\n",
       "      <td>-0.062206</td>\n",
       "      <td>2019-01-20 02:00:00</td>\n",
       "      <td>False</td>\n",
       "      <td>-0.26</td>\n",
       "      <td>1</td>\n",
       "      <td>1</td>\n",
       "      <td>1.89</td>\n",
       "      <td>2.15</td>\n",
       "      <td>0</td>\n",
       "    </tr>\n",
       "    <tr>\n",
       "      <th>3</th>\n",
       "      <td>2625</td>\n",
       "      <td>-57.506089</td>\n",
       "      <td>-49.296309</td>\n",
       "      <td>-0.098447</td>\n",
       "      <td>-50.491969</td>\n",
       "      <td>-2.983843</td>\n",
       "      <td>4.179503</td>\n",
       "      <td>-25.856508</td>\n",
       "      <td>-18.955591</td>\n",
       "      <td>0.500370</td>\n",
       "      <td>...</td>\n",
       "      <td>0.098823</td>\n",
       "      <td>0.066837</td>\n",
       "      <td>2019-01-20 02:00:00</td>\n",
       "      <td>True</td>\n",
       "      <td>2.41</td>\n",
       "      <td>2</td>\n",
       "      <td>1</td>\n",
       "      <td>3.69</td>\n",
       "      <td>1.28</td>\n",
       "      <td>0</td>\n",
       "    </tr>\n",
       "    <tr>\n",
       "      <th>4</th>\n",
       "      <td>2626</td>\n",
       "      <td>-13.334967</td>\n",
       "      <td>-13.409557</td>\n",
       "      <td>0.355405</td>\n",
       "      <td>-3.249364</td>\n",
       "      <td>0.375843</td>\n",
       "      <td>-10.536036</td>\n",
       "      <td>-13.812913</td>\n",
       "      <td>-13.756783</td>\n",
       "      <td>0.135135</td>\n",
       "      <td>...</td>\n",
       "      <td>0.033703</td>\n",
       "      <td>-0.164385</td>\n",
       "      <td>2019-01-20 02:00:00</td>\n",
       "      <td>True</td>\n",
       "      <td>3.81</td>\n",
       "      <td>2</td>\n",
       "      <td>4</td>\n",
       "      <td>5.01</td>\n",
       "      <td>1.20</td>\n",
       "      <td>0</td>\n",
       "    </tr>\n",
       "  </tbody>\n",
       "</table>\n",
       "<p>5 rows × 32 columns</p>\n",
       "</div>"
      ],
      "text/plain": [
       "   Unnamed: 0     hitsPM  accentedHitsPM  takedownsPM  accentedHitsDistancePM  \\\n",
       "0        2622 -25.897940      -19.612038    -0.024196                1.899624   \n",
       "1        2623   8.413548        8.093302    -1.621034                5.983601   \n",
       "2        2624  -7.590965        1.043771    -0.550890                4.832289   \n",
       "3        2625 -57.506089      -49.296309    -0.098447              -50.491969   \n",
       "4        2626 -13.334967      -13.409557     0.355405               -3.249364   \n",
       "\n",
       "   accentedHitsClinchPM  accentedHitsParterPM  hitsSuccessfulPM  \\\n",
       "0              0.768617            -22.280279        -16.028251   \n",
       "1             -0.272975              2.382676          4.024911   \n",
       "2             -4.653893              0.865375        -10.658257   \n",
       "3             -2.983843              4.179503        -25.856508   \n",
       "4              0.375843            -10.536036        -13.812913   \n",
       "\n",
       "   accentedHitsSuccessfulPM  takedownsSuccessfulPM  ...  \\\n",
       "0                -11.261337              -0.047324  ...   \n",
       "1                  3.855419               0.000000  ...   \n",
       "2                 -3.237961               1.297714  ...   \n",
       "3                -18.955591               0.500370  ...   \n",
       "4                -13.756783               0.135135  ...   \n",
       "\n",
       "   HitsPositionClinch_to_hits  HitsPositionParter_to_hits  \\\n",
       "0                    0.023541                   -0.200478   \n",
       "1                   -0.020833                    0.378571   \n",
       "2                   -0.042848                   -0.062206   \n",
       "3                    0.098823                    0.066837   \n",
       "4                    0.033703                   -0.164385   \n",
       "\n",
       "        eventDate.date  winner  odd_diff  fighter1_fightsAmount  \\\n",
       "0  2019-01-20 02:00:00   False      4.28                      2   \n",
       "1  2019-01-20 02:00:00    True     -2.35                      2   \n",
       "2  2019-01-20 02:00:00   False     -0.26                      1   \n",
       "3  2019-01-20 02:00:00    True      2.41                      2   \n",
       "4  2019-01-20 02:00:00    True      3.81                      2   \n",
       "\n",
       "   fighter2_fightsAmount  odd1  odd2  ML  \n",
       "0                      3  5.48  1.20   0  \n",
       "1                      3  1.40  3.75   0  \n",
       "2                      1  1.89  2.15   0  \n",
       "3                      1  3.69  1.28   0  \n",
       "4                      4  5.01  1.20   0  \n",
       "\n",
       "[5 rows x 32 columns]"
      ]
     },
     "execution_count": 9,
     "metadata": {},
     "output_type": "execute_result"
    }
   ],
   "source": [
    "df.head()"
   ]
  },
  {
   "cell_type": "code",
   "execution_count": 10,
   "id": "af45a018",
   "metadata": {},
   "outputs": [
    {
     "name": "stdout",
     "output_type": "stream",
     "text": [
      "<class 'pandas.core.frame.DataFrame'>\n",
      "Int64Index: 3123 entries, 0 to 2621\n",
      "Data columns (total 32 columns):\n",
      " #   Column                                         Non-Null Count  Dtype  \n",
      "---  ------                                         --------------  -----  \n",
      " 0   Unnamed: 0                                     3123 non-null   int64  \n",
      " 1   hitsPM                                         3122 non-null   float64\n",
      " 2   accentedHitsPM                                 3122 non-null   float64\n",
      " 3   takedownsPM                                    3122 non-null   float64\n",
      " 4   accentedHitsDistancePM                         3122 non-null   float64\n",
      " 5   accentedHitsClinchPM                           3122 non-null   float64\n",
      " 6   accentedHitsParterPM                           3122 non-null   float64\n",
      " 7   hitsSuccessfulPM                               3122 non-null   float64\n",
      " 8   accentedHitsSuccessfulPM                       3122 non-null   float64\n",
      " 9   takedownsSuccessfulPM                          3122 non-null   float64\n",
      " 10  accentedHitsDistanceSuccessfulPM               3122 non-null   float64\n",
      " 11  accentedHitsClinchSuccessfulPM                 3122 non-null   float64\n",
      " 12  accentedHitsParterSuccessfulPM                 3122 non-null   float64\n",
      " 13  hitsSuccessful_percent                         3122 non-null   float64\n",
      " 14  accentedHitsSuccessful_percent                 3122 non-null   float64\n",
      " 15  accentedHits_percent                           3122 non-null   float64\n",
      " 16  takedownSuccessful_percent                     2807 non-null   float64\n",
      " 17  accentedHitsPositionDistanceSuccessful_prcent  3107 non-null   float64\n",
      " 18  accentedHitsPositionClinchSuccessful_percent   2963 non-null   float64\n",
      " 19  accentedHitsPositionParterSuccessful_percent   2741 non-null   float64\n",
      " 20  takedowns_to_hits                              3118 non-null   float64\n",
      " 21  HitsPositionDistance_to_hits                   3118 non-null   float64\n",
      " 22  HitsPositionClinch_to_hits                     3118 non-null   float64\n",
      " 23  HitsPositionParter_to_hits                     3118 non-null   float64\n",
      " 24  eventDate.date                                 3123 non-null   object \n",
      " 25  winner                                         3123 non-null   bool   \n",
      " 26  odd_diff                                       3123 non-null   float64\n",
      " 27  fighter1_fightsAmount                          3123 non-null   int64  \n",
      " 28  fighter2_fightsAmount                          3123 non-null   int64  \n",
      " 29  odd1                                           3123 non-null   float64\n",
      " 30  odd2                                           3123 non-null   float64\n",
      " 31  ML                                             3123 non-null   int64  \n",
      "dtypes: bool(1), float64(26), int64(4), object(1)\n",
      "memory usage: 783.8+ KB\n"
     ]
    }
   ],
   "source": [
    "df.info()"
   ]
  },
  {
   "cell_type": "markdown",
   "id": "aed76c57",
   "metadata": {},
   "source": [
    "Видны пропуски в небольшом количестве. Посмотрим как они распределены между собой"
   ]
  },
  {
   "cell_type": "code",
   "execution_count": 11,
   "id": "f0e69d6b",
   "metadata": {},
   "outputs": [
    {
     "data": {
      "image/png": "[encoded data removed]",
      "text/plain": [
       "<Figure size 720x504 with 2 Axes>"
      ]
     },
     "metadata": {
      "needs_background": "light"
     },
     "output_type": "display_data"
    }
   ],
   "source": [
    "plt.figure(figsize=(10, 7))# размер тепловой карты\n",
    "sns.heatmap(df.isnull(), cmap=\"YlGnBu_r\");"
   ]
  },
  {
   "cell_type": "markdown",
   "id": "5e703b42",
   "metadata": {},
   "source": [
    "Посмотрим на target-переменную и преобразуем её: 1 - победитель, 0 - проигравший"
   ]
  },
  {
   "cell_type": "code",
   "execution_count": 12,
   "id": "b7fd55c1",
   "metadata": {},
   "outputs": [
    {
     "data": {
      "text/plain": [
       "True     1962\n",
       "False    1161\n",
       "Name: winner, dtype: int64"
      ]
     },
     "execution_count": 12,
     "metadata": {},
     "output_type": "execute_result"
    }
   ],
   "source": [
    "df['winner'].value_counts()"
   ]
  },
  {
   "cell_type": "markdown",
   "id": "b94f0d61",
   "metadata": {},
   "source": [
    "Наблюдаем дисбаланс классов"
   ]
  },
  {
   "cell_type": "code",
   "execution_count": 13,
   "id": "5ab1bfa3",
   "metadata": {},
   "outputs": [],
   "source": [
    "df['winner'] = df['winner'].apply(lambda x: 1 if x else 0)"
   ]
  },
  {
   "cell_type": "code",
   "execution_count": 14,
   "id": "a5b3ac75",
   "metadata": {},
   "outputs": [
    {
     "data": {
      "text/plain": [
       "1    1962\n",
       "0    1161\n",
       "Name: winner, dtype: int64"
      ]
     },
     "execution_count": 14,
     "metadata": {},
     "output_type": "execute_result"
    }
   ],
   "source": [
    "df['winner'].value_counts()"
   ]
  },
  {
   "cell_type": "markdown",
   "id": "beab8b38",
   "metadata": {},
   "source": [
    "### Функции для EDA"
   ]
  },
  {
   "cell_type": "code",
   "execution_count": 15,
   "id": "7aee837b",
   "metadata": {},
   "outputs": [],
   "source": [
    "def first_look(df: pd.DataFrame, column: object, descriptions: dict):\n",
    "    '''\n",
    "    Функция для осмотра переменных\n",
    "    '''\n",
    "    printmd('### ' + str(column))\n",
    "    if column in list(descriptions.keys()):\n",
    "        printmd(descriptions[column])\n",
    "    if df.loc[:, col].dtypes == np.dtype('O'): # Проверка на строковый тип данных\n",
    "        fig, ax = plt.subplots(figsize=(6, 5))\n",
    "        sns.countplot(df.loc[:, column], ax=ax)\n",
    "        plt.show()\n",
    "        # Print misses percent\n",
    "        misses = (1 - (df[column].count() / df.shape[0]))\n",
    "    else:\n",
    "        # Prepare plot data frame\n",
    "        plot_df = pd.DataFrame({'Распределение': df[column]})\n",
    "#         if search_mistakes(df, column, outlier_bounds):\n",
    "#             low, high = IQR_outlier(df, column, verbose=False)\n",
    "#             plot_df['Распределение в границах выбросов'] = df.loc[df.loc[:,column].between(low, high)][column]\n",
    "        # Draw plot\n",
    "        fig, ax = plt.subplots(figsize=(7 * plot_df.shape[1], 4))\n",
    "        plot_df.hist(ax=ax)\n",
    "        plt.show()\n",
    "        # Print misses percent\n",
    "        misses = (1 - (df[column].count() / df.shape[0]))\n",
    "\n",
    "\n",
    "def search_mistakes(df: pd.DataFrame, column: object, outlier_bounds: dict) -> bool:\n",
    "    '''\n",
    "    Функция проверяет переменные на наличие ошибок в данных\n",
    "    '''\n",
    "    if column not in list(outlier_bounds.keys()):\n",
    "        low, high = IQR_outlier(df, column, verbose=False)\n",
    "        if df[column].min() < low or df[column].max() > high:\n",
    "            out_df = df.loc[(~df.loc[:, column].between(\n",
    "            low,high)) & pd.notnull(df.loc[:, column])]\n",
    "            print('Найдены ошибки в количестве: ', out_df.shape[0])\n",
    "            if out_df.shape[0]>10:\n",
    "                print('\\nПервые 10:')\n",
    "            display(out_df[:10])\n",
    "            return True\n",
    "        else:\n",
    "            print('Выбросы не обнаружены')\n",
    "    else:\n",
    "        low, high = outlier_bounds[column][0], outlier_bounds[column][1]\n",
    "        if df[column].min() < low or df[column].max() > high:\n",
    "            out_df = df.loc[(~df.loc[:, column].between(\n",
    "            low,high)) & pd.notnull(df.loc[:, column])]\n",
    "            print('Найдены выбросы по IQR в количестве: ', out_df.shape[0])\n",
    "            if out_df.shape[0]>10:\n",
    "                print('\\nПервые 10:')\n",
    "            display(out_df[:10])\n",
    "            return True\n",
    "        else:\n",
    "            print('Ошибки не обнаружены')\n",
    "                    \n",
    "\n",
    "def IQR_outlier(df: pd.DataFrame, column: object, verbose: bool=True) -> tuple:\n",
    "    '''\n",
    "    Функция для отображения границ межквартильного размаха\n",
    "    '''\n",
    "    perc25 = df[column].quantile(0.25)\n",
    "    perc75 = df[column].quantile(0.75)\n",
    "    IQR = perc75 - perc25\n",
    "    low = perc25 - 1.5*IQR\n",
    "    high = perc75 + 1.5*IQR\n",
    "    if verbose:\n",
    "        print('25-й перцентиль: {},'.format(perc25)[:-1], '75-й перцентиль: {},'.format(perc75),\n",
    "            \"IQR: {}, \".format(IQR), \"Границы выбросов: [{f}, {l}].\".format(f=low, l=high))\n",
    "    return (low, high)\n",
    "\n",
    "\n",
    "        \n",
    "def get_boxplot(df: pd.DataFrame, column: object, ax_y='price') -> None:\n",
    "    '''\n",
    "    Функция для отображения boxplot-графиков для номинативных и смешанных переменных\n",
    "    '''\n",
    "    fig, ax = plt.subplots(figsize = (8, 4))\n",
    "    box_plot = sns.boxplot(x=column, y=ax_y, data=df,ax=ax)\n",
    "    cnt = df[column].value_counts()\n",
    "    medians = df.groupby([column])[ax_y].median()\n",
    "    vertical_offset = df.groupby([column])[ax_y].median() * 0.12\n",
    "    x=df[column].unique()\n",
    "    x = list(filter(lambda v: v==v, x))\n",
    "    if df.loc[:, col].dtypes != np.dtype('O'):\n",
    "        x = sorted(x)\n",
    "    for xtick, ytick in zip(list(box_plot.get_xticks()), x):\n",
    "        box_plot.text(xtick, medians.loc[ytick]-vertical_offset[ytick], cnt.loc[ytick], \n",
    "                    horizontalalignment='center',size=15, color='w',weight='semibold')\n",
    "    plt.xticks(rotation=45)\n",
    "    ax.set_title('Boxplot for ' + column)\n",
    "    plt.show()\n",
    "\n",
    "\n",
    "\n",
    "def get_stat_dif(df: pd.DataFrame, column: object, target='price') -> bool:\n",
    "    '''\n",
    "    Функция для проведения теста Стьюдента для номинативных и смешанных переменных\n",
    "    '''\n",
    "    cols = df.loc[:, column].value_counts()\n",
    "    cols = cols[cols>15].index\n",
    "    combinations_all = list(combinations(cols, 2))\n",
    "    for comb in combinations_all:\n",
    "        if ttest_ind(df.loc[df.loc[:, column] == comb[0], target].dropna(), \n",
    "                        df.loc[df.loc[:, column] == comb[1], target].dropna()).pvalue \\\n",
    "            <= 0.075/len(combinations_all): # Учли поправку Бонферони\n",
    "            print('Найдены статистически значимые различия для колонки', column)\n",
    "            return True\n",
    "            break\n",
    "\n",
    "def printmd(string):\n",
    "    display(Markdown(string))"
   ]
  },
  {
   "cell_type": "markdown",
   "id": "cc42fc3d",
   "metadata": {},
   "source": [
    "## Быстрый осмотр признаков"
   ]
  },
  {
   "cell_type": "code",
   "execution_count": 16,
   "id": "0b458f45",
   "metadata": {},
   "outputs": [],
   "source": [
    "columns_name_rus = {\n",
    "              'Unnamed: 0' : 'id',\n",
    "              'hitsPM' : 'удары PM',\n",
    "              'accentedHitsPM': 'точечные удары',\n",
    "              'takedownsPM' : 'такейкдауны (толкание соперника)',\n",
    "              'accentedHitsDistancePM': 'прямых удары с растояния',\n",
    "              'accentedHitsClinchPM':'удержание рук противника',\n",
    "              'accentedHitsParterPM':'?',\n",
    "              'hitsSuccessfulPM': 'успешные удары',\n",
    "              'accentedHitsSuccessfulPM': 'точечные успешные удары',\n",
    "              'takedownsSuccessfulPM': 'успешные тейкдауны',\n",
    "              'accentedHitsDistanceSuccessfulPM': 'успешное попадание с растояние',\n",
    "              'accentedHitsClinchSuccessfulPM' : 'успешное удержание рук соперника', \n",
    "              'accentedHitsParterSuccessfulPM': '?',\n",
    "              'hitsSuccessful_percent': '% результативных ударов',\n",
    "              'accentedHitsSuccessful_percent' : '% точеных результативных ударов',\n",
    "              'accentedHits_percent' : '% точечных ударов',\n",
    "              'takedownSuccessful_percent' : '% результативных тейкдаунов',\n",
    "              'accentedHitsPositionDistanceSuccessful_prcent' : '% результативных позиционных ударов с растояния',\n",
    "              'accentedHitsPositionClinchSuccessful_percent' : '% результативных позиционных ударов во время удержания рук',\n",
    "              'accentedHitsPositionParterSuccessful_percent' : '% результативных позиционных ударов ?', \n",
    "              'takedowns_to_hits' : 'удары из тайкдауна',\n",
    "              'HitsPositionDistance_to_hits' : 'удары из удаленной позиции',\n",
    "              'HitsPositionClinch_to_hits' : 'удары из положения удержания рук',\n",
    "              'HitsPositionParter_to_hits' : '?', \n",
    "              'eventDate.date' : 'дата', \n",
    "              'winner' : 'победитель', \n",
    "              'odd_diff' : 'разница в шансах на победу',\n",
    "              'fighter1_fightsAmount' : 'количество боев первого бойца',\n",
    "              'fighter2_fightsAmount' : 'количество боев второго бойца', \n",
    "              'odd1' : 'шансы на победу первого бойца',\n",
    "              'odd2' : 'шансы на победу второго бойца'}"
   ]
  },
  {
   "cell_type": "code",
   "execution_count": 17,
   "id": "9d51ac32",
   "metadata": {},
   "outputs": [
    {
     "data": {
      "text/markdown": [
       "### Unnamed: 0"
      ],
      "text/plain": [
       "<IPython.core.display.Markdown object>"
      ]
     },
     "metadata": {},
     "output_type": "display_data"
    },
    {
     "data": {
      "text/markdown": [
       "id"
      ],
      "text/plain": [
       "<IPython.core.display.Markdown object>"
      ]
     },
     "metadata": {},
     "output_type": "display_data"
    },
    {
     "data": {
      "image/png": "[encoded data removed]",
      "text/plain": [
       "<Figure size 504x288 with 1 Axes>"
      ]
     },
     "metadata": {
      "needs_background": "light"
     },
     "output_type": "display_data"
    },
    {
     "data": {
      "text/markdown": [
       "### hitsPM"
      ],
      "text/plain": [
       "<IPython.core.display.Markdown object>"
      ]
     },
     "metadata": {},
     "output_type": "display_data"
    },
    {
     "data": {
      "text/markdown": [
       "удары PM"
      ],
      "text/plain": [
       "<IPython.core.display.Markdown object>"
      ]
     },
     "metadata": {},
     "output_type": "display_data"
    },
    {
     "data": {
      "image/png": "[encoded data removed]",
      "text/plain": [
       "<Figure size 504x288 with 1 Axes>"
      ]
     },
     "metadata": {
      "needs_background": "light"
     },
     "output_type": "display_data"
    },
    {
     "data": {
      "text/markdown": [
       "### accentedHitsPM"
      ],
      "text/plain": [
       "<IPython.core.display.Markdown object>"
      ]
     },
     "metadata": {},
     "output_type": "display_data"
    },
    {
     "data": {
      "text/markdown": [
       "точечные удары"
      ],
      "text/plain": [
       "<IPython.core.display.Markdown object>"
      ]
     },
     "metadata": {},
     "output_type": "display_data"
    },
    {
     "data": {
      "image/png": "[encoded data removed]",
      "text/plain": [
       "<Figure size 504x288 with 1 Axes>"
      ]
     },
     "metadata": {
      "needs_background": "light"
     },
     "output_type": "display_data"
    },
    {
     "data": {
      "text/markdown": [
       "### takedownsPM"
      ],
      "text/plain": [
       "<IPython.core.display.Markdown object>"
      ]
     },
     "metadata": {},
     "output_type": "display_data"
    },
    {
     "data": {
      "text/markdown": [
       "такейкдауны (толкание соперника)"
      ],
      "text/plain": [
       "<IPython.core.display.Markdown object>"
      ]
     },
     "metadata": {},
     "output_type": "display_data"
    },
    {
     "data": {
      "image/png": "[encoded data removed]",
      "text/plain": [
       "<Figure size 504x288 with 1 Axes>"
      ]
     },
     "metadata": {
      "needs_background": "light"
     },
     "output_type": "display_data"
    },
    {
     "data": {
      "text/markdown": [
       "### accentedHitsDistancePM"
      ],
      "text/plain": [
       "<IPython.core.display.Markdown object>"
      ]
     },
     "metadata": {},
     "output_type": "display_data"
    },
    {
     "data": {
      "text/markdown": [
       "прямых удары с растояния"
      ],
      "text/plain": [
       "<IPython.core.display.Markdown object>"
      ]
     },
     "metadata": {},
     "output_type": "display_data"
    },
    {
     "data": {
      "image/png": "[encoded data removed]",
      "text/plain": [
       "<Figure size 504x288 with 1 Axes>"
      ]
     },
     "metadata": {
      "needs_background": "light"
     },
     "output_type": "display_data"
    },
    {
     "data": {
      "text/markdown": [
       "### accentedHitsClinchPM"
      ],
      "text/plain": [
       "<IPython.core.display.Markdown object>"
      ]
     },
     "metadata": {},
     "output_type": "display_data"
    },
    {
     "data": {
      "text/markdown": [
       "удержание рук противника"
      ],
      "text/plain": [
       "<IPython.core.display.Markdown object>"
      ]
     },
     "metadata": {},
     "output_type": "display_data"
    },
    {
     "data": {
      "image/png": "[encoded data removed]",
      "text/plain": [
       "<Figure size 504x288 with 1 Axes>"
      ]
     },
     "metadata": {
      "needs_background": "light"
     },
     "output_type": "display_data"
    },
    {
     "data": {
      "text/markdown": [
       "### accentedHitsParterPM"
      ],
      "text/plain": [
       "<IPython.core.display.Markdown object>"
      ]
     },
     "metadata": {},
     "output_type": "display_data"
    },
    {
     "data": {
      "text/markdown": [
       "?"
      ],
      "text/plain": [
       "<IPython.core.display.Markdown object>"
      ]
     },
     "metadata": {},
     "output_type": "display_data"
    },
    {
     "data": {
      "image/png": "[encoded data removed]",
      "text/plain": [
       "<Figure size 504x288 with 1 Axes>"
      ]
     },
     "metadata": {
      "needs_background": "light"
     },
     "output_type": "display_data"
    },
    {
     "data": {
      "text/markdown": [
       "### hitsSuccessfulPM"
      ],
      "text/plain": [
       "<IPython.core.display.Markdown object>"
      ]
     },
     "metadata": {},
     "output_type": "display_data"
    },
    {
     "data": {
      "text/markdown": [
       "успешные удары"
      ],
      "text/plain": [
       "<IPython.core.display.Markdown object>"
      ]
     },
     "metadata": {},
     "output_type": "display_data"
    },
    {
     "data": {
      "image/png": "[encoded data removed]",
      "text/plain": [
       "<Figure size 504x288 with 1 Axes>"
      ]
     },
     "metadata": {
      "needs_background": "light"
     },
     "output_type": "display_data"
    },
    {
     "data": {
      "text/markdown": [
       "### accentedHitsSuccessfulPM"
      ],
      "text/plain": [
       "<IPython.core.display.Markdown object>"
      ]
     },
     "metadata": {},
     "output_type": "display_data"
    },
    {
     "data": {
      "text/markdown": [
       "точечные успешные удары"
      ],
      "text/plain": [
       "<IPython.core.display.Markdown object>"
      ]
     },
     "metadata": {},
     "output_type": "display_data"
    },
    {
     "data": {
      "image/png": "[encoded data removed]",
      "text/plain": [
       "<Figure size 504x288 with 1 Axes>"
      ]
     },
     "metadata": {
      "needs_background": "light"
     },
     "output_type": "display_data"
    },
    {
     "data": {
      "text/markdown": [
       "### takedownsSuccessfulPM"
      ],
      "text/plain": [
       "<IPython.core.display.Markdown object>"
      ]
     },
     "metadata": {},
     "output_type": "display_data"
    },
    {
     "data": {
      "text/markdown": [
       "успешные тейкдауны"
      ],
      "text/plain": [
       "<IPython.core.display.Markdown object>"
      ]
     },
     "metadata": {},
     "output_type": "display_data"
    },
    {
     "data": {
      "image/png": "[encoded data removed]",
      "text/plain": [
       "<Figure size 504x288 with 1 Axes>"
      ]
     },
     "metadata": {
      "needs_background": "light"
     },
     "output_type": "display_data"
    },
    {
     "data": {
      "text/markdown": [
       "### accentedHitsDistanceSuccessfulPM"
      ],
      "text/plain": [
       "<IPython.core.display.Markdown object>"
      ]
     },
     "metadata": {},
     "output_type": "display_data"
    },
    {
     "data": {
      "text/markdown": [
       "успешное попадание с растояние"
      ],
      "text/plain": [
       "<IPython.core.display.Markdown object>"
      ]
     },
     "metadata": {},
     "output_type": "display_data"
    },
    {
     "data": {
      "image/png": "[encoded data removed]",
      "text/plain": [
       "<Figure size 504x288 with 1 Axes>"
      ]
     },
     "metadata": {
      "needs_background": "light"
     },
     "output_type": "display_data"
    },
    {
     "data": {
      "text/markdown": [
       "### accentedHitsClinchSuccessfulPM"
      ],
      "text/plain": [
       "<IPython.core.display.Markdown object>"
      ]
     },
     "metadata": {},
     "output_type": "display_data"
    },
    {
     "data": {
      "text/markdown": [
       "успешное удержание рук соперника"
      ],
      "text/plain": [
       "<IPython.core.display.Markdown object>"
      ]
     },
     "metadata": {},
     "output_type": "display_data"
    },
    {
     "data": {
      "image/png": "[encoded data removed]",
      "text/plain": [
       "<Figure size 504x288 with 1 Axes>"
      ]
     },
     "metadata": {
      "needs_background": "light"
     },
     "output_type": "display_data"
    },
    {
     "data": {
      "text/markdown": [
       "### accentedHitsParterSuccessfulPM"
      ],
      "text/plain": [
       "<IPython.core.display.Markdown object>"
      ]
     },
     "metadata": {},
     "output_type": "display_data"
    },
    {
     "data": {
      "text/markdown": [
       "?"
      ],
      "text/plain": [
       "<IPython.core.display.Markdown object>"
      ]
     },
     "metadata": {},
     "output_type": "display_data"
    },
    {
     "data": {
      "image/png": "[encoded data removed]",
      "text/plain": [
       "<Figure size 504x288 with 1 Axes>"
      ]
     },
     "metadata": {
      "needs_background": "light"
     },
     "output_type": "display_data"
    },
    {
     "data": {
      "text/markdown": [
       "### hitsSuccessful_percent"
      ],
      "text/plain": [
       "<IPython.core.display.Markdown object>"
      ]
     },
     "metadata": {},
     "output_type": "display_data"
    },
    {
     "data": {
      "text/markdown": [
       "% результативных ударов"
      ],
      "text/plain": [
       "<IPython.core.display.Markdown object>"
      ]
     },
     "metadata": {},
     "output_type": "display_data"
    },
    {
     "data": {
      "image/png": "[encoded data removed]",
      "text/plain": [
       "<Figure size 504x288 with 1 Axes>"
      ]
     },
     "metadata": {
      "needs_background": "light"
     },
     "output_type": "display_data"
    },
    {
     "data": {
      "text/markdown": [
       "### accentedHitsSuccessful_percent"
      ],
      "text/plain": [
       "<IPython.core.display.Markdown object>"
      ]
     },
     "metadata": {},
     "output_type": "display_data"
    },
    {
     "data": {
      "text/markdown": [
       "% точеных результативных ударов"
      ],
      "text/plain": [
       "<IPython.core.display.Markdown object>"
      ]
     },
     "metadata": {},
     "output_type": "display_data"
    },
    {
     "data": {
      "image/png": "[encoded data removed]",
      "text/plain": [
       "<Figure size 504x288 with 1 Axes>"
      ]
     },
     "metadata": {
      "needs_background": "light"
     },
     "output_type": "display_data"
    },
    {
     "data": {
      "text/markdown": [
       "### accentedHits_percent"
      ],
      "text/plain": [
       "<IPython.core.display.Markdown object>"
      ]
     },
     "metadata": {},
     "output_type": "display_data"
    },
    {
     "data": {
      "text/markdown": [
       "% точечных ударов"
      ],
      "text/plain": [
       "<IPython.core.display.Markdown object>"
      ]
     },
     "metadata": {},
     "output_type": "display_data"
    },
    {
     "data": {
      "image/png": "[encoded data removed]",
      "text/plain": [
       "<Figure size 504x288 with 1 Axes>"
      ]
     },
     "metadata": {
      "needs_background": "light"
     },
     "output_type": "display_data"
    },
    {
     "data": {
      "text/markdown": [
       "### takedownSuccessful_percent"
      ],
      "text/plain": [
       "<IPython.core.display.Markdown object>"
      ]
     },
     "metadata": {},
     "output_type": "display_data"
    },
    {
     "data": {
      "text/markdown": [
       "% результативных тейкдаунов"
      ],
      "text/plain": [
       "<IPython.core.display.Markdown object>"
      ]
     },
     "metadata": {},
     "output_type": "display_data"
    },
    {
     "data": {
      "image/png": "[encoded data removed]",
      "text/plain": [
       "<Figure size 504x288 with 1 Axes>"
      ]
     },
     "metadata": {
      "needs_background": "light"
     },
     "output_type": "display_data"
    },
    {
     "data": {
      "text/markdown": [
       "### accentedHitsPositionDistanceSuccessful_prcent"
      ],
      "text/plain": [
       "<IPython.core.display.Markdown object>"
      ]
     },
     "metadata": {},
     "output_type": "display_data"
    },
    {
     "data": {
      "text/markdown": [
       "% результативных позиционных ударов с растояния"
      ],
      "text/plain": [
       "<IPython.core.display.Markdown object>"
      ]
     },
     "metadata": {},
     "output_type": "display_data"
    },
    {
     "data": {
      "image/png": "[encoded data removed]",
      "text/plain": [
       "<Figure size 504x288 with 1 Axes>"
      ]
     },
     "metadata": {
      "needs_background": "light"
     },
     "output_type": "display_data"
    },
    {
     "data": {
      "text/markdown": [
       "### accentedHitsPositionClinchSuccessful_percent"
      ],
      "text/plain": [
       "<IPython.core.display.Markdown object>"
      ]
     },
     "metadata": {},
     "output_type": "display_data"
    },
    {
     "data": {
      "text/markdown": [
       "% результативных позиционных ударов во время удержания рук"
      ],
      "text/plain": [
       "<IPython.core.display.Markdown object>"
      ]
     },
     "metadata": {},
     "output_type": "display_data"
    },
    {
     "data": {
      "image/png": "[encoded data removed]",
      "text/plain": [
       "<Figure size 504x288 with 1 Axes>"
      ]
     },
     "metadata": {
      "needs_background": "light"
     },
     "output_type": "display_data"
    },
    {
     "data": {
      "text/markdown": [
       "### accentedHitsPositionParterSuccessful_percent"
      ],
      "text/plain": [
       "<IPython.core.display.Markdown object>"
      ]
     },
     "metadata": {},
     "output_type": "display_data"
    },
    {
     "data": {
      "text/markdown": [
       "% результативных позиционных ударов ?"
      ],
      "text/plain": [
       "<IPython.core.display.Markdown object>"
      ]
     },
     "metadata": {},
     "output_type": "display_data"
    },
    {
     "data": {
      "image/png": "[encoded data removed]",
      "text/plain": [
       "<Figure size 504x288 with 1 Axes>"
      ]
     },
     "metadata": {
      "needs_background": "light"
     },
     "output_type": "display_data"
    },
    {
     "data": {
      "text/markdown": [
       "### takedowns_to_hits"
      ],
      "text/plain": [
       "<IPython.core.display.Markdown object>"
      ]
     },
     "metadata": {},
     "output_type": "display_data"
    },
    {
     "data": {
      "text/markdown": [
       "удары из тайкдауна"
      ],
      "text/plain": [
       "<IPython.core.display.Markdown object>"
      ]
     },
     "metadata": {},
     "output_type": "display_data"
    },
    {
     "data": {
      "image/png": "[encoded data removed]",
      "text/plain": [
       "<Figure size 504x288 with 1 Axes>"
      ]
     },
     "metadata": {
      "needs_background": "light"
     },
     "output_type": "display_data"
    },
    {
     "data": {
      "text/markdown": [
       "### HitsPositionDistance_to_hits"
      ],
      "text/plain": [
       "<IPython.core.display.Markdown object>"
      ]
     },
     "metadata": {},
     "output_type": "display_data"
    },
    {
     "data": {
      "text/markdown": [
       "удары из удаленной позиции"
      ],
      "text/plain": [
       "<IPython.core.display.Markdown object>"
      ]
     },
     "metadata": {},
     "output_type": "display_data"
    },
    {
     "data": {
      "image/png": "[encoded data removed]",
      "text/plain": [
       "<Figure size 504x288 with 1 Axes>"
      ]
     },
     "metadata": {
      "needs_background": "light"
     },
     "output_type": "display_data"
    },
    {
     "data": {
      "text/markdown": [
       "### HitsPositionClinch_to_hits"
      ],
      "text/plain": [
       "<IPython.core.display.Markdown object>"
      ]
     },
     "metadata": {},
     "output_type": "display_data"
    },
    {
     "data": {
      "text/markdown": [
       "удары из положения удержания рук"
      ],
      "text/plain": [
       "<IPython.core.display.Markdown object>"
      ]
     },
     "metadata": {},
     "output_type": "display_data"
    },
    {
     "data": {
      "image/png": "[encoded data removed]",
      "text/plain": [
       "<Figure size 504x288 with 1 Axes>"
      ]
     },
     "metadata": {
      "needs_background": "light"
     },
     "output_type": "display_data"
    },
    {
     "data": {
      "text/markdown": [
       "### HitsPositionParter_to_hits"
      ],
      "text/plain": [
       "<IPython.core.display.Markdown object>"
      ]
     },
     "metadata": {},
     "output_type": "display_data"
    },
    {
     "data": {
      "text/markdown": [
       "?"
      ],
      "text/plain": [
       "<IPython.core.display.Markdown object>"
      ]
     },
     "metadata": {},
     "output_type": "display_data"
    },
    {
     "data": {
      "image/png": "[encoded data removed]",
      "text/plain": [
       "<Figure size 504x288 with 1 Axes>"
      ]
     },
     "metadata": {
      "needs_background": "light"
     },
     "output_type": "display_data"
    },
    {
     "data": {
      "text/markdown": [
       "### eventDate.date"
      ],
      "text/plain": [
       "<IPython.core.display.Markdown object>"
      ]
     },
     "metadata": {},
     "output_type": "display_data"
    },
    {
     "data": {
      "text/markdown": [
       "дата"
      ],
      "text/plain": [
       "<IPython.core.display.Markdown object>"
      ]
     },
     "metadata": {},
     "output_type": "display_data"
    },
    {
     "name": "stderr",
     "output_type": "stream",
     "text": [
      "C:\\Anaconda\\lib\\site-packages\\seaborn\\_decorators.py:36: FutureWarning: Pass the following variable as a keyword arg: x. From version 0.12, the only valid positional argument will be `data`, and passing other arguments without an explicit keyword will result in an error or misinterpretation.\n",
      "  warnings.warn(\n"
     ]
    },
    {
     "data": {
      "image/png": "[encoded data removed]",
      "text/plain": [
       "<Figure size 432x360 with 1 Axes>"
      ]
     },
     "metadata": {
      "needs_background": "light"
     },
     "output_type": "display_data"
    },
    {
     "data": {
      "text/markdown": [
       "### winner"
      ],
      "text/plain": [
       "<IPython.core.display.Markdown object>"
      ]
     },
     "metadata": {},
     "output_type": "display_data"
    },
    {
     "data": {
      "text/markdown": [
       "победитель"
      ],
      "text/plain": [
       "<IPython.core.display.Markdown object>"
      ]
     },
     "metadata": {},
     "output_type": "display_data"
    },
    {
     "data": {
      "image/png": "[encoded data removed]",
      "text/plain": [
       "<Figure size 504x288 with 1 Axes>"
      ]
     },
     "metadata": {
      "needs_background": "light"
     },
     "output_type": "display_data"
    },
    {
     "data": {
      "text/markdown": [
       "### odd_diff"
      ],
      "text/plain": [
       "<IPython.core.display.Markdown object>"
      ]
     },
     "metadata": {},
     "output_type": "display_data"
    },
    {
     "data": {
      "text/markdown": [
       "разница в шансах на победу"
      ],
      "text/plain": [
       "<IPython.core.display.Markdown object>"
      ]
     },
     "metadata": {},
     "output_type": "display_data"
    },
    {
     "data": {
      "image/png": "[encoded data removed]",
      "text/plain": [
       "<Figure size 504x288 with 1 Axes>"
      ]
     },
     "metadata": {
      "needs_background": "light"
     },
     "output_type": "display_data"
    },
    {
     "data": {
      "text/markdown": [
       "### fighter1_fightsAmount"
      ],
      "text/plain": [
       "<IPython.core.display.Markdown object>"
      ]
     },
     "metadata": {},
     "output_type": "display_data"
    },
    {
     "data": {
      "text/markdown": [
       "количество боев первого бойца"
      ],
      "text/plain": [
       "<IPython.core.display.Markdown object>"
      ]
     },
     "metadata": {},
     "output_type": "display_data"
    },
    {
     "data": {
      "image/png": "[encoded data removed]",
      "text/plain": [
       "<Figure size 504x288 with 1 Axes>"
      ]
     },
     "metadata": {
      "needs_background": "light"
     },
     "output_type": "display_data"
    },
    {
     "data": {
      "text/markdown": [
       "### fighter2_fightsAmount"
      ],
      "text/plain": [
       "<IPython.core.display.Markdown object>"
      ]
     },
     "metadata": {},
     "output_type": "display_data"
    },
    {
     "data": {
      "text/markdown": [
       "количество боев второго бойца"
      ],
      "text/plain": [
       "<IPython.core.display.Markdown object>"
      ]
     },
     "metadata": {},
     "output_type": "display_data"
    },
    {
     "data": {
      "image/png": "[encoded data removed]",
      "text/plain": [
       "<Figure size 504x288 with 1 Axes>"
      ]
     },
     "metadata": {
      "needs_background": "light"
     },
     "output_type": "display_data"
    },
    {
     "data": {
      "text/markdown": [
       "### odd1"
      ],
      "text/plain": [
       "<IPython.core.display.Markdown object>"
      ]
     },
     "metadata": {},
     "output_type": "display_data"
    },
    {
     "data": {
      "text/markdown": [
       "шансы на победу первого бойца"
      ],
      "text/plain": [
       "<IPython.core.display.Markdown object>"
      ]
     },
     "metadata": {},
     "output_type": "display_data"
    },
    {
     "data": {
      "image/png": "[encoded data removed]",
      "text/plain": [
       "<Figure size 504x288 with 1 Axes>"
      ]
     },
     "metadata": {
      "needs_background": "light"
     },
     "output_type": "display_data"
    },
    {
     "data": {
      "text/markdown": [
       "### odd2"
      ],
      "text/plain": [
       "<IPython.core.display.Markdown object>"
      ]
     },
     "metadata": {},
     "output_type": "display_data"
    },
    {
     "data": {
      "text/markdown": [
       "шансы на победу второго бойца"
      ],
      "text/plain": [
       "<IPython.core.display.Markdown object>"
      ]
     },
     "metadata": {},
     "output_type": "display_data"
    },
    {
     "data": {
      "image/png": "[encoded data removed]",
      "text/plain": [
       "<Figure size 504x288 with 1 Axes>"
      ]
     },
     "metadata": {
      "needs_background": "light"
     },
     "output_type": "display_data"
    },
    {
     "data": {
      "text/markdown": [
       "### ML"
      ],
      "text/plain": [
       "<IPython.core.display.Markdown object>"
      ]
     },
     "metadata": {},
     "output_type": "display_data"
    },
    {
     "data": {
      "image/png": "[encoded data removed]",
      "text/plain": [
       "<Figure size 504x288 with 1 Axes>"
      ]
     },
     "metadata": {
      "needs_background": "light"
     },
     "output_type": "display_data"
    }
   ],
   "source": [
    "for col in df.columns:\n",
    "    first_look(df, col, columns_name_rus)"
   ]
  },
  {
   "cell_type": "markdown",
   "id": "382692e6",
   "metadata": {},
   "source": [
    "Заменим пропуски для MVP на медиану"
   ]
  },
  {
   "cell_type": "code",
   "execution_count": 18,
   "id": "612dc21c",
   "metadata": {},
   "outputs": [],
   "source": [
    "for col in df.columns:\n",
    "    if df[col].isna().sum():\n",
    "        df[col] = df[col].median()"
   ]
  },
  {
   "cell_type": "code",
   "execution_count": 19,
   "id": "dc6b2ac4",
   "metadata": {},
   "outputs": [
    {
     "data": {
      "text/plain": [
       "0"
      ]
     },
     "execution_count": 19,
     "metadata": {},
     "output_type": "execute_result"
    }
   ],
   "source": [
    "df['takedownSuccessful_percent'].isna().sum()"
   ]
  },
  {
   "cell_type": "code",
   "execution_count": 20,
   "id": "1ff30240",
   "metadata": {},
   "outputs": [
    {
     "data": {
      "text/plain": [
       "Unnamed: 0                                       0\n",
       "hitsPM                                           0\n",
       "accentedHitsPM                                   0\n",
       "takedownsPM                                      0\n",
       "accentedHitsDistancePM                           0\n",
       "accentedHitsClinchPM                             0\n",
       "accentedHitsParterPM                             0\n",
       "hitsSuccessfulPM                                 0\n",
       "accentedHitsSuccessfulPM                         0\n",
       "takedownsSuccessfulPM                            0\n",
       "accentedHitsDistanceSuccessfulPM                 0\n",
       "accentedHitsClinchSuccessfulPM                   0\n",
       "accentedHitsParterSuccessfulPM                   0\n",
       "hitsSuccessful_percent                           0\n",
       "accentedHitsSuccessful_percent                   0\n",
       "accentedHits_percent                             0\n",
       "takedownSuccessful_percent                       0\n",
       "accentedHitsPositionDistanceSuccessful_prcent    0\n",
       "accentedHitsPositionClinchSuccessful_percent     0\n",
       "accentedHitsPositionParterSuccessful_percent     0\n",
       "takedowns_to_hits                                0\n",
       "HitsPositionDistance_to_hits                     0\n",
       "HitsPositionClinch_to_hits                       0\n",
       "HitsPositionParter_to_hits                       0\n",
       "eventDate.date                                   0\n",
       "winner                                           0\n",
       "odd_diff                                         0\n",
       "fighter1_fightsAmount                            0\n",
       "fighter2_fightsAmount                            0\n",
       "odd1                                             0\n",
       "odd2                                             0\n",
       "ML                                               0\n",
       "dtype: int64"
      ]
     },
     "execution_count": 20,
     "metadata": {},
     "output_type": "execute_result"
    }
   ],
   "source": [
    "df.isna().sum()"
   ]
  },
  {
   "cell_type": "code",
   "execution_count": null,
   "id": "c3f0db8f",
   "metadata": {},
   "outputs": [],
   "source": []
  },
  {
   "cell_type": "code",
   "execution_count": null,
   "id": "97fb66c5",
   "metadata": {},
   "outputs": [],
   "source": []
  }
 ],
 "metadata": {
  "kernelspec": {
   "display_name": "Python 3",
   "language": "python",
   "name": "python3"
  },
  "language_info": {
   "codemirror_mode": {
    "name": "ipython",
    "version": 3
   },
   "file_extension": ".py",
   "mimetype": "text/x-python",
   "name": "python",
   "nbconvert_exporter": "python",
   "pygments_lexer": "ipython3",
   "version": "3.8.8"
  }
 },
 "nbformat": 4,
 "nbformat_minor": 5
}
