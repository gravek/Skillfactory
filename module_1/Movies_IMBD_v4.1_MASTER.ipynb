{
 "cells": [
  {
   "cell_type": "code",
   "execution_count": 121,
   "source": [
    "import numpy as np\r\n",
    "import pandas as pd\r\n",
    "from collections import Counter\r\n",
    "from itertools import combinations"
   ],
   "outputs": [],
   "metadata": {
    "_cell_guid": "b1076dfc-b9ad-4769-8c92-a6c4dae69d19",
    "_uuid": "8f2839f25d086af736a60e9eeb907d3b93b6e0e5",
    "colab": {},
    "colab_type": "code",
    "id": "U2D2gTdJVp90"
   }
  },
  {
   "cell_type": "code",
   "execution_count": 3,
   "source": [
    "data = pd.read_csv('movie_bd_v5.csv')\r\n",
    "data.sample(5)"
   ],
   "outputs": [
    {
     "output_type": "execute_result",
     "data": {
      "text/plain": [
       "        imdb_id     budget    revenue        original_title  \\\n",
       "1606  tt0343135   42000000  171963386      Along Came Polly   \n",
       "557   tt0221218   30000000   23619609       The Glass House   \n",
       "1576  tt0289879   13000000   96060858  The Butterfly Effect   \n",
       "512   tt0133152  100000000  362211740    Planet of the Apes   \n",
       "181   tt2024469   50000000  222809600              Non-Stop   \n",
       "\n",
       "                                                   cast  \\\n",
       "1606  Ben Stiller|Jennifer Aniston|Philip Seymour Ho...   \n",
       "557   Leelee Sobieski|Diane Lane|Stellan SkarsgÃ¥rd|...   \n",
       "1576  Ashton Kutcher|Amy Smart|William Lee Scott|Eld...   \n",
       "512   Mark Wahlberg|Tim Roth|Helena Bonham Carter|Mi...   \n",
       "181   Liam Neeson|Julianne Moore|Scoot McNairy|Miche...   \n",
       "\n",
       "                         director  \\\n",
       "1606                 John Hamburg   \n",
       "557               Daniel Sackheim   \n",
       "1576  Eric Bress|J. Mackye Gruber   \n",
       "512                    Tim Burton   \n",
       "181            Jaume Collet-Serra   \n",
       "\n",
       "                                                tagline  \\\n",
       "1606  For the most cautious man on Earth, life is ab...   \n",
       "557               The glass is about to be shattered...   \n",
       "1576        Such minor changes, such huge consequences.   \n",
       "512            You'll be sorry you were ever born human   \n",
       "181               The hijacking was just the beginning.   \n",
       "\n",
       "                                               overview  runtime  \\\n",
       "1606  Reuben Feffer is a guy who's spent his entire ...       90   \n",
       "557   After the parents of Ruby and her younger brot...      106   \n",
       "1576  A young man struggles to access sublimated chi...      113   \n",
       "512   After a spectacular crash-landing on an unchar...      119   \n",
       "181   Bill Marks is a burned-out veteran of the Air ...      106   \n",
       "\n",
       "                                         genres  \\\n",
       "1606                             Comedy|Romance   \n",
       "557                              Drama|Thriller   \n",
       "1576                   Science Fiction|Thriller   \n",
       "512   Thriller|Science Fiction|Action|Adventure   \n",
       "181                     Action|Thriller|Mystery   \n",
       "\n",
       "                                   production_companies release_date  \\\n",
       "1606  Universal Pictures|Jersey Films|Loofah Product...    1/16/2004   \n",
       "557                                       Original Film    9/14/2001   \n",
       "1576  New Line Cinema|FilmEngine|Katalyst Films|Bend...    1/22/2004   \n",
       "512   Twentieth Century Fox Film Corporation|Tim Bur...    7/25/2001   \n",
       "181   StudioCanal|Silver Pictures|TF1 Films Producti...    1/26/2014   \n",
       "\n",
       "      vote_average  release_year  \n",
       "1606           5.7          2004  \n",
       "557            5.3          2001  \n",
       "1576           7.1          2004  \n",
       "512            5.5          2001  \n",
       "181            6.8          2014  "
      ],
      "text/html": [
       "<div>\n",
       "<style scoped>\n",
       "    .dataframe tbody tr th:only-of-type {\n",
       "        vertical-align: middle;\n",
       "    }\n",
       "\n",
       "    .dataframe tbody tr th {\n",
       "        vertical-align: top;\n",
       "    }\n",
       "\n",
       "    .dataframe thead th {\n",
       "        text-align: right;\n",
       "    }\n",
       "</style>\n",
       "<table border=\"1\" class=\"dataframe\">\n",
       "  <thead>\n",
       "    <tr style=\"text-align: right;\">\n",
       "      <th></th>\n",
       "      <th>imdb_id</th>\n",
       "      <th>budget</th>\n",
       "      <th>revenue</th>\n",
       "      <th>original_title</th>\n",
       "      <th>cast</th>\n",
       "      <th>director</th>\n",
       "      <th>tagline</th>\n",
       "      <th>overview</th>\n",
       "      <th>runtime</th>\n",
       "      <th>genres</th>\n",
       "      <th>production_companies</th>\n",
       "      <th>release_date</th>\n",
       "      <th>vote_average</th>\n",
       "      <th>release_year</th>\n",
       "    </tr>\n",
       "  </thead>\n",
       "  <tbody>\n",
       "    <tr>\n",
       "      <th>1606</th>\n",
       "      <td>tt0343135</td>\n",
       "      <td>42000000</td>\n",
       "      <td>171963386</td>\n",
       "      <td>Along Came Polly</td>\n",
       "      <td>Ben Stiller|Jennifer Aniston|Philip Seymour Ho...</td>\n",
       "      <td>John Hamburg</td>\n",
       "      <td>For the most cautious man on Earth, life is ab...</td>\n",
       "      <td>Reuben Feffer is a guy who's spent his entire ...</td>\n",
       "      <td>90</td>\n",
       "      <td>Comedy|Romance</td>\n",
       "      <td>Universal Pictures|Jersey Films|Loofah Product...</td>\n",
       "      <td>1/16/2004</td>\n",
       "      <td>5.7</td>\n",
       "      <td>2004</td>\n",
       "    </tr>\n",
       "    <tr>\n",
       "      <th>557</th>\n",
       "      <td>tt0221218</td>\n",
       "      <td>30000000</td>\n",
       "      <td>23619609</td>\n",
       "      <td>The Glass House</td>\n",
       "      <td>Leelee Sobieski|Diane Lane|Stellan SkarsgÃ¥rd|...</td>\n",
       "      <td>Daniel Sackheim</td>\n",
       "      <td>The glass is about to be shattered...</td>\n",
       "      <td>After the parents of Ruby and her younger brot...</td>\n",
       "      <td>106</td>\n",
       "      <td>Drama|Thriller</td>\n",
       "      <td>Original Film</td>\n",
       "      <td>9/14/2001</td>\n",
       "      <td>5.3</td>\n",
       "      <td>2001</td>\n",
       "    </tr>\n",
       "    <tr>\n",
       "      <th>1576</th>\n",
       "      <td>tt0289879</td>\n",
       "      <td>13000000</td>\n",
       "      <td>96060858</td>\n",
       "      <td>The Butterfly Effect</td>\n",
       "      <td>Ashton Kutcher|Amy Smart|William Lee Scott|Eld...</td>\n",
       "      <td>Eric Bress|J. Mackye Gruber</td>\n",
       "      <td>Such minor changes, such huge consequences.</td>\n",
       "      <td>A young man struggles to access sublimated chi...</td>\n",
       "      <td>113</td>\n",
       "      <td>Science Fiction|Thriller</td>\n",
       "      <td>New Line Cinema|FilmEngine|Katalyst Films|Bend...</td>\n",
       "      <td>1/22/2004</td>\n",
       "      <td>7.1</td>\n",
       "      <td>2004</td>\n",
       "    </tr>\n",
       "    <tr>\n",
       "      <th>512</th>\n",
       "      <td>tt0133152</td>\n",
       "      <td>100000000</td>\n",
       "      <td>362211740</td>\n",
       "      <td>Planet of the Apes</td>\n",
       "      <td>Mark Wahlberg|Tim Roth|Helena Bonham Carter|Mi...</td>\n",
       "      <td>Tim Burton</td>\n",
       "      <td>You'll be sorry you were ever born human</td>\n",
       "      <td>After a spectacular crash-landing on an unchar...</td>\n",
       "      <td>119</td>\n",
       "      <td>Thriller|Science Fiction|Action|Adventure</td>\n",
       "      <td>Twentieth Century Fox Film Corporation|Tim Bur...</td>\n",
       "      <td>7/25/2001</td>\n",
       "      <td>5.5</td>\n",
       "      <td>2001</td>\n",
       "    </tr>\n",
       "    <tr>\n",
       "      <th>181</th>\n",
       "      <td>tt2024469</td>\n",
       "      <td>50000000</td>\n",
       "      <td>222809600</td>\n",
       "      <td>Non-Stop</td>\n",
       "      <td>Liam Neeson|Julianne Moore|Scoot McNairy|Miche...</td>\n",
       "      <td>Jaume Collet-Serra</td>\n",
       "      <td>The hijacking was just the beginning.</td>\n",
       "      <td>Bill Marks is a burned-out veteran of the Air ...</td>\n",
       "      <td>106</td>\n",
       "      <td>Action|Thriller|Mystery</td>\n",
       "      <td>StudioCanal|Silver Pictures|TF1 Films Producti...</td>\n",
       "      <td>1/26/2014</td>\n",
       "      <td>6.8</td>\n",
       "      <td>2014</td>\n",
       "    </tr>\n",
       "  </tbody>\n",
       "</table>\n",
       "</div>"
      ]
     },
     "metadata": {},
     "execution_count": 3
    }
   ],
   "metadata": {
    "_cell_guid": "79c7e3d0-c299-4dcb-8224-4455121ee9b0",
    "_uuid": "d629ff2d2480ee46fbb7e2d37f6b5fab8052498a",
    "colab": {},
    "colab_type": "code",
    "id": "oyGfxL3eVp9-"
   }
  },
  {
   "cell_type": "code",
   "execution_count": 5,
   "source": [
    "data.describe()"
   ],
   "outputs": [
    {
     "output_type": "execute_result",
     "data": {
      "text/plain": [
       "             budget       revenue      runtime  vote_average  release_year\n",
       "count  1.889000e+03  1.889000e+03  1889.000000   1889.000000   1889.000000\n",
       "mean   5.431083e+07  1.553653e+08   109.658549      6.140762   2007.860773\n",
       "std    4.858721e+07  2.146698e+08    18.017041      0.764763      4.468841\n",
       "min    5.000000e+06  2.033165e+06    63.000000      3.300000   2000.000000\n",
       "25%    2.000000e+07  3.456058e+07    97.000000      5.600000   2004.000000\n",
       "50%    3.800000e+07  8.361541e+07   107.000000      6.100000   2008.000000\n",
       "75%    7.200000e+07  1.782626e+08   120.000000      6.600000   2012.000000\n",
       "max    3.800000e+08  2.781506e+09   214.000000      8.100000   2015.000000"
      ],
      "text/html": [
       "<div>\n",
       "<style scoped>\n",
       "    .dataframe tbody tr th:only-of-type {\n",
       "        vertical-align: middle;\n",
       "    }\n",
       "\n",
       "    .dataframe tbody tr th {\n",
       "        vertical-align: top;\n",
       "    }\n",
       "\n",
       "    .dataframe thead th {\n",
       "        text-align: right;\n",
       "    }\n",
       "</style>\n",
       "<table border=\"1\" class=\"dataframe\">\n",
       "  <thead>\n",
       "    <tr style=\"text-align: right;\">\n",
       "      <th></th>\n",
       "      <th>budget</th>\n",
       "      <th>revenue</th>\n",
       "      <th>runtime</th>\n",
       "      <th>vote_average</th>\n",
       "      <th>release_year</th>\n",
       "    </tr>\n",
       "  </thead>\n",
       "  <tbody>\n",
       "    <tr>\n",
       "      <th>count</th>\n",
       "      <td>1.889000e+03</td>\n",
       "      <td>1.889000e+03</td>\n",
       "      <td>1889.000000</td>\n",
       "      <td>1889.000000</td>\n",
       "      <td>1889.000000</td>\n",
       "    </tr>\n",
       "    <tr>\n",
       "      <th>mean</th>\n",
       "      <td>5.431083e+07</td>\n",
       "      <td>1.553653e+08</td>\n",
       "      <td>109.658549</td>\n",
       "      <td>6.140762</td>\n",
       "      <td>2007.860773</td>\n",
       "    </tr>\n",
       "    <tr>\n",
       "      <th>std</th>\n",
       "      <td>4.858721e+07</td>\n",
       "      <td>2.146698e+08</td>\n",
       "      <td>18.017041</td>\n",
       "      <td>0.764763</td>\n",
       "      <td>4.468841</td>\n",
       "    </tr>\n",
       "    <tr>\n",
       "      <th>min</th>\n",
       "      <td>5.000000e+06</td>\n",
       "      <td>2.033165e+06</td>\n",
       "      <td>63.000000</td>\n",
       "      <td>3.300000</td>\n",
       "      <td>2000.000000</td>\n",
       "    </tr>\n",
       "    <tr>\n",
       "      <th>25%</th>\n",
       "      <td>2.000000e+07</td>\n",
       "      <td>3.456058e+07</td>\n",
       "      <td>97.000000</td>\n",
       "      <td>5.600000</td>\n",
       "      <td>2004.000000</td>\n",
       "    </tr>\n",
       "    <tr>\n",
       "      <th>50%</th>\n",
       "      <td>3.800000e+07</td>\n",
       "      <td>8.361541e+07</td>\n",
       "      <td>107.000000</td>\n",
       "      <td>6.100000</td>\n",
       "      <td>2008.000000</td>\n",
       "    </tr>\n",
       "    <tr>\n",
       "      <th>75%</th>\n",
       "      <td>7.200000e+07</td>\n",
       "      <td>1.782626e+08</td>\n",
       "      <td>120.000000</td>\n",
       "      <td>6.600000</td>\n",
       "      <td>2012.000000</td>\n",
       "    </tr>\n",
       "    <tr>\n",
       "      <th>max</th>\n",
       "      <td>3.800000e+08</td>\n",
       "      <td>2.781506e+09</td>\n",
       "      <td>214.000000</td>\n",
       "      <td>8.100000</td>\n",
       "      <td>2015.000000</td>\n",
       "    </tr>\n",
       "  </tbody>\n",
       "</table>\n",
       "</div>"
      ]
     },
     "metadata": {},
     "execution_count": 5
    }
   ],
   "metadata": {
    "colab": {},
    "colab_type": "code",
    "id": "CoYUnagMVp-C"
   }
  },
  {
   "cell_type": "markdown",
   "source": [
    "# Предобработка"
   ],
   "metadata": {
    "colab_type": "text",
    "id": "DTIt7ezGVp-G"
   }
  },
  {
   "cell_type": "code",
   "execution_count": 4,
   "source": [
    "answers = {} # for answers\r\n"
   ],
   "outputs": [],
   "metadata": {
    "colab": {},
    "colab_type": "code",
    "id": "jNb40DwKVp-H"
   }
  },
  {
   "cell_type": "code",
   "execution_count": 5,
   "source": [
    "# The time given in the dataset is in string format.\r\n",
    "# So we need to change it into datetime format\r\n",
    "data['release_date'] = pd.to_datetime(data['release_date'])\r\n",
    "\r\n",
    "# Removing unwanted zeros\r\n",
    "data['release_year'] = pd.to_numeric(data['release_year'], downcast='integer')\r\n",
    "\r\n",
    "# adding a column: film profit counting\r\n",
    "data['profit'] = data['revenue'] - data['budget']\r\n",
    "\r\n",
    "# film profit counting -- adding a column\r\n",
    "data['profit'] = data['revenue'] - data['budget']"
   ],
   "outputs": [],
   "metadata": {}
  },
  {
   "cell_type": "code",
   "execution_count": 47,
   "source": [
    "# Also, for our purposes, let's expand (or explode) the contents of cells that contain several elements each.\r\n",
    "\r\n",
    "# exploding actors\r\n",
    "cast_expl = data.copy()\r\n",
    "cast_expl[\"cast\"] = cast_expl[\"cast\"].apply(lambda s: str(s).split('|'))\r\n",
    "cast_expl = cast_expl.explode(\"cast\")\r\n",
    "\r\n",
    "# exploding film directors\r\n",
    "director_expl = data.copy()\r\n",
    "director_expl[\"director\"] = director_expl[\"director\"].apply(lambda s: str(s).split('|'))\r\n",
    "director_expl = director_expl.explode(\"director\")\r\n",
    "\r\n",
    "# exploding film genres\r\n",
    "genres_expl = data.copy()\r\n",
    "genres_expl[\"genres\"] = genres_expl[\"genres\"].apply(lambda s: str(s).split('|'))\r\n",
    "genres_expl = genres_expl.explode(\"genres\")\r\n",
    "\r\n",
    "# exploding production companies\r\n",
    "production_companies_expl = data.copy()\r\n",
    "production_companies_expl[\"production_companies\"] = production_companies_expl[\"production_companies\"].apply(lambda s: str(s).split('|'))\r\n",
    "production_companies_expl = production_companies_expl.explode(\"production_companies\")\r\n"
   ],
   "outputs": [],
   "metadata": {}
  },
  {
   "cell_type": "markdown",
   "source": [
    "# 1. У какого фильма из списка самый большой бюджет?"
   ],
   "metadata": {
    "colab_type": "text",
    "id": "YxZaH-nPVp-L"
   }
  },
  {
   "cell_type": "code",
   "execution_count": 10,
   "source": [
    "# в словарь вставляем номер вопроса и ответ на него\r\n",
    "\r\n",
    "answers[1] = '5. Pirates of the Caribbean: On Stranger Tides (tt1298650)'"
   ],
   "outputs": [],
   "metadata": {
    "colab": {},
    "colab_type": "code",
    "id": "uVnXAY5RVp-O"
   }
  },
  {
   "cell_type": "code",
   "execution_count": 24,
   "source": [
    "# находим максимальный бюджет (в соответствующей колонке), а показываем колонку с названием:\r\n",
    "\r\n",
    "data[(data.budget == data.budget.max())].original_title"
   ],
   "outputs": [
    {
     "output_type": "execute_result",
     "data": {
      "text/plain": [
       "723    Pirates of the Caribbean: On Stranger Tides\n",
       "Name: original_title, dtype: object"
      ]
     },
     "metadata": {},
     "execution_count": 24
    }
   ],
   "metadata": {
    "colab": {},
    "colab_type": "code",
    "id": "dZwb3m28Vp-S"
   }
  },
  {
   "cell_type": "markdown",
   "source": [
    "ВАРИАНТ 2"
   ],
   "metadata": {
    "colab_type": "text",
    "id": "K7L3nbRXVp-X"
   }
  },
  {
   "cell_type": "code",
   "execution_count": 26,
   "source": [
    "# иногда хочется увидеть всю строку:\r\n",
    "data[(data.budget == data.budget.max())]"
   ],
   "outputs": [
    {
     "output_type": "execute_result",
     "data": {
      "text/plain": [
       "       imdb_id     budget     revenue  \\\n",
       "723  tt1298650  380000000  1021683000   \n",
       "\n",
       "                                  original_title  \\\n",
       "723  Pirates of the Caribbean: On Stranger Tides   \n",
       "\n",
       "                                                  cast      director  \\\n",
       "723  Johnny Depp|PenÃ©lope Cruz|Geoffrey Rush|Ian M...  Rob Marshall   \n",
       "\n",
       "                         tagline  \\\n",
       "723  Live Forever Or Die Trying.   \n",
       "\n",
       "                                              overview  runtime  \\\n",
       "723  Captain Jack Sparrow crosses paths with a woma...      136   \n",
       "\n",
       "                       genres  \\\n",
       "723  Adventure|Action|Fantasy   \n",
       "\n",
       "                                  production_companies release_date  \\\n",
       "723  Walt Disney Pictures|Jerry Bruckheimer Films|M...   2011-05-11   \n",
       "\n",
       "     vote_average  release_year  \n",
       "723           6.3          2011  "
      ],
      "text/html": [
       "<div>\n",
       "<style scoped>\n",
       "    .dataframe tbody tr th:only-of-type {\n",
       "        vertical-align: middle;\n",
       "    }\n",
       "\n",
       "    .dataframe tbody tr th {\n",
       "        vertical-align: top;\n",
       "    }\n",
       "\n",
       "    .dataframe thead th {\n",
       "        text-align: right;\n",
       "    }\n",
       "</style>\n",
       "<table border=\"1\" class=\"dataframe\">\n",
       "  <thead>\n",
       "    <tr style=\"text-align: right;\">\n",
       "      <th></th>\n",
       "      <th>imdb_id</th>\n",
       "      <th>budget</th>\n",
       "      <th>revenue</th>\n",
       "      <th>original_title</th>\n",
       "      <th>cast</th>\n",
       "      <th>director</th>\n",
       "      <th>tagline</th>\n",
       "      <th>overview</th>\n",
       "      <th>runtime</th>\n",
       "      <th>genres</th>\n",
       "      <th>production_companies</th>\n",
       "      <th>release_date</th>\n",
       "      <th>vote_average</th>\n",
       "      <th>release_year</th>\n",
       "    </tr>\n",
       "  </thead>\n",
       "  <tbody>\n",
       "    <tr>\n",
       "      <th>723</th>\n",
       "      <td>tt1298650</td>\n",
       "      <td>380000000</td>\n",
       "      <td>1021683000</td>\n",
       "      <td>Pirates of the Caribbean: On Stranger Tides</td>\n",
       "      <td>Johnny Depp|PenÃ©lope Cruz|Geoffrey Rush|Ian M...</td>\n",
       "      <td>Rob Marshall</td>\n",
       "      <td>Live Forever Or Die Trying.</td>\n",
       "      <td>Captain Jack Sparrow crosses paths with a woma...</td>\n",
       "      <td>136</td>\n",
       "      <td>Adventure|Action|Fantasy</td>\n",
       "      <td>Walt Disney Pictures|Jerry Bruckheimer Films|M...</td>\n",
       "      <td>2011-05-11</td>\n",
       "      <td>6.3</td>\n",
       "      <td>2011</td>\n",
       "    </tr>\n",
       "  </tbody>\n",
       "</table>\n",
       "</div>"
      ]
     },
     "metadata": {},
     "execution_count": 26
    }
   ],
   "metadata": {
    "colab": {},
    "colab_type": "code",
    "id": "OGaoQI7rVp-X"
   }
  },
  {
   "cell_type": "markdown",
   "source": [
    "# 2. Какой из фильмов самый длительный (в минутах)?"
   ],
   "metadata": {
    "colab_type": "text",
    "id": "FNRbbI3vVp-c"
   }
  },
  {
   "cell_type": "code",
   "execution_count": 11,
   "source": [
    "\r\n",
    "answers[2] = '2. Gods and Generals (tt0279111)'"
   ],
   "outputs": [],
   "metadata": {
    "colab": {},
    "colab_type": "code",
    "id": "vHAoEXNTVp-d"
   }
  },
  {
   "cell_type": "code",
   "execution_count": 31,
   "source": [
    "# находим самое большое количество минут (в соответствующей колонке) и показываем колонку с названием:\r\n",
    "data[(data.runtime == data.runtime.max())].original_title"
   ],
   "outputs": [
    {
     "output_type": "execute_result",
     "data": {
      "text/plain": [
       "        imdb_id    budget   revenue     original_title  \\\n",
       "1157  tt0279111  56000000  12923936  Gods and Generals   \n",
       "\n",
       "                                                   cast           director  \\\n",
       "1157  Stephen Lang|Jeff Daniels|Robert Duvall|Kevin ...  Ronald F. Maxwell   \n",
       "\n",
       "                                  tagline  \\\n",
       "1157  The nations heart was touched by...   \n",
       "\n",
       "                                               overview  runtime  \\\n",
       "1157  The film centers mostly around the personal an...      214   \n",
       "\n",
       "                 genres                production_companies release_date  \\\n",
       "1157  Drama|History|War  Turner Pictures|Antietam Filmworks   2003-02-21   \n",
       "\n",
       "      vote_average  release_year  \n",
       "1157           5.8          2003  "
      ],
      "text/html": [
       "<div>\n",
       "<style scoped>\n",
       "    .dataframe tbody tr th:only-of-type {\n",
       "        vertical-align: middle;\n",
       "    }\n",
       "\n",
       "    .dataframe tbody tr th {\n",
       "        vertical-align: top;\n",
       "    }\n",
       "\n",
       "    .dataframe thead th {\n",
       "        text-align: right;\n",
       "    }\n",
       "</style>\n",
       "<table border=\"1\" class=\"dataframe\">\n",
       "  <thead>\n",
       "    <tr style=\"text-align: right;\">\n",
       "      <th></th>\n",
       "      <th>imdb_id</th>\n",
       "      <th>budget</th>\n",
       "      <th>revenue</th>\n",
       "      <th>original_title</th>\n",
       "      <th>cast</th>\n",
       "      <th>director</th>\n",
       "      <th>tagline</th>\n",
       "      <th>overview</th>\n",
       "      <th>runtime</th>\n",
       "      <th>genres</th>\n",
       "      <th>production_companies</th>\n",
       "      <th>release_date</th>\n",
       "      <th>vote_average</th>\n",
       "      <th>release_year</th>\n",
       "    </tr>\n",
       "  </thead>\n",
       "  <tbody>\n",
       "    <tr>\n",
       "      <th>1157</th>\n",
       "      <td>tt0279111</td>\n",
       "      <td>56000000</td>\n",
       "      <td>12923936</td>\n",
       "      <td>Gods and Generals</td>\n",
       "      <td>Stephen Lang|Jeff Daniels|Robert Duvall|Kevin ...</td>\n",
       "      <td>Ronald F. Maxwell</td>\n",
       "      <td>The nations heart was touched by...</td>\n",
       "      <td>The film centers mostly around the personal an...</td>\n",
       "      <td>214</td>\n",
       "      <td>Drama|History|War</td>\n",
       "      <td>Turner Pictures|Antietam Filmworks</td>\n",
       "      <td>2003-02-21</td>\n",
       "      <td>5.8</td>\n",
       "      <td>2003</td>\n",
       "    </tr>\n",
       "  </tbody>\n",
       "</table>\n",
       "</div>"
      ]
     },
     "metadata": {},
     "execution_count": 31
    }
   ],
   "metadata": {
    "colab": {},
    "colab_type": "code",
    "id": "ot-VX2XrVp-g"
   }
  },
  {
   "cell_type": "markdown",
   "source": [
    "# 3. Какой из фильмов самый короткий (в минутах)?\n",
    "\n",
    "\n",
    "\n"
   ],
   "metadata": {
    "colab_type": "text",
    "id": "bapLlpW8Vp-k"
   }
  },
  {
   "cell_type": "code",
   "execution_count": 33,
   "source": [
    "# находим самое маленькое количество минут (в соответствующей колонке) и показываем колонку с названием:\r\n",
    "data[(data.runtime == data.runtime.min())]"
   ],
   "outputs": [
    {
     "output_type": "execute_result",
     "data": {
      "text/plain": [
       "       imdb_id    budget   revenue   original_title  \\\n",
       "768  tt1449283  30000000  14460000  Winnie the Pooh   \n",
       "\n",
       "                                                  cast  \\\n",
       "768  Jim Cummings|Travis Oates|Jim Cummings|Bud Luc...   \n",
       "\n",
       "                      director   tagline  \\\n",
       "768  Stephen Anderson|Don Hall  Oh Pooh.   \n",
       "\n",
       "                                              overview  runtime  \\\n",
       "768  During an ordinary day in Hundred Acre Wood, W...       63   \n",
       "\n",
       "               genres                               production_companies  \\\n",
       "768  Animation|Family  Walt Disney Pictures|Walt Disney Animation Stu...   \n",
       "\n",
       "    release_date  vote_average  release_year  \n",
       "768   2011-04-13           6.8          2011  "
      ],
      "text/html": [
       "<div>\n",
       "<style scoped>\n",
       "    .dataframe tbody tr th:only-of-type {\n",
       "        vertical-align: middle;\n",
       "    }\n",
       "\n",
       "    .dataframe tbody tr th {\n",
       "        vertical-align: top;\n",
       "    }\n",
       "\n",
       "    .dataframe thead th {\n",
       "        text-align: right;\n",
       "    }\n",
       "</style>\n",
       "<table border=\"1\" class=\"dataframe\">\n",
       "  <thead>\n",
       "    <tr style=\"text-align: right;\">\n",
       "      <th></th>\n",
       "      <th>imdb_id</th>\n",
       "      <th>budget</th>\n",
       "      <th>revenue</th>\n",
       "      <th>original_title</th>\n",
       "      <th>cast</th>\n",
       "      <th>director</th>\n",
       "      <th>tagline</th>\n",
       "      <th>overview</th>\n",
       "      <th>runtime</th>\n",
       "      <th>genres</th>\n",
       "      <th>production_companies</th>\n",
       "      <th>release_date</th>\n",
       "      <th>vote_average</th>\n",
       "      <th>release_year</th>\n",
       "    </tr>\n",
       "  </thead>\n",
       "  <tbody>\n",
       "    <tr>\n",
       "      <th>768</th>\n",
       "      <td>tt1449283</td>\n",
       "      <td>30000000</td>\n",
       "      <td>14460000</td>\n",
       "      <td>Winnie the Pooh</td>\n",
       "      <td>Jim Cummings|Travis Oates|Jim Cummings|Bud Luc...</td>\n",
       "      <td>Stephen Anderson|Don Hall</td>\n",
       "      <td>Oh Pooh.</td>\n",
       "      <td>During an ordinary day in Hundred Acre Wood, W...</td>\n",
       "      <td>63</td>\n",
       "      <td>Animation|Family</td>\n",
       "      <td>Walt Disney Pictures|Walt Disney Animation Stu...</td>\n",
       "      <td>2011-04-13</td>\n",
       "      <td>6.8</td>\n",
       "      <td>2011</td>\n",
       "    </tr>\n",
       "  </tbody>\n",
       "</table>\n",
       "</div>"
      ]
     },
     "metadata": {},
     "execution_count": 33
    }
   ],
   "metadata": {
    "colab": {},
    "colab_type": "code",
    "id": "YBxaSHuAVp-l"
   }
  },
  {
   "cell_type": "code",
   "execution_count": 12,
   "source": [
    "answers[3] = '3. Winnie the Pooh (tt1449283)'"
   ],
   "outputs": [],
   "metadata": {}
  },
  {
   "cell_type": "markdown",
   "source": [
    "# 4. Какова средняя длительность фильмов?\n"
   ],
   "metadata": {
    "colab_type": "text",
    "id": "TfQbxbfNVp-p"
   }
  },
  {
   "cell_type": "code",
   "execution_count": 35,
   "source": [
    "# берем ту же колонку и вычисляем среднее\r\n",
    "data.runtime.mean()"
   ],
   "outputs": [
    {
     "output_type": "execute_result",
     "data": {
      "text/plain": [
       "109.6585494970884"
      ]
     },
     "metadata": {},
     "execution_count": 35
    }
   ],
   "metadata": {
    "colab": {},
    "colab_type": "code",
    "id": "5K6dKZYVVp-q"
   }
  },
  {
   "cell_type": "code",
   "execution_count": 13,
   "source": [
    "answers[4] = '2. 110'"
   ],
   "outputs": [],
   "metadata": {}
  },
  {
   "cell_type": "markdown",
   "source": [
    "# 5. Каково медианное значение длительности фильмов? "
   ],
   "metadata": {
    "colab_type": "text",
    "id": "r5TvbnT_Vp-u"
   }
  },
  {
   "cell_type": "code",
   "execution_count": 37,
   "source": [
    "# берем опять эту колонку и вычисляем медианное значение\r\n",
    "data.runtime.median()"
   ],
   "outputs": [
    {
     "output_type": "execute_result",
     "data": {
      "text/plain": [
       "107.0"
      ]
     },
     "metadata": {},
     "execution_count": 37
    }
   ],
   "metadata": {
    "colab": {},
    "colab_type": "code",
    "id": "iBROplKnVp-v"
   }
  },
  {
   "cell_type": "code",
   "execution_count": 14,
   "source": [
    "answers[5] = '1. 107'"
   ],
   "outputs": [],
   "metadata": {}
  },
  {
   "cell_type": "markdown",
   "source": [
    "# 6. Какой самый прибыльный фильм?\r\n",
    "#### Внимание! Здесь и далее под «прибылью» или «убытками» понимается разность между сборами и бюджетом фильма. (прибыль = сборы - бюджет) в нашем датасете это будет (profit = revenue - budget) "
   ],
   "metadata": {
    "colab_type": "text",
    "id": "39P-deDSVp-y"
   }
  },
  {
   "cell_type": "code",
   "execution_count": 46,
   "source": [
    "# Берем из Предобработки созданную там дополнительную колонку, и находим строчку с максимальным значение в ней.\r\n",
    "\r\n",
    "data[(data['profit'] == data.profit.max())]"
   ],
   "outputs": [
    {
     "output_type": "execute_result",
     "data": {
      "text/plain": [
       "       imdb_id     budget     revenue original_title  \\\n",
       "239  tt0499549  237000000  2781505847         Avatar   \n",
       "\n",
       "                                                  cast       director  \\\n",
       "239  Sam Worthington|Zoe Saldana|Sigourney Weaver|S...  James Cameron   \n",
       "\n",
       "                         tagline  \\\n",
       "239  Enter the World of Pandora.   \n",
       "\n",
       "                                              overview  runtime  \\\n",
       "239  In the 22nd century, a paraplegic Marine is di...      162   \n",
       "\n",
       "                                       genres  \\\n",
       "239  Action|Adventure|Fantasy|Science Fiction   \n",
       "\n",
       "                                  production_companies release_date  \\\n",
       "239  Ingenious Film Partners|Twentieth Century Fox ...   2009-12-10   \n",
       "\n",
       "     vote_average  release_year      profit  \n",
       "239           7.1          2009  2544505847  "
      ],
      "text/html": [
       "<div>\n",
       "<style scoped>\n",
       "    .dataframe tbody tr th:only-of-type {\n",
       "        vertical-align: middle;\n",
       "    }\n",
       "\n",
       "    .dataframe tbody tr th {\n",
       "        vertical-align: top;\n",
       "    }\n",
       "\n",
       "    .dataframe thead th {\n",
       "        text-align: right;\n",
       "    }\n",
       "</style>\n",
       "<table border=\"1\" class=\"dataframe\">\n",
       "  <thead>\n",
       "    <tr style=\"text-align: right;\">\n",
       "      <th></th>\n",
       "      <th>imdb_id</th>\n",
       "      <th>budget</th>\n",
       "      <th>revenue</th>\n",
       "      <th>original_title</th>\n",
       "      <th>cast</th>\n",
       "      <th>director</th>\n",
       "      <th>tagline</th>\n",
       "      <th>overview</th>\n",
       "      <th>runtime</th>\n",
       "      <th>genres</th>\n",
       "      <th>production_companies</th>\n",
       "      <th>release_date</th>\n",
       "      <th>vote_average</th>\n",
       "      <th>release_year</th>\n",
       "      <th>profit</th>\n",
       "    </tr>\n",
       "  </thead>\n",
       "  <tbody>\n",
       "    <tr>\n",
       "      <th>239</th>\n",
       "      <td>tt0499549</td>\n",
       "      <td>237000000</td>\n",
       "      <td>2781505847</td>\n",
       "      <td>Avatar</td>\n",
       "      <td>Sam Worthington|Zoe Saldana|Sigourney Weaver|S...</td>\n",
       "      <td>James Cameron</td>\n",
       "      <td>Enter the World of Pandora.</td>\n",
       "      <td>In the 22nd century, a paraplegic Marine is di...</td>\n",
       "      <td>162</td>\n",
       "      <td>Action|Adventure|Fantasy|Science Fiction</td>\n",
       "      <td>Ingenious Film Partners|Twentieth Century Fox ...</td>\n",
       "      <td>2009-12-10</td>\n",
       "      <td>7.1</td>\n",
       "      <td>2009</td>\n",
       "      <td>2544505847</td>\n",
       "    </tr>\n",
       "  </tbody>\n",
       "</table>\n",
       "</div>"
      ]
     },
     "metadata": {},
     "execution_count": 46
    }
   ],
   "metadata": {
    "colab": {},
    "colab_type": "code",
    "id": "UYZh4T9WVp-y"
   }
  },
  {
   "cell_type": "code",
   "execution_count": 16,
   "source": [
    "answers[6] = '5. Avatar (tt0499549)'"
   ],
   "outputs": [],
   "metadata": {}
  },
  {
   "cell_type": "markdown",
   "source": [
    "# 7. Какой фильм самый убыточный? "
   ],
   "metadata": {
    "colab_type": "text",
    "id": "M99JmIX4Vp-2"
   }
  },
  {
   "cell_type": "code",
   "execution_count": 48,
   "source": [
    "# также, только с минимальным значением в profit\r\n",
    "data[(data['profit'] == data.profit.min())]"
   ],
   "outputs": [
    {
     "output_type": "execute_result",
     "data": {
      "text/plain": [
       "        imdb_id     budget   revenue   original_title  \\\n",
       "1245  tt1210819  255000000  89289910  The Lone Ranger   \n",
       "\n",
       "                                                   cast        director  \\\n",
       "1245  Johnny Depp|Armie Hammer|William Fichtner|Hele...  Gore Verbinski   \n",
       "\n",
       "                      tagline  \\\n",
       "1245  Never Take Off the Mask   \n",
       "\n",
       "                                               overview  runtime  \\\n",
       "1245  The Texas Rangers chase down a gang of outlaws...      149   \n",
       "\n",
       "                        genres  \\\n",
       "1245  Action|Adventure|Western   \n",
       "\n",
       "                                   production_companies release_date  \\\n",
       "1245  Walt Disney Pictures|Jerry Bruckheimer Films|I...   2013-07-03   \n",
       "\n",
       "      vote_average  release_year     profit  \n",
       "1245           6.0          2013 -165710090  "
      ],
      "text/html": [
       "<div>\n",
       "<style scoped>\n",
       "    .dataframe tbody tr th:only-of-type {\n",
       "        vertical-align: middle;\n",
       "    }\n",
       "\n",
       "    .dataframe tbody tr th {\n",
       "        vertical-align: top;\n",
       "    }\n",
       "\n",
       "    .dataframe thead th {\n",
       "        text-align: right;\n",
       "    }\n",
       "</style>\n",
       "<table border=\"1\" class=\"dataframe\">\n",
       "  <thead>\n",
       "    <tr style=\"text-align: right;\">\n",
       "      <th></th>\n",
       "      <th>imdb_id</th>\n",
       "      <th>budget</th>\n",
       "      <th>revenue</th>\n",
       "      <th>original_title</th>\n",
       "      <th>cast</th>\n",
       "      <th>director</th>\n",
       "      <th>tagline</th>\n",
       "      <th>overview</th>\n",
       "      <th>runtime</th>\n",
       "      <th>genres</th>\n",
       "      <th>production_companies</th>\n",
       "      <th>release_date</th>\n",
       "      <th>vote_average</th>\n",
       "      <th>release_year</th>\n",
       "      <th>profit</th>\n",
       "    </tr>\n",
       "  </thead>\n",
       "  <tbody>\n",
       "    <tr>\n",
       "      <th>1245</th>\n",
       "      <td>tt1210819</td>\n",
       "      <td>255000000</td>\n",
       "      <td>89289910</td>\n",
       "      <td>The Lone Ranger</td>\n",
       "      <td>Johnny Depp|Armie Hammer|William Fichtner|Hele...</td>\n",
       "      <td>Gore Verbinski</td>\n",
       "      <td>Never Take Off the Mask</td>\n",
       "      <td>The Texas Rangers chase down a gang of outlaws...</td>\n",
       "      <td>149</td>\n",
       "      <td>Action|Adventure|Western</td>\n",
       "      <td>Walt Disney Pictures|Jerry Bruckheimer Films|I...</td>\n",
       "      <td>2013-07-03</td>\n",
       "      <td>6.0</td>\n",
       "      <td>2013</td>\n",
       "      <td>-165710090</td>\n",
       "    </tr>\n",
       "  </tbody>\n",
       "</table>\n",
       "</div>"
      ]
     },
     "metadata": {},
     "execution_count": 48
    }
   ],
   "metadata": {
    "colab": {},
    "colab_type": "code",
    "id": "w-D2m4XPVp-3"
   }
  },
  {
   "cell_type": "code",
   "execution_count": 17,
   "source": [
    "answers[7] = '5. The Lone Ranger (tt1210819)'"
   ],
   "outputs": [],
   "metadata": {}
  },
  {
   "cell_type": "markdown",
   "source": [
    "# 8. У скольких фильмов из датасета объем сборов оказался выше бюджета?"
   ],
   "metadata": {
    "colab_type": "text",
    "id": "wEOM5ERVVp-6"
   }
  },
  {
   "cell_type": "code",
   "execution_count": 53,
   "source": [
    "#  находим положительную прибыль и считаем кол-во строк (они здесь соответвуют кол-ву фильмов)\r\n",
    "data[(data['profit'] > 0)].profit.count()"
   ],
   "outputs": [
    {
     "output_type": "execute_result",
     "data": {
      "text/plain": [
       "1478"
      ]
     },
     "metadata": {},
     "execution_count": 53
    }
   ],
   "metadata": {
    "colab": {},
    "colab_type": "code",
    "id": "y00_7HD6Vp-7"
   }
  },
  {
   "cell_type": "code",
   "execution_count": 18,
   "source": [
    "answers[8] = '1. 1478'"
   ],
   "outputs": [],
   "metadata": {}
  },
  {
   "cell_type": "markdown",
   "source": [
    "# 9. Какой фильм оказался самым кассовым в 2008 году?"
   ],
   "metadata": {
    "colab_type": "text",
    "id": "xhpspA9KVp_A"
   }
  },
  {
   "cell_type": "markdown",
   "source": [
    "### Вариант 1"
   ],
   "metadata": {}
  },
  {
   "cell_type": "code",
   "execution_count": 445,
   "source": [
    "# Немного громоздко... В 2 этапа:\r\n",
    "\r\n",
    "# Создаем переменную с фильмами 2008 года, находим максимальную выручку\r\n",
    "q9 = data[(data['release_year'] == 2008)].revenue.max()\r\n",
    "q9"
   ],
   "outputs": [],
   "metadata": {}
  },
  {
   "cell_type": "code",
   "execution_count": 450,
   "source": [
    "# Находим строчку с этой выручкой и смотрим название фильма\r\n",
    "data[(data['revenue'] == q9)].original_title"
   ],
   "outputs": [
    {
     "output_type": "execute_result",
     "data": {
      "text/plain": [
       "599    The Dark Knight\n",
       "Name: original_title, dtype: object"
      ]
     },
     "metadata": {},
     "execution_count": 450
    }
   ],
   "metadata": {}
  },
  {
   "cell_type": "markdown",
   "source": [
    "### Вариант 2"
   ],
   "metadata": {}
  },
  {
   "cell_type": "code",
   "execution_count": 77,
   "source": [
    "# А так -- покомпактней...\r\n",
    "data[data['revenue'] == data[(data.release_year == 2008)].revenue.max()]"
   ],
   "outputs": [
    {
     "output_type": "execute_result",
     "data": {
      "text/plain": [
       "       imdb_id     budget     revenue   original_title  \\\n",
       "599  tt0468569  185000000  1001921825  The Dark Knight   \n",
       "\n",
       "                                                  cast           director  \\\n",
       "599  Christian Bale|Michael Caine|Heath Ledger|Aaro...  Christopher Nolan   \n",
       "\n",
       "             tagline                                           overview  \\\n",
       "599  Why So Serious?  Batman raises the stakes in his war on crime. ...   \n",
       "\n",
       "     runtime                       genres  \\\n",
       "599      152  Drama|Action|Crime|Thriller   \n",
       "\n",
       "                                  production_companies release_date  \\\n",
       "599  DC Comics|Legendary Pictures|Warner Bros.|Syncopy   2008-07-16   \n",
       "\n",
       "     vote_average  release_year     profit  \n",
       "599           8.1          2008  816921825  "
      ],
      "text/html": [
       "<div>\n",
       "<style scoped>\n",
       "    .dataframe tbody tr th:only-of-type {\n",
       "        vertical-align: middle;\n",
       "    }\n",
       "\n",
       "    .dataframe tbody tr th {\n",
       "        vertical-align: top;\n",
       "    }\n",
       "\n",
       "    .dataframe thead th {\n",
       "        text-align: right;\n",
       "    }\n",
       "</style>\n",
       "<table border=\"1\" class=\"dataframe\">\n",
       "  <thead>\n",
       "    <tr style=\"text-align: right;\">\n",
       "      <th></th>\n",
       "      <th>imdb_id</th>\n",
       "      <th>budget</th>\n",
       "      <th>revenue</th>\n",
       "      <th>original_title</th>\n",
       "      <th>cast</th>\n",
       "      <th>director</th>\n",
       "      <th>tagline</th>\n",
       "      <th>overview</th>\n",
       "      <th>runtime</th>\n",
       "      <th>genres</th>\n",
       "      <th>production_companies</th>\n",
       "      <th>release_date</th>\n",
       "      <th>vote_average</th>\n",
       "      <th>release_year</th>\n",
       "      <th>profit</th>\n",
       "    </tr>\n",
       "  </thead>\n",
       "  <tbody>\n",
       "    <tr>\n",
       "      <th>599</th>\n",
       "      <td>tt0468569</td>\n",
       "      <td>185000000</td>\n",
       "      <td>1001921825</td>\n",
       "      <td>The Dark Knight</td>\n",
       "      <td>Christian Bale|Michael Caine|Heath Ledger|Aaro...</td>\n",
       "      <td>Christopher Nolan</td>\n",
       "      <td>Why So Serious?</td>\n",
       "      <td>Batman raises the stakes in his war on crime. ...</td>\n",
       "      <td>152</td>\n",
       "      <td>Drama|Action|Crime|Thriller</td>\n",
       "      <td>DC Comics|Legendary Pictures|Warner Bros.|Syncopy</td>\n",
       "      <td>2008-07-16</td>\n",
       "      <td>8.1</td>\n",
       "      <td>2008</td>\n",
       "      <td>816921825</td>\n",
       "    </tr>\n",
       "  </tbody>\n",
       "</table>\n",
       "</div>"
      ]
     },
     "metadata": {},
     "execution_count": 77
    }
   ],
   "metadata": {}
  },
  {
   "cell_type": "code",
   "execution_count": 19,
   "source": [
    "answers[9] = '4. The Dark Knight (tt0468569)'"
   ],
   "outputs": [],
   "metadata": {}
  },
  {
   "cell_type": "markdown",
   "source": [
    "# 10. Самый убыточный фильм за период с 2012 по 2014 г. (включительно)?\n"
   ],
   "metadata": {
    "colab_type": "text",
    "id": "Zi4hDKidVp_F"
   }
  },
  {
   "cell_type": "code",
   "execution_count": 314,
   "source": [
    "# Находим по двум условиям нужный временной период и находим строку с минимумом столбца прибыли. \r\n",
    "# Прибыль глубоко отрицательная!\r\n",
    "\r\n",
    "data[data['profit'] == data[(data.release_year >= 2012) & (data.release_year <= 2014)].profit.min()]"
   ],
   "outputs": [
    {
     "output_type": "execute_result",
     "data": {
      "text/plain": [
       "        imdb_id     budget   revenue   original_title  \\\n",
       "1245  tt1210819  255000000  89289910  The Lone Ranger   \n",
       "\n",
       "                                                   cast        director  \\\n",
       "1245  Johnny Depp|Armie Hammer|William Fichtner|Hele...  Gore Verbinski   \n",
       "\n",
       "                      tagline  \\\n",
       "1245  Never Take Off the Mask   \n",
       "\n",
       "                                               overview  runtime  \\\n",
       "1245  The Texas Rangers chase down a gang of outlaws...      149   \n",
       "\n",
       "                        genres  \\\n",
       "1245  Action|Adventure|Western   \n",
       "\n",
       "                                   production_companies release_date  \\\n",
       "1245  Walt Disney Pictures|Jerry Bruckheimer Films|I...   2013-07-03   \n",
       "\n",
       "      vote_average  release_year     profit  \n",
       "1245           6.0          2013 -165710090  "
      ],
      "text/html": [
       "<div>\n",
       "<style scoped>\n",
       "    .dataframe tbody tr th:only-of-type {\n",
       "        vertical-align: middle;\n",
       "    }\n",
       "\n",
       "    .dataframe tbody tr th {\n",
       "        vertical-align: top;\n",
       "    }\n",
       "\n",
       "    .dataframe thead th {\n",
       "        text-align: right;\n",
       "    }\n",
       "</style>\n",
       "<table border=\"1\" class=\"dataframe\">\n",
       "  <thead>\n",
       "    <tr style=\"text-align: right;\">\n",
       "      <th></th>\n",
       "      <th>imdb_id</th>\n",
       "      <th>budget</th>\n",
       "      <th>revenue</th>\n",
       "      <th>original_title</th>\n",
       "      <th>cast</th>\n",
       "      <th>director</th>\n",
       "      <th>tagline</th>\n",
       "      <th>overview</th>\n",
       "      <th>runtime</th>\n",
       "      <th>genres</th>\n",
       "      <th>production_companies</th>\n",
       "      <th>release_date</th>\n",
       "      <th>vote_average</th>\n",
       "      <th>release_year</th>\n",
       "      <th>profit</th>\n",
       "    </tr>\n",
       "  </thead>\n",
       "  <tbody>\n",
       "    <tr>\n",
       "      <th>1245</th>\n",
       "      <td>tt1210819</td>\n",
       "      <td>255000000</td>\n",
       "      <td>89289910</td>\n",
       "      <td>The Lone Ranger</td>\n",
       "      <td>Johnny Depp|Armie Hammer|William Fichtner|Hele...</td>\n",
       "      <td>Gore Verbinski</td>\n",
       "      <td>Never Take Off the Mask</td>\n",
       "      <td>The Texas Rangers chase down a gang of outlaws...</td>\n",
       "      <td>149</td>\n",
       "      <td>Action|Adventure|Western</td>\n",
       "      <td>Walt Disney Pictures|Jerry Bruckheimer Films|I...</td>\n",
       "      <td>2013-07-03</td>\n",
       "      <td>6.0</td>\n",
       "      <td>2013</td>\n",
       "      <td>-165710090</td>\n",
       "    </tr>\n",
       "  </tbody>\n",
       "</table>\n",
       "</div>"
      ]
     },
     "metadata": {},
     "execution_count": 314
    }
   ],
   "metadata": {
    "colab": {},
    "colab_type": "code",
    "id": "XqyRmufJVp_F"
   }
  },
  {
   "cell_type": "code",
   "execution_count": 20,
   "source": [
    "answers[10] = '5. The Lone Ranger (tt1210819)'"
   ],
   "outputs": [],
   "metadata": {}
  },
  {
   "cell_type": "markdown",
   "source": [
    "# 11. Какого жанра фильмов больше всего?"
   ],
   "metadata": {
    "colab_type": "text",
    "id": "EA7Sa9dkVp_I"
   }
  },
  {
   "cell_type": "code",
   "execution_count": 119,
   "source": [
    "# Лидер чиcтых жанров - Comedy. Но посчитаем еще и внутри смежных\r\n",
    "data['genres'].value_counts().index[0]"
   ],
   "outputs": [
    {
     "output_type": "execute_result",
     "data": {
      "text/plain": [
       "'Comedy'"
      ]
     },
     "metadata": {},
     "execution_count": 119
    }
   ],
   "metadata": {}
  },
  {
   "cell_type": "markdown",
   "source": [
    "ВАРИАНТ 2"
   ],
   "metadata": {
    "colab_type": "text",
    "id": "Ax6g2C8SVp_M"
   }
  },
  {
   "cell_type": "code",
   "execution_count": 177,
   "source": [
    "# Объединяем все ячейки с жанрами через разделитель '|', который используется внутри ячеек. \r\n",
    "# А потом -- делим их тем же разделителем и собираем в новую серию. \r\n",
    "# Сортируем по количеству получившихся элементов. Берем первую пятерку полюбоваться.\r\n",
    "\r\n",
    "pd.Series(data['genres'].str.cat(sep='|').split('|')).value_counts()[:5]"
   ],
   "outputs": [
    {
     "output_type": "execute_result",
     "data": {
      "text/plain": [
       "Drama        782\n",
       "Comedy       683\n",
       "Thriller     596\n",
       "Action       582\n",
       "Adventure    415\n",
       "dtype: int64"
      ]
     },
     "metadata": {},
     "execution_count": 177
    }
   ],
   "metadata": {
    "colab": {},
    "colab_type": "code",
    "id": "otO3SbrSVp_N"
   }
  },
  {
   "cell_type": "code",
   "execution_count": 21,
   "source": [
    "answers[11] = '3. Drama'"
   ],
   "outputs": [],
   "metadata": {}
  },
  {
   "cell_type": "markdown",
   "source": [
    "# 12. Фильмы какого жанра чаще всего становятся прибыльными? "
   ],
   "metadata": {
    "colab_type": "text",
    "id": "T9_bPWpkVp_Q"
   }
  },
  {
   "cell_type": "code",
   "execution_count": 307,
   "source": [
    "# Отсеиваем только жанры с положительной прибылью.\r\n",
    "# Применяем к ним раздеоение по вертикальной черте, раскрываем содержимое сложных ячеек.\r\n",
    "# Считаем, сколько каких жанров у нас есть. И вывоодим первое (оно же максималное) значение.\r\n",
    "data[(data['profit'] > 0)].genres.apply(lambda s: str(s).split('|')).explode().value_counts().index[0]"
   ],
   "outputs": [
    {
     "output_type": "execute_result",
     "data": {
      "text/plain": [
       "'Drama'"
      ]
     },
     "metadata": {},
     "execution_count": 307
    }
   ],
   "metadata": {
    "colab": {},
    "colab_type": "code",
    "id": "Tmt8MaK1Vp_R"
   }
  },
  {
   "cell_type": "code",
   "execution_count": 22,
   "source": [
    "answers[12] = '1. Drama'"
   ],
   "outputs": [],
   "metadata": {}
  },
  {
   "cell_type": "markdown",
   "source": [
    "# 13. У какого режиссера самые большие суммарные кассовые сборы?"
   ],
   "metadata": {
    "colab_type": "text",
    "id": "0F23bgsDVp_U"
   }
  },
  {
   "cell_type": "code",
   "execution_count": 349,
   "source": [
    "# Группируем по режиссеру, суммируя. Оставляем бюджеты, сортируем по не-возрастанию, обращаемся к имени первого индекса.\r\n",
    "director_expl.groupby(['director']).sum().budget.sort_values(ascending=False).index[0]"
   ],
   "outputs": [
    {
     "output_type": "execute_result",
     "data": {
      "text/plain": [
       "'Peter Jackson'"
      ]
     },
     "metadata": {},
     "execution_count": 349
    }
   ],
   "metadata": {
    "colab": {},
    "colab_type": "code",
    "id": "K6Z3J8ygVp_X"
   }
  },
  {
   "cell_type": "code",
   "execution_count": 23,
   "source": [
    "answers[13] = '5. Peter Jackson'"
   ],
   "outputs": [],
   "metadata": {}
  },
  {
   "cell_type": "markdown",
   "source": [
    "# 14. Какой режисер снял больше всего фильмов в стиле Action?"
   ],
   "metadata": {
    "colab_type": "text",
    "id": "PsYC9FgRVp_a"
   }
  },
  {
   "cell_type": "code",
   "execution_count": 303,
   "source": [
    "# Отсеиваем только строки, содержащие (в ячейках столбца с жанрами) слово \"Action\".\r\n",
    "# Применяем к столбwe с режиссерами разделение сложных ячеек по вертикальной черте, раскрываем содержимое.\r\n",
    "# Считаем, сколько каких режиссеров у нас есть. И обращаемся к имени первого индекса.\r\n",
    "\r\n",
    "data[(data.genres.str.contains(\"Action\"))].director.apply(lambda s: str(s).split('|')).explode().value_counts().index[0]"
   ],
   "outputs": [
    {
     "output_type": "execute_result",
     "data": {
      "text/plain": [
       "'Robert Rodriguez'"
      ]
     },
     "metadata": {},
     "execution_count": 303
    }
   ],
   "metadata": {
    "colab": {},
    "colab_type": "code",
    "id": "wd2M-wHeVp_b"
   }
  },
  {
   "cell_type": "code",
   "execution_count": 24,
   "source": [
    "answers[14] = '3. Robert Rodriguez'"
   ],
   "outputs": [],
   "metadata": {}
  },
  {
   "cell_type": "markdown",
   "source": [
    "# 15. Фильмы с каким актером принесли самые высокие кассовые сборы в 2012 году? "
   ],
   "metadata": {
    "colab_type": "text",
    "id": "PQ0KciD7Vp_f"
   }
  },
  {
   "cell_type": "code",
   "execution_count": 352,
   "source": [
    "# Фильтруем по году, группируем по режиссеру, суммируя. оставляем кассовые сборы, сортируем по не-возрастанию, \r\n",
    "# обращаемся к имени первого индекса.\r\n",
    "cast_expl[(cast_expl.release_year == 2012)].groupby(['cast']).sum().revenue.sort_values(ascending=False).index[0]"
   ],
   "outputs": [
    {
     "output_type": "execute_result",
     "data": {
      "text/plain": [
       "'Chris Hemsworth'"
      ]
     },
     "metadata": {},
     "execution_count": 352
    }
   ],
   "metadata": {}
  },
  {
   "cell_type": "code",
   "execution_count": 25,
   "source": [
    "answers[15] = '3. Chris Hemsworth'"
   ],
   "outputs": [],
   "metadata": {}
  },
  {
   "cell_type": "markdown",
   "source": [
    "# 16. Какой актер снялся в большем количестве высокобюджетных фильмов?\r\n",
    "(где бюджет выше среднего)"
   ],
   "metadata": {
    "colab_type": "text",
    "id": "mWHyyL7QVp_j"
   }
  },
  {
   "cell_type": "code",
   "execution_count": 356,
   "source": [
    "# Берем датафрейм с обработанными актерами из Предобработки. \r\n",
    "# Отсеиваем строки с бюджетом выше среднего. \r\n",
    "# Берем столбец с актерами и считаем актеров!\r\n",
    "\r\n",
    "cast_expl[(cast_expl.budget > cast_expl.budget.mean())].cast.value_counts().index[0]"
   ],
   "outputs": [
    {
     "output_type": "execute_result",
     "data": {
      "text/plain": [
       "'Matt Damon'"
      ]
     },
     "metadata": {},
     "execution_count": 356
    }
   ],
   "metadata": {
    "colab": {},
    "colab_type": "code",
    "id": "qQtmHKTFVp_k"
   }
  },
  {
   "cell_type": "code",
   "execution_count": 26,
   "source": [
    "answers[16] = '3. Matt Damon'"
   ],
   "outputs": [],
   "metadata": {}
  },
  {
   "cell_type": "markdown",
   "source": [
    "# 17. В фильмах какого жанра больше всего снимался Nicolas Cage? "
   ],
   "metadata": {
    "colab_type": "text",
    "id": "NIh6AaW5Vp_n"
   }
  },
  {
   "cell_type": "code",
   "execution_count": 432,
   "source": [
    "# Берем датафрейм с обработанными жанрами из Предобработки. \r\n",
    "# Отсеиваем строки, содержащие искомого акттера. \r\n",
    "# Берем столбец с жанрами и тремя его любимыми (жанрми). Записываем верхнюю строчку.\r\n",
    "\r\n",
    "genres_expl[(genres_expl.cast.str.contains(\"Nicolas Cage\"))].genres.value_counts().head(3)"
   ],
   "outputs": [
    {
     "output_type": "execute_result",
     "data": {
      "text/plain": [
       "Action      17\n",
       "Thriller    15\n",
       "Drama       12\n",
       "Name: genres, dtype: int64"
      ]
     },
     "metadata": {},
     "execution_count": 432
    }
   ],
   "metadata": {
    "colab": {},
    "colab_type": "code",
    "id": "H74SJDIBVp_n"
   }
  },
  {
   "cell_type": "code",
   "execution_count": 27,
   "source": [
    "answers[17] = '2. Action'"
   ],
   "outputs": [],
   "metadata": {}
  },
  {
   "cell_type": "markdown",
   "source": [
    "# 18. Самый убыточный фильм от Paramount Pictures"
   ],
   "metadata": {
    "colab_type": "text",
    "id": "RqOmPRfWVp_q"
   }
  },
  {
   "cell_type": "markdown",
   "source": [
    "ВАРИАНТ 1"
   ],
   "metadata": {}
  },
  {
   "cell_type": "code",
   "execution_count": 454,
   "source": [
    "# Создаем переменную, в которой: строки содержат название искомой компании 9в соотвествующейм столбце,\r\n",
    "# находим максимальную прибыль.\r\n",
    "# Затем находим строчку со значением этой переменной и смотрим название фильма.\r\n",
    "\r\n",
    "q18 = data[(data.production_companies.str.contains(\"Paramount Pictures\"))].profit.min()\r\n",
    "data[(data['profit'] == q18)].original_title"
   ],
   "outputs": [
    {
     "output_type": "execute_result",
     "data": {
      "text/plain": [
       "925    K-19: The Widowmaker\n",
       "Name: original_title, dtype: object"
      ]
     },
     "metadata": {},
     "execution_count": 454
    }
   ],
   "metadata": {
    "colab": {},
    "colab_type": "code",
    "id": "9E_B0Y96Vp_r"
   }
  },
  {
   "cell_type": "markdown",
   "source": [
    "ВАРИАНТ 2"
   ],
   "metadata": {}
  },
  {
   "cell_type": "code",
   "execution_count": 459,
   "source": [
    "# Выбираем в нужной колонке нужную компанию, сортируем по столбцу прибыли, \r\n",
    "# а показываем столбец с названиями, выбирая в нем первую позицию.\r\n",
    "\r\n",
    "data[(data.production_companies.str.contains(\"Paramount Pictures\"))].sort_values(by='profit',ascending=True).original_title.iloc[0]\r\n"
   ],
   "outputs": [
    {
     "output_type": "execute_result",
     "data": {
      "text/plain": [
       "'K-19: The Widowmaker'"
      ]
     },
     "metadata": {},
     "execution_count": 459
    }
   ],
   "metadata": {}
  },
  {
   "cell_type": "code",
   "execution_count": 28,
   "source": [
    "answers[18] = '1. K-19: The Widowmaker (tt0267626)'"
   ],
   "outputs": [],
   "metadata": {}
  },
  {
   "cell_type": "markdown",
   "source": [
    "# 19. Какой год стал самым успешным по суммарным кассовым сборам?"
   ],
   "metadata": {
    "colab_type": "text",
    "id": "vS8Ur6ddVp_u"
   }
  },
  {
   "cell_type": "code",
   "execution_count": 482,
   "source": [
    "# Группируем по году, суммируя. Оставляем бюджеты, сортируем по не-возрастанию, обращаемся к имени первого индекса.\r\n",
    "data.groupby(['release_year']).sum().revenue.sort_values(ascending=False).index[0]"
   ],
   "outputs": [
    {
     "output_type": "execute_result",
     "data": {
      "text/plain": [
       "release_year\n",
       "2015    25449202382\n",
       "2014    23405862953\n",
       "2013    23213799791\n",
       "2012    23079001687\n",
       "2011    22676791872\n",
       "2010    21071204961\n",
       "2009    20261791024\n",
       "2008    18252781990\n",
       "2007    18162406801\n",
       "2004    15663430720\n",
       "2005    15309425558\n",
       "2006    14775042320\n",
       "2003    14346123312\n",
       "2002    14136361487\n",
       "2001    13017764865\n",
       "2000    10664099805\n",
       "Name: revenue, dtype: int64"
      ]
     },
     "metadata": {},
     "execution_count": 482
    }
   ],
   "metadata": {
    "colab": {},
    "colab_type": "code",
    "id": "Dnbt4GdIVp_v"
   }
  },
  {
   "cell_type": "code",
   "execution_count": 29,
   "source": [
    "answers[19] = '5. 2015'"
   ],
   "outputs": [],
   "metadata": {}
  },
  {
   "cell_type": "markdown",
   "source": [
    "# 20. Какой самый прибыльный год для студии Warner Bros?"
   ],
   "metadata": {
    "colab_type": "text",
    "id": "JAzJh4QAVp_z"
   }
  },
  {
   "cell_type": "code",
   "execution_count": 515,
   "source": [
    "# В переменную отбираем в нужном столбце нужную компанию, \r\n",
    "# Группируем все по году, суммируя профиты. \r\n",
    "# Сортируем по значениям (по не-возрастанию), берем нулевой индекс.\r\n",
    "\r\n",
    "warner = data[(data.production_companies.str.contains(\"Warner Bros\"))]\r\n",
    "warner.groupby([\"release_year\"]).profit.sum().sort_values(ascending=False).index[0]\r\n"
   ],
   "outputs": [
    {
     "output_type": "execute_result",
     "data": {
      "text/plain": [
       "2014"
      ]
     },
     "metadata": {},
     "execution_count": 515
    }
   ],
   "metadata": {
    "colab": {},
    "colab_type": "code",
    "id": "wgVu02DEVp_0"
   }
  },
  {
   "cell_type": "code",
   "execution_count": 30,
   "source": [
    "answers[20] = '1. 2014'"
   ],
   "outputs": [],
   "metadata": {}
  },
  {
   "cell_type": "markdown",
   "source": [
    "# 21. В каком месяце за все годы суммарно вышло больше всего фильмов?"
   ],
   "metadata": {
    "colab_type": "text",
    "id": "8Im1S2HRVp_4"
   }
  },
  {
   "cell_type": "code",
   "execution_count": 140,
   "source": [
    "# В заранее преобразованном столбце с датой берем только месяцы и считаем их. \r\n",
    "# Выводим нулевой индекс (с максимальным значением).\r\n",
    "\r\n",
    "data[\"release_date\"].dt.month.value_counts().index[0]"
   ],
   "outputs": [
    {
     "output_type": "execute_result",
     "data": {
      "text/plain": [
       "9"
      ]
     },
     "metadata": {},
     "execution_count": 140
    }
   ],
   "metadata": {
    "colab": {},
    "colab_type": "code",
    "id": "lev6TH7gVp_4"
   }
  },
  {
   "cell_type": "code",
   "execution_count": 31,
   "source": [
    "answers[21] = '4. Сентябрь'"
   ],
   "outputs": [],
   "metadata": {}
  },
  {
   "cell_type": "markdown",
   "source": [
    "# 22. Сколько суммарно вышло фильмов летом? (за июнь, июль, август)"
   ],
   "metadata": {
    "colab_type": "text",
    "id": "uAJsZ_NeVp_7"
   }
  },
  {
   "cell_type": "code",
   "execution_count": 155,
   "source": [
    "# В столбце с датой берем через оператор \"or\" только летние месяцы \r\n",
    "# и считаем количество строк, например, по названиям фильмов. \r\n",
    "\r\n",
    "data[(data.release_date.dt.month == 6) | (data.release_date.dt.month == 7) | (data.release_date.dt.month == 8)].original_title.count()\r\n"
   ],
   "outputs": [
    {
     "output_type": "execute_result",
     "data": {
      "text/plain": [
       "450"
      ]
     },
     "metadata": {},
     "execution_count": 155
    }
   ],
   "metadata": {
    "colab": {},
    "colab_type": "code",
    "id": "Aa-hEREoVp_8"
   }
  },
  {
   "cell_type": "code",
   "execution_count": 32,
   "source": [
    "answers[22] = '2. 450'"
   ],
   "outputs": [],
   "metadata": {}
  },
  {
   "cell_type": "markdown",
   "source": [
    "# 23. Для какого режиссера зима – самое продуктивное время года? "
   ],
   "metadata": {
    "colab_type": "text",
    "id": "G94ppOY1VqAA"
   }
  },
  {
   "cell_type": "code",
   "execution_count": 94,
   "source": [
    "# Выбираем зимние месяцы, выделяем колонку с режиссерами и считаем кол-во фильмов по каждому режиссеру.\r\n",
    "\r\n",
    "director_expl[(director_expl.release_date.dt.month == 12) | (director_expl.release_date.dt.month == 1) | (director_expl.release_date.dt.month == 2)].director.value_counts().index[0]"
   ],
   "outputs": [
    {
     "output_type": "execute_result",
     "data": {
      "text/plain": [
       "'Peter Jackson'"
      ]
     },
     "metadata": {},
     "execution_count": 94
    }
   ],
   "metadata": {
    "colab": {},
    "colab_type": "code",
    "id": "RhNTsamuVqAB"
   }
  },
  {
   "cell_type": "code",
   "execution_count": 33,
   "source": [
    "answers[23] = '5. Peter Jackson'"
   ],
   "outputs": [],
   "metadata": {}
  },
  {
   "cell_type": "markdown",
   "source": [
    "# 24. Какая студия дает самые длинные названия своим фильмам по количеству символов?"
   ],
   "metadata": {
    "colab_type": "text",
    "id": "RBo0JVjVVqAF"
   }
  },
  {
   "cell_type": "code",
   "execution_count": 86,
   "source": [
    "# Посчитаем среднее значение кол-ва символов по всем фильмам компаний.\r\n",
    "\r\n",
    "# Добавляем колонку с длинной строк по колонке с названиями. Группируем по компаниям, применяя среднее.\r\n",
    "# Сортируем по добавленной колонке. Берем нулевой индекс. \r\n",
    "\r\n",
    "production_companies_expl['orig_title_length'] = production_companies_expl.original_title.apply(lambda x: len(x))\r\n",
    "production_companies_expl.groupby(['production_companies']).mean().sort_values(by='orig_title_length', ascending=False).index[0]\r\n"
   ],
   "outputs": [
    {
     "output_type": "execute_result",
     "data": {
      "text/plain": [
       "'Four By Two Productions'"
      ]
     },
     "metadata": {},
     "execution_count": 86
    }
   ],
   "metadata": {
    "colab": {},
    "colab_type": "code",
    "id": "QRGS8L0iVqAG"
   }
  },
  {
   "cell_type": "code",
   "execution_count": 65,
   "source": [
    "# А у этой компании всего один фильм!\r\n",
    "production_companies_expl[(production_companies_expl.production_companies == 'Four By Two Productions')]"
   ],
   "outputs": [
    {
     "output_type": "execute_result",
     "data": {
      "text/plain": [
       "        imdb_id    budget    revenue  \\\n",
       "1448  tt0443453  18000000  261572744   \n",
       "\n",
       "                                         original_title  \\\n",
       "1448  Borat: Cultural Learnings of America for Make ...   \n",
       "\n",
       "                                                   cast       director  \\\n",
       "1448  Sacha Baron Cohen|Ken Davitian|Luenell|Pamela ...  Larry Charles   \n",
       "\n",
       "                             tagline  \\\n",
       "1448  Come to Kazakhstan, it's nice!   \n",
       "\n",
       "                                               overview  runtime  genres  \\\n",
       "1448  Kazakh journalist Borat Sagdiyev travels to Am...       82  Comedy   \n",
       "\n",
       "         production_companies release_date  vote_average  release_year  \\\n",
       "1448  Four By Two Productions   2006-11-02           6.4          2006   \n",
       "\n",
       "         profit  orig_title_length  \n",
       "1448  243572744                 83  "
      ],
      "text/html": [
       "<div>\n",
       "<style scoped>\n",
       "    .dataframe tbody tr th:only-of-type {\n",
       "        vertical-align: middle;\n",
       "    }\n",
       "\n",
       "    .dataframe tbody tr th {\n",
       "        vertical-align: top;\n",
       "    }\n",
       "\n",
       "    .dataframe thead th {\n",
       "        text-align: right;\n",
       "    }\n",
       "</style>\n",
       "<table border=\"1\" class=\"dataframe\">\n",
       "  <thead>\n",
       "    <tr style=\"text-align: right;\">\n",
       "      <th></th>\n",
       "      <th>imdb_id</th>\n",
       "      <th>budget</th>\n",
       "      <th>revenue</th>\n",
       "      <th>original_title</th>\n",
       "      <th>cast</th>\n",
       "      <th>director</th>\n",
       "      <th>tagline</th>\n",
       "      <th>overview</th>\n",
       "      <th>runtime</th>\n",
       "      <th>genres</th>\n",
       "      <th>production_companies</th>\n",
       "      <th>release_date</th>\n",
       "      <th>vote_average</th>\n",
       "      <th>release_year</th>\n",
       "      <th>profit</th>\n",
       "      <th>orig_title_length</th>\n",
       "    </tr>\n",
       "  </thead>\n",
       "  <tbody>\n",
       "    <tr>\n",
       "      <th>1448</th>\n",
       "      <td>tt0443453</td>\n",
       "      <td>18000000</td>\n",
       "      <td>261572744</td>\n",
       "      <td>Borat: Cultural Learnings of America for Make ...</td>\n",
       "      <td>Sacha Baron Cohen|Ken Davitian|Luenell|Pamela ...</td>\n",
       "      <td>Larry Charles</td>\n",
       "      <td>Come to Kazakhstan, it's nice!</td>\n",
       "      <td>Kazakh journalist Borat Sagdiyev travels to Am...</td>\n",
       "      <td>82</td>\n",
       "      <td>Comedy</td>\n",
       "      <td>Four By Two Productions</td>\n",
       "      <td>2006-11-02</td>\n",
       "      <td>6.4</td>\n",
       "      <td>2006</td>\n",
       "      <td>243572744</td>\n",
       "      <td>83</td>\n",
       "    </tr>\n",
       "  </tbody>\n",
       "</table>\n",
       "</div>"
      ]
     },
     "metadata": {},
     "execution_count": 65
    }
   ],
   "metadata": {}
  },
  {
   "cell_type": "code",
   "execution_count": 76,
   "source": [
    "# Вот этот фильм:\r\n",
    "data.iloc[1448]['original_title']"
   ],
   "outputs": [
    {
     "output_type": "execute_result",
     "data": {
      "text/plain": [
       "'Borat: Cultural Learnings of America for Make Benefit Glorious Nation of Kazakhstan'"
      ]
     },
     "metadata": {},
     "execution_count": 76
    }
   ],
   "metadata": {}
  },
  {
   "cell_type": "code",
   "execution_count": 77,
   "source": [
    "answers[24] = '5. Four By Two Productions'"
   ],
   "outputs": [],
   "metadata": {}
  },
  {
   "cell_type": "markdown",
   "source": [
    "# 25. Описание фильмов какой студии в среднем самые длинные по количеству слов?"
   ],
   "metadata": {
    "colab_type": "text",
    "id": "9G0hbvR7VqAK"
   }
  },
  {
   "cell_type": "code",
   "execution_count": 91,
   "source": [
    "# Добавляем колонку с длинной строк по колонке с названиями. Группируем по компаниям, применяя среднее.\r\n",
    "# Сортируем по добавленной колонке. Берем колонку с компаниями. \r\n",
    "\r\n",
    "production_companies_expl['overview_words_num'] = production_companies_expl.overview.apply(lambda x: len(str.split(x)))\r\n",
    "production_companies_expl.groupby(['production_companies']).mean().sort_values(by='overview_words_num', ascending=False).index[0]\r\n"
   ],
   "outputs": [
    {
     "output_type": "execute_result",
     "data": {
      "text/plain": [
       "'Midnight Picture Show'"
      ]
     },
     "metadata": {},
     "execution_count": 91
    }
   ],
   "metadata": {
    "colab": {},
    "colab_type": "code",
    "id": "Ge2GsLNxVqAK"
   }
  },
  {
   "cell_type": "code",
   "execution_count": 92,
   "source": [
    "answers[25] = '3. Midnight Picture Show'"
   ],
   "outputs": [],
   "metadata": {}
  },
  {
   "cell_type": "markdown",
   "source": [
    "# 26. Какие фильмы входят в 1 процент лучших по рейтингу? \n",
    "по vote_average"
   ],
   "metadata": {
    "colab_type": "text",
    "id": "FJ1AFt90VqAP"
   }
  },
  {
   "cell_type": "code",
   "execution_count": 205,
   "source": [
    "# Находим верхнюю границу в 1%.\r\n",
    "# А затем по ней фильтруем фильмы, у которых рейтинг выше нее.\r\n",
    "# Берем столбец с названиями.\r\n",
    "\r\n",
    "data[(data['vote_average'] > data.quantile(0.99, numeric_only=True)['vote_average'])].original_title"
   ],
   "outputs": [
    {
     "output_type": "execute_result",
     "data": {
      "text/plain": [
       "9                                          Inside Out\n",
       "34                                               Room\n",
       "118                                      Interstellar\n",
       "119                           Guardians of the Galaxy\n",
       "125                                The Imitation Game\n",
       "128                                         Gone Girl\n",
       "138                          The Grand Budapest Hotel\n",
       "370                                         Inception\n",
       "599                                   The Dark Knight\n",
       "872                                       The Pianist\n",
       "1081    The Lord of the Rings: The Return of the King\n",
       "1183                          The Wolf of Wall Street\n",
       "1191                                 12 Years a Slave\n",
       "1800                                          Memento\n",
       "Name: original_title, dtype: object"
      ]
     },
     "metadata": {},
     "execution_count": 205
    }
   ],
   "metadata": {
    "colab": {},
    "colab_type": "code",
    "id": "8qmJVq4CVqAQ"
   }
  },
  {
   "cell_type": "code",
   "execution_count": 34,
   "source": [
    "answers[26] = '1. Inside Out, The Dark Knight, 12 Years a Slave'"
   ],
   "outputs": [],
   "metadata": {}
  },
  {
   "cell_type": "markdown",
   "source": [
    "# 27. Какие актеры чаще всего снимаются в одном фильме вместе?\n"
   ],
   "metadata": {
    "colab_type": "text",
    "id": "MdXsUXbCVqAV"
   }
  },
  {
   "cell_type": "code",
   "execution_count": 172,
   "source": [
    "\r\n",
    "# Создаем переменную, в  которой будет актерский столбец с превращенными в список ячейками.\r\n",
    "# Делаем в кажой ячейке комбинации актеров, сортируя. Суммируем значения ячеек.\r\n",
    "# Помещаем все это в Counter и находим самые сладкие парочки!\r\n",
    "\r\n",
    "\r\n",
    "cast_pairs = data[\"cast\"].apply(lambda s: str(s).split('|')).apply(lambda i: list(combinations(sorted(i), 2))).values.sum()\r\n",
    "#cast_pairs.iloc[0]\r\n",
    "\r\n",
    "# Считаем ,сколько раз, та или иная пара присутствует в датасете (т.е. получим количество фильмов, \r\n",
    "# в которых снималась отдельно взятая пара). Можно это сделать 2 способами:\r\n",
    "# 1. explode + value_counts \r\n",
    "# 2. конкатенация значений всех ячеек столбца cast + передача результата в Counter\r\n",
    "\r\n",
    "\r\n",
    "Counter(cast_pairs).most_common(5)"
   ],
   "outputs": [
    {
     "output_type": "execute_result",
     "data": {
      "text/plain": [
       "[(('Daniel Radcliffe', 'Emma Watson'), 8),\n",
       " (('Daniel Radcliffe', 'Rupert Grint'), 8),\n",
       " (('Emma Watson', 'Rupert Grint'), 8),\n",
       " (('Ben Stiller', 'Owen Wilson'), 6),\n",
       " (('Helena Bonham Carter', 'Johnny Depp'), 6)]"
      ]
     },
     "metadata": {},
     "execution_count": 172
    }
   ],
   "metadata": {}
  },
  {
   "cell_type": "code",
   "execution_count": null,
   "source": [
    "answers[27] = '5. Daniel Radcliffe & Rupert Grint'"
   ],
   "outputs": [],
   "metadata": {}
  },
  {
   "cell_type": "markdown",
   "source": [
    "# Submission"
   ],
   "metadata": {
    "colab_type": "text",
    "id": "U0nONFnGVqAX"
   }
  },
  {
   "cell_type": "code",
   "execution_count": 95,
   "source": [
    "# в конце можно посмотреть свои ответы к каждому вопросу\r\n",
    "\r\n",
    "#OrderedDict(answers)\r\n",
    "#answers\r\n",
    "pd.Series(answers).sort_index()\r\n"
   ],
   "outputs": [
    {
     "output_type": "execute_result",
     "data": {
      "text/plain": [
       "1     5. Pirates of the Caribbean: On Stranger Tides...\n",
       "2                      2. Gods and Generals (tt0279111)\n",
       "3                        3. Winnie the Pooh (tt1449283)\n",
       "4                                                2. 110\n",
       "5                                                1. 107\n",
       "6                                 5. Avatar (tt0499549)\n",
       "7                        5. The Lone Ranger (tt1210819)\n",
       "8                                               1. 1478\n",
       "9                        4. The Dark Knight (tt0468569)\n",
       "10                       5. The Lone Ranger (tt1210819)\n",
       "11                                             3. Drama\n",
       "12                                             1. Drama\n",
       "13                                     5. Peter Jackson\n",
       "14                                  3. Robert Rodriguez\n",
       "15                                   3. Chris Hemsworth\n",
       "16                                        3. Matt Damon\n",
       "17                                            2. Action\n",
       "18                  1. K-19: The Widowmaker (tt0267626)\n",
       "19                                              5. 2015\n",
       "20                                              1. 2014\n",
       "21                                          4. Сентябрь\n",
       "22                                               2. 450\n",
       "23                                     5. Peter Jackson\n",
       "24                           5. Four By Two Productions\n",
       "25                             3. Midnight Picture Show\n",
       "26     1. Inside Out, The Dark Knight, 12 Years a Slave\n",
       "dtype: object"
      ]
     },
     "metadata": {},
     "execution_count": 95
    }
   ],
   "metadata": {
    "colab": {},
    "colab_type": "code",
    "id": "IfcaRO9-VqAX",
    "outputId": "0f132912-32bb-4196-c98c-abfbc4ad5a5f"
   }
  },
  {
   "cell_type": "code",
   "execution_count": 8,
   "source": [
    "# и убедиться что ни чего не пропустил)\r\n",
    "len(answers)"
   ],
   "outputs": [
    {
     "output_type": "execute_result",
     "data": {
      "text/plain": [
       "0"
      ]
     },
     "metadata": {},
     "execution_count": 8
    }
   ],
   "metadata": {
    "colab": {},
    "colab_type": "code",
    "id": "SiRmHPl8VqAd"
   }
  },
  {
   "cell_type": "code",
   "execution_count": null,
   "source": [],
   "outputs": [],
   "metadata": {
    "colab": {},
    "colab_type": "code",
    "id": "uCfuTkRbVqAg"
   }
  },
  {
   "cell_type": "code",
   "execution_count": null,
   "source": [],
   "outputs": [],
   "metadata": {
    "colab": {},
    "colab_type": "code",
    "id": "Vwx3NrkSVqAl"
   }
  }
 ],
 "metadata": {
  "colab": {
   "name": "Copy of [SF-DST] Movies IMBD v4.1 TEMPLATE.ipynb",
   "provenance": []
  },
  "kernelspec": {
   "name": "python3",
   "display_name": "Python 3.8.10 64-bit"
  },
  "language_info": {
   "codemirror_mode": {
    "name": "ipython",
    "version": 3
   },
   "file_extension": ".py",
   "mimetype": "text/x-python",
   "name": "python",
   "nbconvert_exporter": "python",
   "pygments_lexer": "ipython3",
   "version": "3.8.10"
  },
  "interpreter": {
   "hash": "f02fb288e9e13474db4fd5fd38c84c5382eacb3e137593b9330de498f295f2ac"
  }
 },
 "nbformat": 4,
 "nbformat_minor": 1
}